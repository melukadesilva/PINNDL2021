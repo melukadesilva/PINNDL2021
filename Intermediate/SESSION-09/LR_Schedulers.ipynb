{
  "nbformat": 4,
  "nbformat_minor": 0,
  "metadata": {
    "colab": {
      "name": "LR_Schedulers.ipynb",
      "provenance": [],
      "collapsed_sections": []
    },
    "kernelspec": {
      "name": "python3",
      "display_name": "Python 3"
    },
    "language_info": {
      "name": "python"
    }
  },
  "cells": [
    {
      "cell_type": "markdown",
      "source": [
        "### https://d2l.ai/chapter_optimization/lr-scheduler.html"
      ],
      "metadata": {
        "id": "XPzx_8BDxC2u"
      }
    },
    {
      "cell_type": "code",
      "source": [
        "import numpy as np\n",
        "import matplotlib.pyplot as plt\n",
        "import math"
      ],
      "metadata": {
        "id": "YweJrv_FJlpU"
      },
      "execution_count": null,
      "outputs": []
    },
    {
      "cell_type": "markdown",
      "source": [
        "### Polynomial Decay: \n",
        "### $\\eta_t = \\eta_0 * (t+1)^\\frac {1}{2}$"
      ],
      "metadata": {
        "id": "s7e-xAa0KW_w"
      }
    },
    {
      "cell_type": "code",
      "execution_count": null,
      "metadata": {
        "id": "iMYXiIe3Ji_J"
      },
      "outputs": [],
      "source": [
        "class SquareRootScheduler:\n",
        "    def __init__(self, lr=0.1):\n",
        "        self.lr = lr\n",
        "\n",
        "    def __call__(self, num_update):\n",
        "        return self.lr * (num_update + 1.0) ** -0.5"
      ]
    },
    {
      "cell_type": "code",
      "source": [
        "y = np.arange(0, 300, 1)"
      ],
      "metadata": {
        "id": "V7A-w5xHJozN"
      },
      "execution_count": null,
      "outputs": []
    },
    {
      "cell_type": "code",
      "source": [
        "lrs = SquareRootScheduler(lr=0.3)\n",
        "x_list_src = list()\n",
        "for i in range(len(y)):\n",
        "  x_list_src.append(lrs(y[i]))"
      ],
      "metadata": {
        "id": "GuhwLDQGJsur"
      },
      "execution_count": null,
      "outputs": []
    },
    {
      "cell_type": "code",
      "source": [
        "plt.plot(y,x_list_src)\n",
        "plt.show()"
      ],
      "metadata": {
        "colab": {
          "base_uri": "https://localhost:8080/",
          "height": 265
        },
        "id": "DMXUfZ9aJ8tb",
        "outputId": "6e1bcc35-f9e0-41ae-a2cc-e0c954adcae9"
      },
      "execution_count": null,
      "outputs": [
        {
          "output_type": "display_data",
          "data": {
            "image/png": "[encoded data removed]",
            "text/plain": [
              "<Figure size 432x288 with 1 Axes>"
            ]
          },
          "metadata": {
            "needs_background": "light"
          }
        }
      ]
    },
    {
      "cell_type": "markdown",
      "source": [
        "### Factor schedular: \n",
        "### $\\eta_{t+1} = \\eta_t * \\alpha$\n",
        "### check for a lower bound of LR: $\\eta_{t+1} = max(\\eta_{min}, \\eta_t * \\alpha)$"
      ],
      "metadata": {
        "id": "l-RPD00hLKCR"
      }
    },
    {
      "cell_type": "code",
      "source": [
        "class FactorScheduler:\n",
        "    def __init__(self, factor=1, stop_factor_lr=1e-7, base_lr=0.1):\n",
        "        self.factor = factor\n",
        "        self.stop_factor_lr = stop_factor_lr\n",
        "        self.base_lr = base_lr\n",
        "\n",
        "    def __call__(self, num_update):\n",
        "        self.base_lr = max(self.stop_factor_lr, self.base_lr * self.factor)\n",
        "        return self.base_lr"
      ],
      "metadata": {
        "id": "venKR09XKJ-k"
      },
      "execution_count": null,
      "outputs": []
    },
    {
      "cell_type": "code",
      "source": [
        "lrs = FactorScheduler(factor=0.9, stop_factor_lr=1e-2, base_lr=0.3)"
      ],
      "metadata": {
        "id": "IRBSUMq8LnfW"
      },
      "execution_count": null,
      "outputs": []
    },
    {
      "cell_type": "code",
      "source": [
        "x_list_fs = list()\n",
        "for i in range(len(y)):\n",
        "  x_list_fs.append(lrs(y[i]))"
      ],
      "metadata": {
        "id": "tXGWdGpaLrjZ"
      },
      "execution_count": null,
      "outputs": []
    },
    {
      "cell_type": "code",
      "source": [
        "plt.plot(y,x_list_fs)\n",
        "plt.show()"
      ],
      "metadata": {
        "colab": {
          "base_uri": "https://localhost:8080/",
          "height": 265
        },
        "id": "XSaKq6eFLus9",
        "outputId": "b84fc249-0286-4fb0-f934-e6770e3f1b4a"
      },
      "execution_count": null,
      "outputs": [
        {
          "output_type": "display_data",
          "data": {
            "image/png": "[encoded data removed]",
            "text/plain": [
              "<Figure size 432x288 with 1 Axes>"
            ]
          },
          "metadata": {
            "needs_background": "light"
          }
        }
      ]
    },
    {
      "cell_type": "markdown",
      "source": [
        "### Multifactor Scheduler\n",
        "### Reduce the learning rate at the given steps\n",
        "### $S = \\{10, 20, 30\\}$\n",
        "### $\\eta_{t+1} = \\eta_t * \\alpha$ where $t \\in S$"
      ],
      "metadata": {
        "id": "Q6afeTKdMLF0"
      }
    },
    {
      "cell_type": "code",
      "source": [
        "class MultiFactorScheduler:\n",
        "    def __init__(self, step, factor, base_lr):\n",
        "        self.step = step\n",
        "        self.factor = factor\n",
        "        self.base_lr = base_lr\n",
        "\n",
        "    def __call__(self, epoch):\n",
        "        if epoch in self.step:\n",
        "            self.base_lr = self.base_lr * self.factor\n",
        "            return self.base_lr\n",
        "        else:\n",
        "            return self.base_lr"
      ],
      "metadata": {
        "id": "9-w8z4AQL3J1"
      },
      "execution_count": null,
      "outputs": []
    },
    {
      "cell_type": "code",
      "source": [
        "lrs = MultiFactorScheduler(step=[100, 150], factor=0.5, base_lr=0.3)"
      ],
      "metadata": {
        "id": "7CeGIf-4M4tt"
      },
      "execution_count": null,
      "outputs": []
    },
    {
      "cell_type": "code",
      "source": [
        "x_list_mfs = list()\n",
        "for i in range(len(y)):\n",
        "  x_list_mfs.append(lrs(y[i]))"
      ],
      "metadata": {
        "id": "-ilVRNCnNACJ"
      },
      "execution_count": null,
      "outputs": []
    },
    {
      "cell_type": "code",
      "source": [
        "plt.plot(y,x_list_mfs)\n",
        "plt.show()"
      ],
      "metadata": {
        "colab": {
          "base_uri": "https://localhost:8080/",
          "height": 265
        },
        "id": "w8-zyndxNEYO",
        "outputId": "dc64055d-4efc-457c-b18b-26ac7b19a115"
      },
      "execution_count": null,
      "outputs": [
        {
          "output_type": "display_data",
          "data": {
            "image/png": "[encoded data removed]",
            "text/plain": [
              "<Figure size 432x288 with 1 Axes>"
            ]
          },
          "metadata": {
            "needs_background": "light"
          }
        }
      ]
    },
    {
      "cell_type": "markdown",
      "source": [
        "### Cosine scheduler\n",
        "### Specially in image processing, it is better to have a slow reduction in LR at the beginning and faster decay later\n",
        "### For a given number of epochs $T$, compute the LR as:\n",
        "### $\\eta_{t+1} = \\eta_T + \\frac {\\eta_0 - \\eta_t}{2}(1+cos(\\frac{\\pi t}{T}))$ where $t \\in [0, T]$ \n"
      ],
      "metadata": {
        "id": "w7CJwsZjOPQS"
      }
    },
    {
      "cell_type": "code",
      "source": [
        "class CosineScheduler:\n",
        "    def __init__(self, max_update, base_lr=0.01, final_lr=0,\n",
        "               warmup_steps=0, warmup_begin_lr=0):\n",
        "        self.base_lr_orig = base_lr\n",
        "        self.max_update = max_update\n",
        "        self.final_lr = final_lr\n",
        "        self.warmup_steps = warmup_steps\n",
        "        self.warmup_begin_lr = warmup_begin_lr\n",
        "        self.max_steps = self.max_update - self.warmup_steps\n",
        "\n",
        "    def get_warmup_lr(self, epoch):\n",
        "        increase = (self.base_lr_orig - self.warmup_begin_lr) \\\n",
        "                       * float(epoch) / float(self.warmup_steps)\n",
        "        return self.warmup_begin_lr + increase\n",
        "\n",
        "    def __call__(self, epoch):\n",
        "      if epoch < self.warmup_steps:\n",
        "        return self.get_warmup_lr(epoch)\n",
        "      if epoch <= self.max_update:\n",
        "        self.base_lr = self.final_lr + (\n",
        "                          self.base_lr_orig - self.final_lr) * (1 + math.cos(\n",
        "                          math.pi * (epoch - self.warmup_steps) / self.max_steps)) / 2\n",
        "        return self.base_lr"
      ],
      "metadata": {
        "id": "2v0Yl0HDNHU3"
      },
      "execution_count": null,
      "outputs": []
    },
    {
      "cell_type": "code",
      "source": [
        "lrs = CosineScheduler(max_update=300, base_lr=0.3, final_lr=0.01)"
      ],
      "metadata": {
        "id": "HjKa8X96PRxs"
      },
      "execution_count": null,
      "outputs": []
    },
    {
      "cell_type": "code",
      "source": [
        "x_list_csh = list()\n",
        "for i in range(len(y)):\n",
        "  x_list_csh.append(lrs(y[i]))"
      ],
      "metadata": {
        "id": "uljVOA_BPTxg"
      },
      "execution_count": null,
      "outputs": []
    },
    {
      "cell_type": "code",
      "source": [
        "plt.plot(y,x_list_csh)\n",
        "plt.show()"
      ],
      "metadata": {
        "colab": {
          "base_uri": "https://localhost:8080/",
          "height": 265
        },
        "id": "a3LABzXJPYvK",
        "outputId": "6f37b2a1-0e3f-4148-aa15-1fa2020e9b72"
      },
      "execution_count": null,
      "outputs": [
        {
          "output_type": "display_data",
          "data": {
            "image/png": "[encoded data removed]",
            "text/plain": [
              "<Figure size 432x288 with 1 Axes>"
            ]
          },
          "metadata": {
            "needs_background": "light"
          }
        }
      ]
    },
    {
      "cell_type": "code",
      "source": [
        "plt.plot(y,x_list_fs)\n",
        "plt.plot(y,x_list_mfs)\n",
        "plt.plot(y,x_list_src)\n",
        "plt.plot(y,x_list_csh)\n",
        "plt.show()"
      ],
      "metadata": {
        "colab": {
          "base_uri": "https://localhost:8080/",
          "height": 265
        },
        "id": "OLcXIIHsPnba",
        "outputId": "9a643290-fdf3-486c-909c-f71a594dcf75"
      },
      "execution_count": null,
      "outputs": [
        {
          "output_type": "display_data",
          "data": {
            "image/png": "[encoded data removed]",
            "text/plain": [
              "<Figure size 432x288 with 1 Axes>"
            ]
          },
          "metadata": {
            "needs_background": "light"
          }
        }
      ]
    },
    {
      "cell_type": "code",
      "source": [
        "\n"
      ],
      "metadata": {
        "id": "WJtB49AeQm1E"
      },
      "execution_count": null,
      "outputs": []
    }
  ]
}