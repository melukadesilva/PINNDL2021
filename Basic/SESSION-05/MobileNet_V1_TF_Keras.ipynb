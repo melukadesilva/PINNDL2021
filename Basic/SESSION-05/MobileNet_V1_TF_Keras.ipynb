{
  "nbformat": 4,
  "nbformat_minor": 0,
  "metadata": {
    "colab": {
      "name": "MobileNet_V1_TF_Keras.ipynb",
      "provenance": [],
      "collapsed_sections": []
    },
    "kernelspec": {
      "name": "python3",
      "display_name": "Python 3"
    },
    "language_info": {
      "name": "python"
    }
  },
  "cells": [
    {
      "cell_type": "code",
      "metadata": {
        "id": "mpZ7cVtfr3gd"
      },
      "source": [
        "import tensorflow as tf"
      ],
      "execution_count": 1,
      "outputs": []
    },
    {
      "cell_type": "code",
      "metadata": {
        "id": "TtOciRZMr50C"
      },
      "source": [
        "# Depthwise seperable convolution layer\n",
        "def depthwise_seperable(x, e_1x1, padding=\"VALID\", stride=1):\n",
        "  x = tf.keras.layers.DepthwiseConv2D(3, strides=stride, padding=padding, activation=\"relu\")(x)\n",
        "  x = tf.keras.layers.Conv2D(e_1x1, 1, padding=\"SAME\", activation=\"relu\")(x)\n",
        "\n",
        "  return x"
      ],
      "execution_count": 8,
      "outputs": []
    },
    {
      "cell_type": "markdown",
      "metadata": {
        "id": "u9G8CD-5s1Kr"
      },
      "source": [
        "<img src=\"https://production-media.paperswithcode.com/methods/Screen_Shot_2020-06-22_at_4.26.15_PM_ko4FqXD.png\" />"
      ]
    },
    {
      "cell_type": "code",
      "metadata": {
        "id": "Pzlwjk89sf4B"
      },
      "source": [
        "resize_layer = tf.keras.layers.Lambda( \n",
        "    lambda image: tf.image.resize( \n",
        "        image, \n",
        "        (224, 224), \n",
        "        method = tf.image.ResizeMethod.BICUBIC,\n",
        "        preserve_aspect_ratio = True\n",
        "    )\n",
        ")\n",
        "\n",
        "inp = tf.keras.layers.Input((32, 32, 3))\n",
        "x = resize_layer(inp)\n",
        "x = tf.keras.layers.ZeroPadding2D(padding=((0, 1), (0, 1)), name='conv1_pad')(x)\n",
        "x = tf.keras.layers.Conv2D(32, 3, strides=2)(x)\n",
        "\n",
        "x = depthwise_seperable(x, 64, padding=\"SAME\")\n",
        "\n",
        "x = depthwise_seperable(x, 128, stride=2, padding=\"SAME\")\n",
        "x = depthwise_seperable(x, 128, padding=\"SAME\")\n",
        "\n",
        "x = depthwise_seperable(x, 256, stride=2, padding=\"SAME\")\n",
        "x = depthwise_seperable(x, 256, padding=\"SAME\")\n",
        "\n",
        "x = depthwise_seperable(x, 512, stride=2, padding=\"SAME\")\n",
        "\n",
        "for i in range(5):\n",
        "  x = depthwise_seperable(x, 512, padding=\"SAME\")\n",
        "  x = depthwise_seperable(x, 512, padding=\"SAME\")\n",
        "\n",
        "x = depthwise_seperable(x, 1024, stride=2, padding=\"SAME\")\n",
        "x = depthwise_seperable(x, 1024, padding=\"SAME\")\n",
        "\n",
        "x = tf.keras.layers.AveragePooling2D(7)(x)\n",
        "\n",
        "x = tf.keras.layers.Dense(1000)(x)\n",
        "\n",
        "out = tf.keras.layers.Dense(10, activation=\"softmax\")(x)\n",
        "\n",
        "model = tf.keras.Model(inputs=inp, outputs=out)"
      ],
      "execution_count": 33,
      "outputs": []
    },
    {
      "cell_type": "code",
      "metadata": {
        "colab": {
          "base_uri": "https://localhost:8080/"
        },
        "id": "HgxbtEd0ual7",
        "outputId": "3edceab2-7cfc-4e47-f251-a882b3a630a8"
      },
      "source": [
        "ts_inp = tf.random.normal((1, 32, 32, 3))\n",
        "ts_out = model(ts_inp)\n",
        "print(model.summary())"
      ],
      "execution_count": 34,
      "outputs": [
        {
          "output_type": "stream",
          "name": "stdout",
          "text": [
            "Model: \"model_10\"\n",
            "_________________________________________________________________\n",
            " Layer (type)                Output Shape              Param #   \n",
            "=================================================================\n",
            " input_19 (InputLayer)       [(None, 32, 32, 3)]       0         \n",
            "                                                                 \n",
            " lambda_18 (Lambda)          (None, 224, 224, 3)       0         \n",
            "                                                                 \n",
            " conv1_pad (ZeroPadding2D)   (None, 225, 225, 3)       0         \n",
            "                                                                 \n",
            " conv2d_256 (Conv2D)         (None, 112, 112, 32)      896       \n",
            "                                                                 \n",
            " depthwise_conv2d_244 (Depth  (None, 112, 112, 32)     320       \n",
            " wiseConv2D)                                                     \n",
            "                                                                 \n",
            " conv2d_257 (Conv2D)         (None, 112, 112, 64)      2112      \n",
            "                                                                 \n",
            " depthwise_conv2d_245 (Depth  (None, 56, 56, 64)       640       \n",
            " wiseConv2D)                                                     \n",
            "                                                                 \n",
            " conv2d_258 (Conv2D)         (None, 56, 56, 128)       8320      \n",
            "                                                                 \n",
            " depthwise_conv2d_246 (Depth  (None, 56, 56, 128)      1280      \n",
            " wiseConv2D)                                                     \n",
            "                                                                 \n",
            " conv2d_259 (Conv2D)         (None, 56, 56, 128)       16512     \n",
            "                                                                 \n",
            " depthwise_conv2d_247 (Depth  (None, 28, 28, 128)      1280      \n",
            " wiseConv2D)                                                     \n",
            "                                                                 \n",
            " conv2d_260 (Conv2D)         (None, 28, 28, 256)       33024     \n",
            "                                                                 \n",
            " depthwise_conv2d_248 (Depth  (None, 28, 28, 256)      2560      \n",
            " wiseConv2D)                                                     \n",
            "                                                                 \n",
            " conv2d_261 (Conv2D)         (None, 28, 28, 256)       65792     \n",
            "                                                                 \n",
            " depthwise_conv2d_249 (Depth  (None, 14, 14, 256)      2560      \n",
            " wiseConv2D)                                                     \n",
            "                                                                 \n",
            " conv2d_262 (Conv2D)         (None, 14, 14, 512)       131584    \n",
            "                                                                 \n",
            " depthwise_conv2d_250 (Depth  (None, 14, 14, 512)      5120      \n",
            " wiseConv2D)                                                     \n",
            "                                                                 \n",
            " conv2d_263 (Conv2D)         (None, 14, 14, 512)       262656    \n",
            "                                                                 \n",
            " depthwise_conv2d_251 (Depth  (None, 14, 14, 512)      5120      \n",
            " wiseConv2D)                                                     \n",
            "                                                                 \n",
            " conv2d_264 (Conv2D)         (None, 14, 14, 512)       262656    \n",
            "                                                                 \n",
            " depthwise_conv2d_252 (Depth  (None, 14, 14, 512)      5120      \n",
            " wiseConv2D)                                                     \n",
            "                                                                 \n",
            " conv2d_265 (Conv2D)         (None, 14, 14, 512)       262656    \n",
            "                                                                 \n",
            " depthwise_conv2d_253 (Depth  (None, 14, 14, 512)      5120      \n",
            " wiseConv2D)                                                     \n",
            "                                                                 \n",
            " conv2d_266 (Conv2D)         (None, 14, 14, 512)       262656    \n",
            "                                                                 \n",
            " depthwise_conv2d_254 (Depth  (None, 14, 14, 512)      5120      \n",
            " wiseConv2D)                                                     \n",
            "                                                                 \n",
            " conv2d_267 (Conv2D)         (None, 14, 14, 512)       262656    \n",
            "                                                                 \n",
            " depthwise_conv2d_255 (Depth  (None, 14, 14, 512)      5120      \n",
            " wiseConv2D)                                                     \n",
            "                                                                 \n",
            " conv2d_268 (Conv2D)         (None, 14, 14, 512)       262656    \n",
            "                                                                 \n",
            " depthwise_conv2d_256 (Depth  (None, 14, 14, 512)      5120      \n",
            " wiseConv2D)                                                     \n",
            "                                                                 \n",
            " conv2d_269 (Conv2D)         (None, 14, 14, 512)       262656    \n",
            "                                                                 \n",
            " depthwise_conv2d_257 (Depth  (None, 14, 14, 512)      5120      \n",
            " wiseConv2D)                                                     \n",
            "                                                                 \n",
            " conv2d_270 (Conv2D)         (None, 14, 14, 512)       262656    \n",
            "                                                                 \n",
            " depthwise_conv2d_258 (Depth  (None, 14, 14, 512)      5120      \n",
            " wiseConv2D)                                                     \n",
            "                                                                 \n",
            " conv2d_271 (Conv2D)         (None, 14, 14, 512)       262656    \n",
            "                                                                 \n",
            " depthwise_conv2d_259 (Depth  (None, 14, 14, 512)      5120      \n",
            " wiseConv2D)                                                     \n",
            "                                                                 \n",
            " conv2d_272 (Conv2D)         (None, 14, 14, 512)       262656    \n",
            "                                                                 \n",
            " depthwise_conv2d_260 (Depth  (None, 7, 7, 512)        5120      \n",
            " wiseConv2D)                                                     \n",
            "                                                                 \n",
            " conv2d_273 (Conv2D)         (None, 7, 7, 1024)        525312    \n",
            "                                                                 \n",
            " depthwise_conv2d_261 (Depth  (None, 7, 7, 1024)       10240     \n",
            " wiseConv2D)                                                     \n",
            "                                                                 \n",
            " conv2d_274 (Conv2D)         (None, 7, 7, 1024)        1049600   \n",
            "                                                                 \n",
            " average_pooling2d_11 (Avera  (None, 1, 1, 1024)       0         \n",
            " gePooling2D)                                                    \n",
            "                                                                 \n",
            " dense_20 (Dense)            (None, 1, 1, 1000)        1025000   \n",
            "                                                                 \n",
            " dense_21 (Dense)            (None, 1, 1, 10)          10010     \n",
            "                                                                 \n",
            "=================================================================\n",
            "Total params: 5,569,922\n",
            "Trainable params: 5,569,922\n",
            "Non-trainable params: 0\n",
            "_________________________________________________________________\n",
            "None\n"
          ]
        }
      ]
    },
    {
      "cell_type": "code",
      "metadata": {
        "id": "9mX5topmvp2c"
      },
      "source": [
        ""
      ],
      "execution_count": null,
      "outputs": []
    }
  ]
}