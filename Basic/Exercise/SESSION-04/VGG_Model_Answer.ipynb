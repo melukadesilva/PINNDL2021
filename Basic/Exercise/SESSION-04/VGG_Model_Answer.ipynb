{
  "nbformat": 4,
  "nbformat_minor": 0,
  "metadata": {
    "colab": {
      "name": "Ex3.ipynb",
      "provenance": [],
      "collapsed_sections": []
    },
    "kernelspec": {
      "name": "python3",
      "display_name": "Python 3"
    },
    "language_info": {
      "name": "python"
    },
    "accelerator": "GPU"
  },
  "cells": [
    {
      "cell_type": "code",
      "metadata": {
        "id": "K0hZ5WopUvad"
      },
      "source": [
        "import tensorflow as tf"
      ],
      "execution_count": 1,
      "outputs": []
    },
    {
      "cell_type": "code",
      "metadata": {
        "colab": {
          "base_uri": "https://localhost:8080/"
        },
        "id": "sUUovzydVBkh",
        "outputId": "d2c8dea4-e8ec-4ec1-f4e0-67c864f66acf"
      },
      "source": [
        "cifar10 = tf.keras.datasets.cifar10\n",
        "(train_images, train_labels), (test_images, test_labels) = cifar10.load_data()\n",
        "train_images = train_images / 255.0\n",
        "test_images = test_images / 255.0\n",
        "\n",
        "val_images = train_images[-10000:]\n",
        "val_labels = train_labels[-10000:]\n",
        "train_images = train_images[:-10000]\n",
        "train_labels = train_labels[:-10000]\n",
        "\n",
        "print(train_labels.shape)\n",
        "print(val_labels.shape)"
      ],
      "execution_count": 2,
      "outputs": [
        {
          "output_type": "stream",
          "name": "stdout",
          "text": [
            "(40000, 1)\n",
            "(10000, 1)\n"
          ]
        }
      ]
    },
    {
      "cell_type": "code",
      "metadata": {
        "colab": {
          "base_uri": "https://localhost:8080/"
        },
        "id": "_pxDz9DoVa6F",
        "outputId": "8bcb2f03-e97c-42e4-8133-d30be2dc00c3"
      },
      "source": [
        "a = [1, 2, 3, 4, 5, 6, 7, 8, 9]\n",
        "b = a[-3:] # last 3 elements\n",
        "print(b)\n",
        "a = a[:-3] # all but the last 3 elements\n",
        "print(a)"
      ],
      "execution_count": 3,
      "outputs": [
        {
          "output_type": "stream",
          "name": "stdout",
          "text": [
            "[7, 8, 9]\n",
            "[1, 2, 3, 4, 5, 6]\n"
          ]
        }
      ]
    },
    {
      "cell_type": "markdown",
      "metadata": {
        "id": "dgddhh0vcwkd"
      },
      "source": [
        "<img src=\"https://forums.fast.ai/uploads/default/original/2X/7/75749aef7b40c070627de90f916bb61ac93037a7.png\" />"
      ]
    },
    {
      "cell_type": "code",
      "metadata": {
        "colab": {
          "base_uri": "https://localhost:8080/"
        },
        "id": "JK-3n7e7V-g1",
        "outputId": "b491b796-06b8-4542-a854-22290aafe89f"
      },
      "source": [
        "model = tf.keras.Sequential()\n",
        "# A lambda layer to resize the image\n",
        "model.add(tf.keras.layers.Lambda( \n",
        "    lambda image: tf.image.resize( \n",
        "        image, \n",
        "        (224, 224), \n",
        "        method = tf.image.ResizeMethod.BICUBIC,\n",
        "        preserve_aspect_ratio = True\n",
        "    )\n",
        "))\n",
        "\n",
        "# VGG-16 layers\n",
        "layers = [\n",
        "          tf.keras.layers.Conv2D(64,3, padding=\"SAME\", activation=\"relu\"),\n",
        "          tf.keras.layers.Conv2D(64,3, padding=\"SAME\", activation=\"relu\"),\n",
        "          tf.keras.layers.MaxPool2D(2),\n",
        "        \n",
        "          tf.keras.layers.Conv2D(128,3, padding=\"SAME\", activation=\"relu\"),\n",
        "          tf.keras.layers.Conv2D(128,3, padding=\"SAME\", activation=\"relu\"),\n",
        "          tf.keras.layers.MaxPool2D(2),\n",
        "        \n",
        "          tf.keras.layers.Conv2D(256,3, padding=\"SAME\", activation=\"relu\"),\n",
        "          tf.keras.layers.Conv2D(256,3, padding=\"SAME\", activation=\"relu\"),\n",
        "          tf.keras.layers.Conv2D(256,3, padding=\"SAME\", activation=\"relu\"),\n",
        "          tf.keras.layers.MaxPool2D(2),\n",
        "        \n",
        "          tf.keras.layers.Conv2D(512,3, padding=\"SAME\", activation=\"relu\"),\n",
        "          tf.keras.layers.Conv2D(512,3, padding=\"SAME\", activation=\"relu\"),\n",
        "          tf.keras.layers.Conv2D(512,3, padding=\"SAME\", activation=\"relu\"),\n",
        "          tf.keras.layers.MaxPool2D(2),\n",
        "        \n",
        "          tf.keras.layers.Conv2D(512,3, padding=\"SAME\", activation=\"relu\"),\n",
        "          tf.keras.layers.Conv2D(512,3, padding=\"SAME\", activation=\"relu\"),\n",
        "          tf.keras.layers.Conv2D(512,3, padding=\"SAME\", activation=\"relu\"),\n",
        "          tf.keras.layers.MaxPool2D(2),\n",
        "        \n",
        "          tf.keras.layers.Flatten(),\n",
        "        \n",
        "          tf.keras.layers.Dense(4096),\n",
        "          tf.keras.layers.Dense(4096),\n",
        "          tf.keras.layers.Dense(10, activation=\"softmax\")\n",
        "        ]\n",
        "\n",
        "# Add the rest of the layers\n",
        "# So we have lambda layer (resize the image) -> VGG-16 layers -> output\n",
        "for layer in layers:\n",
        "  model.add(layer)\n",
        "\n",
        "# Call once with dummy data to build the model so you can get the summery\n",
        "inp = tf.random.normal((1, 224, 224, 3))\n",
        "print(model(inp))\n",
        "print(model.summary())"
      ],
      "execution_count": 4,
      "outputs": [
        {
          "output_type": "stream",
          "name": "stdout",
          "text": [
            "tf.Tensor(\n",
            "[[0.1011761  0.09884353 0.09808569 0.09969622 0.09943717 0.10092881\n",
            "  0.10124676 0.1010641  0.10075877 0.09876293]], shape=(1, 10), dtype=float32)\n",
            "Model: \"sequential\"\n",
            "_________________________________________________________________\n",
            " Layer (type)                Output Shape              Param #   \n",
            "=================================================================\n",
            " lambda (Lambda)             (1, 224, 224, 3)          0         \n",
            "                                                                 \n",
            " conv2d (Conv2D)             (1, 224, 224, 64)         1792      \n",
            "                                                                 \n",
            " conv2d_1 (Conv2D)           (1, 224, 224, 64)         36928     \n",
            "                                                                 \n",
            " max_pooling2d (MaxPooling2D  (1, 112, 112, 64)        0         \n",
            " )                                                               \n",
            "                                                                 \n",
            " conv2d_2 (Conv2D)           (1, 112, 112, 128)        73856     \n",
            "                                                                 \n",
            " conv2d_3 (Conv2D)           (1, 112, 112, 128)        147584    \n",
            "                                                                 \n",
            " max_pooling2d_1 (MaxPooling  (1, 56, 56, 128)         0         \n",
            " 2D)                                                             \n",
            "                                                                 \n",
            " conv2d_4 (Conv2D)           (1, 56, 56, 256)          295168    \n",
            "                                                                 \n",
            " conv2d_5 (Conv2D)           (1, 56, 56, 256)          590080    \n",
            "                                                                 \n",
            " conv2d_6 (Conv2D)           (1, 56, 56, 256)          590080    \n",
            "                                                                 \n",
            " max_pooling2d_2 (MaxPooling  (1, 28, 28, 256)         0         \n",
            " 2D)                                                             \n",
            "                                                                 \n",
            " conv2d_7 (Conv2D)           (1, 28, 28, 512)          1180160   \n",
            "                                                                 \n",
            " conv2d_8 (Conv2D)           (1, 28, 28, 512)          2359808   \n",
            "                                                                 \n",
            " conv2d_9 (Conv2D)           (1, 28, 28, 512)          2359808   \n",
            "                                                                 \n",
            " max_pooling2d_3 (MaxPooling  (1, 14, 14, 512)         0         \n",
            " 2D)                                                             \n",
            "                                                                 \n",
            " conv2d_10 (Conv2D)          (1, 14, 14, 512)          2359808   \n",
            "                                                                 \n",
            " conv2d_11 (Conv2D)          (1, 14, 14, 512)          2359808   \n",
            "                                                                 \n",
            " conv2d_12 (Conv2D)          (1, 14, 14, 512)          2359808   \n",
            "                                                                 \n",
            " max_pooling2d_4 (MaxPooling  (1, 7, 7, 512)           0         \n",
            " 2D)                                                             \n",
            "                                                                 \n",
            " flatten (Flatten)           (1, 25088)                0         \n",
            "                                                                 \n",
            " dense (Dense)               (1, 4096)                 102764544 \n",
            "                                                                 \n",
            " dense_1 (Dense)             (1, 4096)                 16781312  \n",
            "                                                                 \n",
            " dense_2 (Dense)             (1, 10)                   40970     \n",
            "                                                                 \n",
            "=================================================================\n",
            "Total params: 134,301,514\n",
            "Trainable params: 134,301,514\n",
            "Non-trainable params: 0\n",
            "_________________________________________________________________\n",
            "None\n"
          ]
        }
      ]
    },
    {
      "cell_type": "code",
      "metadata": {
        "id": "mDL2l-n0evkt"
      },
      "source": [
        "# Prepare the model for training\n",
        "model.compile(optimizer='sgd', # Stochastic gradient descent optimiser\n",
        "              loss=tf.keras.losses.SparseCategoricalCrossentropy(from_logits=False), # Crossentropy loss\n",
        "              metrics=[tf.keras.metrics.SparseCategoricalAccuracy()]) # Accuracy measure"
      ],
      "execution_count": 5,
      "outputs": []
    },
    {
      "cell_type": "code",
      "metadata": {
        "colab": {
          "base_uri": "https://localhost:8080/"
        },
        "id": "frWJc7T_h4ri",
        "outputId": "97fedbbe-58ef-4158-e7cc-8e116e8d65bd"
      },
      "source": [
        "# Train the model\n",
        "history = model.fit(\n",
        "  x=train_images, # Model inputs\n",
        "  y=train_labels, # True labels for error\n",
        "  batch_size=32,  # Training batch size; How many samples per time we feed in\n",
        "  epochs=10,      # Number of epochs, or how many times we go trough the entire dataset to update the parameters\n",
        "  validation_data=(val_images, val_labels) # Validation inputs and true lables\n",
        ")"
      ],
      "execution_count": 6,
      "outputs": [
        {
          "metadata": {
            "tags": null
          },
          "name": "stdout",
          "output_type": "stream",
          "text": [
            "Epoch 1/10\n"
          ]
        },
        {
          "metadata": {
            "tags": null
          },
          "name": "stderr",
          "output_type": "stream",
          "text": [
            "/usr/local/lib/python3.7/dist-packages/tensorflow/python/util/dispatch.py:1096: UserWarning: \"`sparse_categorical_crossentropy` received `from_logits=True`, but the `output` argument was produced by a sigmoid or softmax activation and thus does not represent logits. Was this intended?\"\n",
            "  return dispatch_target(*args, **kwargs)\n"
          ]
        },
        {
          "output_type": "stream",
          "name": "stdout",
          "text": [
            "1250/1250 [==============================] - 1142s 901ms/step - loss: 2.2708 - sparse_categorical_accuracy: 0.1348 - val_loss: 2.3248 - val_sparse_categorical_accuracy: 0.1022\n",
            "Epoch 2/10\n",
            "1250/1250 [==============================] - 1130s 904ms/step - loss: 1.9221 - sparse_categorical_accuracy: 0.3067 - val_loss: 1.7601 - val_sparse_categorical_accuracy: 0.3717\n",
            "Epoch 3/10\n",
            "1250/1250 [==============================] - 1125s 900ms/step - loss: 1.5907 - sparse_categorical_accuracy: 0.4349 - val_loss: 1.5394 - val_sparse_categorical_accuracy: 0.4553\n",
            "Epoch 4/10\n",
            "1250/1250 [==============================] - 1128s 902ms/step - loss: 1.3737 - sparse_categorical_accuracy: 0.5178 - val_loss: 1.2820 - val_sparse_categorical_accuracy: 0.5416\n",
            "Epoch 5/10\n",
            "1250/1250 [==============================] - 1129s 904ms/step - loss: 1.1762 - sparse_categorical_accuracy: 0.5861 - val_loss: 1.1172 - val_sparse_categorical_accuracy: 0.6126\n",
            "Epoch 6/10\n",
            "1250/1250 [==============================] - 1130s 904ms/step - loss: 0.9945 - sparse_categorical_accuracy: 0.6538 - val_loss: 1.0220 - val_sparse_categorical_accuracy: 0.6514\n",
            "Epoch 7/10\n",
            "1250/1250 [==============================] - 1129s 903ms/step - loss: 0.8199 - sparse_categorical_accuracy: 0.7157 - val_loss: 0.9513 - val_sparse_categorical_accuracy: 0.6748\n",
            "Epoch 8/10\n",
            "1250/1250 [==============================] - 1130s 904ms/step - loss: 0.6597 - sparse_categorical_accuracy: 0.7710 - val_loss: 0.9355 - val_sparse_categorical_accuracy: 0.6863\n",
            "Epoch 9/10\n",
            "1250/1250 [==============================] - 1130s 904ms/step - loss: 0.5112 - sparse_categorical_accuracy: 0.8209 - val_loss: 0.9308 - val_sparse_categorical_accuracy: 0.6891\n",
            "Epoch 10/10\n",
            "1250/1250 [==============================] - 1130s 904ms/step - loss: 0.3786 - sparse_categorical_accuracy: 0.8676 - val_loss: 1.0470 - val_sparse_categorical_accuracy: 0.7007\n"
          ]
        }
      ]
    },
    {
      "cell_type": "code",
      "metadata": {
        "id": "j1KOPPNnj1-u"
      },
      "source": [
        ""
      ],
      "execution_count": 6,
      "outputs": []
    }
  ]
}