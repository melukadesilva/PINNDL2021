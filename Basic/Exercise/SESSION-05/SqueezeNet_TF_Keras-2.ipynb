{
  "nbformat": 4,
  "nbformat_minor": 0,
  "metadata": {
    "colab": {
      "name": "SqueezeNet_TF_Keras.ipynb",
      "provenance": [],
      "collapsed_sections": []
    },
    "kernelspec": {
      "name": "python3",
      "display_name": "Python 3"
    },
    "language_info": {
      "name": "python"
    },
    "accelerator": "TPU"
  },
  "cells": [
    {
      "cell_type": "code",
      "metadata": {
        "id": "7gJt2ihWlfa8"
      },
      "source": [
        "import tensorflow as tf"
      ],
      "execution_count": 7,
      "outputs": []
    },
    {
      "cell_type": "code",
      "metadata": {
        "colab": {
          "base_uri": "https://localhost:8080/"
        },
        "id": "6TRAyDY8qjba",
        "outputId": "7c6ef1c9-4022-47dd-e21d-d4294263a73e"
      },
      "source": [
        "cifar10 = tf.keras.datasets.cifar10\n",
        "(train_images, train_labels), (test_images, test_labels) = cifar10.load_data()\n",
        "train_images = train_images / 255.0\n",
        "test_images = test_images / 255.0\n",
        "\n",
        "val_images = train_images[-10000:]\n",
        "val_labels = train_labels[-10000:]\n",
        "train_images = train_images[:-10000]\n",
        "train_labels = train_labels[:-10000]\n",
        "\n",
        "print(train_labels.shape)\n",
        "print(val_labels.shape)"
      ],
      "execution_count": 8,
      "outputs": [
        {
          "output_type": "stream",
          "name": "stdout",
          "text": [
            "Downloading data from https://www.cs.toronto.edu/~kriz/cifar-10-python.tar.gz\n",
            "170500096/170498071 [==============================] - 2s 0us/step\n",
            "170508288/170498071 [==============================] - 2s 0us/step\n",
            "(40000, 1)\n",
            "(10000, 1)\n"
          ]
        }
      ]
    },
    {
      "cell_type": "code",
      "metadata": {
        "id": "C8sGSwTEljWK"
      },
      "source": [
        "# Squeeze and Excite layer\n",
        "def fire_module(x, s_1x1, e_1x1, e_3x3):\n",
        "  x = tf.keras.layers.Conv2D(s_1x1, 1, padding=\"SAME\", activation=\"relu\")(x)\n",
        "  x_e_1x1 = tf.keras.layers.Conv2D(e_1x1, 1, padding=\"SAME\", activation=\"relu\")(x)\n",
        "  x_e_3x3 = tf.keras.layers.Conv2D(e_3x3, 3, padding=\"SAME\", activation=\"relu\")(x)\n",
        "\n",
        "  x = tf.concat([x_e_1x1, x_e_3x3], 3)\n",
        "\n",
        "  return x"
      ],
      "execution_count": 9,
      "outputs": []
    },
    {
      "cell_type": "markdown",
      "metadata": {
        "id": "X7z7vSiymgvx"
      },
      "source": [
        "<img src=\"https://pytorch.org/assets/images/squeezenet.png\" />"
      ]
    },
    {
      "cell_type": "code",
      "metadata": {
        "id": "fGF4QVComUar"
      },
      "source": [
        "resize_layer = tf.keras.layers.Lambda( \n",
        "    lambda image: tf.image.resize( \n",
        "        image, \n",
        "        (224, 224), \n",
        "        method = tf.image.ResizeMethod.BICUBIC,\n",
        "        preserve_aspect_ratio = True\n",
        "    )\n",
        ")\n",
        "\n",
        "inp = tf.keras.layers.Input(shape=(32, 32, 3))\n",
        "x = resize_layer(inp)\n",
        "x = tf.keras.layers.Conv2D(96, 7, strides=2)(x)\n",
        "x = tf.keras.layers.MaxPool2D(3, 2)(x)\n",
        "\n",
        "x = fire_module(x, 16, 64, 64)\n",
        "x = fire_module(x, 16, 64, 64)\n",
        "x = fire_module(x, 32, 128, 128)\n",
        "x = tf.keras.layers.MaxPool2D(3, 2)(x)\n",
        "\n",
        "x = fire_module(x, 32, 128, 128)\n",
        "x = fire_module(x, 48, 192, 192)\n",
        "x = fire_module(x, 48, 192, 192)\n",
        "x = fire_module(x, 64, 256, 256)\n",
        "x = tf.keras.layers.MaxPool2D(3, 2)(x)\n",
        "\n",
        "x = fire_module(x, 64, 256, 256)\n",
        "x = tf.keras.layers.Conv2D(1000, 1)(x)\n",
        "x = tf.keras.layers.AveragePooling2D()(x)\n",
        "\n",
        "x = tf.keras.layers.Flatten()(x)\n",
        "        \n",
        "x = tf.keras.layers.Dense(4096)(x)\n",
        "x = tf.keras.layers.Dense(4096)(x)\n",
        "out = tf.keras.layers.Dense(10, activation=\"softmax\")(x)\n",
        "\n",
        "model = tf.keras.Model(inputs=inp, outputs=out)\n"
      ],
      "execution_count": 10,
      "outputs": []
    },
    {
      "cell_type": "code",
      "metadata": {
        "colab": {
          "base_uri": "https://localhost:8080/"
        },
        "id": "P-VV6Xlwo9lD",
        "outputId": "f6d6f446-c9af-4492-91a1-f381e91862bc"
      },
      "source": [
        "ts_inp = tf.random.normal((1, 32, 32, 3))\n",
        "ts_out = model(ts_inp)\n",
        "print(model.summary())"
      ],
      "execution_count": 11,
      "outputs": [
        {
          "output_type": "stream",
          "name": "stdout",
          "text": [
            "Model: \"model_1\"\n",
            "__________________________________________________________________________________________________\n",
            " Layer (type)                   Output Shape         Param #     Connected to                     \n",
            "==================================================================================================\n",
            " input_2 (InputLayer)           [(None, 32, 32, 3)]  0           []                               \n",
            "                                                                                                  \n",
            " lambda_1 (Lambda)              (None, 224, 224, 3)  0           ['input_2[0][0]']                \n",
            "                                                                                                  \n",
            " conv2d_26 (Conv2D)             (None, 109, 109, 96  14208       ['lambda_1[0][0]']               \n",
            "                                )                                                                 \n",
            "                                                                                                  \n",
            " max_pooling2d_3 (MaxPooling2D)  (None, 54, 54, 96)  0           ['conv2d_26[0][0]']              \n",
            "                                                                                                  \n",
            " conv2d_27 (Conv2D)             (None, 54, 54, 16)   1552        ['max_pooling2d_3[0][0]']        \n",
            "                                                                                                  \n",
            " conv2d_28 (Conv2D)             (None, 54, 54, 64)   1088        ['conv2d_27[0][0]']              \n",
            "                                                                                                  \n",
            " conv2d_29 (Conv2D)             (None, 54, 54, 64)   9280        ['conv2d_27[0][0]']              \n",
            "                                                                                                  \n",
            " tf.concat_8 (TFOpLambda)       (None, 54, 54, 128)  0           ['conv2d_28[0][0]',              \n",
            "                                                                  'conv2d_29[0][0]']              \n",
            "                                                                                                  \n",
            " conv2d_30 (Conv2D)             (None, 54, 54, 16)   2064        ['tf.concat_8[0][0]']            \n",
            "                                                                                                  \n",
            " conv2d_31 (Conv2D)             (None, 54, 54, 64)   1088        ['conv2d_30[0][0]']              \n",
            "                                                                                                  \n",
            " conv2d_32 (Conv2D)             (None, 54, 54, 64)   9280        ['conv2d_30[0][0]']              \n",
            "                                                                                                  \n",
            " tf.concat_9 (TFOpLambda)       (None, 54, 54, 128)  0           ['conv2d_31[0][0]',              \n",
            "                                                                  'conv2d_32[0][0]']              \n",
            "                                                                                                  \n",
            " conv2d_33 (Conv2D)             (None, 54, 54, 32)   4128        ['tf.concat_9[0][0]']            \n",
            "                                                                                                  \n",
            " conv2d_34 (Conv2D)             (None, 54, 54, 128)  4224        ['conv2d_33[0][0]']              \n",
            "                                                                                                  \n",
            " conv2d_35 (Conv2D)             (None, 54, 54, 128)  36992       ['conv2d_33[0][0]']              \n",
            "                                                                                                  \n",
            " tf.concat_10 (TFOpLambda)      (None, 54, 54, 256)  0           ['conv2d_34[0][0]',              \n",
            "                                                                  'conv2d_35[0][0]']              \n",
            "                                                                                                  \n",
            " max_pooling2d_4 (MaxPooling2D)  (None, 26, 26, 256)  0          ['tf.concat_10[0][0]']           \n",
            "                                                                                                  \n",
            " conv2d_36 (Conv2D)             (None, 26, 26, 32)   8224        ['max_pooling2d_4[0][0]']        \n",
            "                                                                                                  \n",
            " conv2d_37 (Conv2D)             (None, 26, 26, 128)  4224        ['conv2d_36[0][0]']              \n",
            "                                                                                                  \n",
            " conv2d_38 (Conv2D)             (None, 26, 26, 128)  36992       ['conv2d_36[0][0]']              \n",
            "                                                                                                  \n",
            " tf.concat_11 (TFOpLambda)      (None, 26, 26, 256)  0           ['conv2d_37[0][0]',              \n",
            "                                                                  'conv2d_38[0][0]']              \n",
            "                                                                                                  \n",
            " conv2d_39 (Conv2D)             (None, 26, 26, 48)   12336       ['tf.concat_11[0][0]']           \n",
            "                                                                                                  \n",
            " conv2d_40 (Conv2D)             (None, 26, 26, 192)  9408        ['conv2d_39[0][0]']              \n",
            "                                                                                                  \n",
            " conv2d_41 (Conv2D)             (None, 26, 26, 192)  83136       ['conv2d_39[0][0]']              \n",
            "                                                                                                  \n",
            " tf.concat_12 (TFOpLambda)      (None, 26, 26, 384)  0           ['conv2d_40[0][0]',              \n",
            "                                                                  'conv2d_41[0][0]']              \n",
            "                                                                                                  \n",
            " conv2d_42 (Conv2D)             (None, 26, 26, 48)   18480       ['tf.concat_12[0][0]']           \n",
            "                                                                                                  \n",
            " conv2d_43 (Conv2D)             (None, 26, 26, 192)  9408        ['conv2d_42[0][0]']              \n",
            "                                                                                                  \n",
            " conv2d_44 (Conv2D)             (None, 26, 26, 192)  83136       ['conv2d_42[0][0]']              \n",
            "                                                                                                  \n",
            " tf.concat_13 (TFOpLambda)      (None, 26, 26, 384)  0           ['conv2d_43[0][0]',              \n",
            "                                                                  'conv2d_44[0][0]']              \n",
            "                                                                                                  \n",
            " conv2d_45 (Conv2D)             (None, 26, 26, 64)   24640       ['tf.concat_13[0][0]']           \n",
            "                                                                                                  \n",
            " conv2d_46 (Conv2D)             (None, 26, 26, 256)  16640       ['conv2d_45[0][0]']              \n",
            "                                                                                                  \n",
            " conv2d_47 (Conv2D)             (None, 26, 26, 256)  147712      ['conv2d_45[0][0]']              \n",
            "                                                                                                  \n",
            " tf.concat_14 (TFOpLambda)      (None, 26, 26, 512)  0           ['conv2d_46[0][0]',              \n",
            "                                                                  'conv2d_47[0][0]']              \n",
            "                                                                                                  \n",
            " max_pooling2d_5 (MaxPooling2D)  (None, 12, 12, 512)  0          ['tf.concat_14[0][0]']           \n",
            "                                                                                                  \n",
            " conv2d_48 (Conv2D)             (None, 12, 12, 64)   32832       ['max_pooling2d_5[0][0]']        \n",
            "                                                                                                  \n",
            " conv2d_49 (Conv2D)             (None, 12, 12, 256)  16640       ['conv2d_48[0][0]']              \n",
            "                                                                                                  \n",
            " conv2d_50 (Conv2D)             (None, 12, 12, 256)  147712      ['conv2d_48[0][0]']              \n",
            "                                                                                                  \n",
            " tf.concat_15 (TFOpLambda)      (None, 12, 12, 512)  0           ['conv2d_49[0][0]',              \n",
            "                                                                  'conv2d_50[0][0]']              \n",
            "                                                                                                  \n",
            " conv2d_51 (Conv2D)             (None, 12, 12, 1000  513000      ['tf.concat_15[0][0]']           \n",
            "                                )                                                                 \n",
            "                                                                                                  \n",
            " average_pooling2d_1 (AveragePo  (None, 6, 6, 1000)  0           ['conv2d_51[0][0]']              \n",
            " oling2D)                                                                                         \n",
            "                                                                                                  \n",
            " flatten_1 (Flatten)            (None, 36000)        0           ['average_pooling2d_1[0][0]']    \n",
            "                                                                                                  \n",
            " dense_3 (Dense)                (None, 4096)         147460096   ['flatten_1[0][0]']              \n",
            "                                                                                                  \n",
            " dense_4 (Dense)                (None, 4096)         16781312    ['dense_3[0][0]']                \n",
            "                                                                                                  \n",
            " dense_5 (Dense)                (None, 10)           40970       ['dense_4[0][0]']                \n",
            "                                                                                                  \n",
            "==================================================================================================\n",
            "Total params: 165,530,802\n",
            "Trainable params: 165,530,802\n",
            "Non-trainable params: 0\n",
            "__________________________________________________________________________________________________\n",
            "None\n"
          ]
        }
      ]
    },
    {
      "cell_type": "code",
      "metadata": {
        "id": "a-1jmWDEpYv7"
      },
      "source": [
        "model.compile(optimizer='sgd', \n",
        "              loss=tf.keras.losses.SparseCategoricalCrossentropy(from_logits=True),\n",
        "              metrics=[tf.keras.metrics.SparseCategoricalAccuracy()])"
      ],
      "execution_count": 12,
      "outputs": []
    },
    {
      "cell_type": "code",
      "metadata": {
        "colab": {
          "base_uri": "https://localhost:8080/"
        },
        "id": "sR9CHpBoqWWu",
        "outputId": "1cc55cb8-9ee5-45eb-841a-30ca5151289e"
      },
      "source": [
        "history = model.fit(\n",
        "  x=train_images,\n",
        "  y=train_labels,\n",
        "  batch_size=32,\n",
        "  epochs=10,\n",
        "  validation_data=(val_images, val_labels)\n",
        ")"
      ],
      "execution_count": null,
      "outputs": [
        {
          "output_type": "stream",
          "name": "stdout",
          "text": [
            "Epoch 1/10\n"
          ]
        },
        {
          "output_type": "stream",
          "name": "stderr",
          "text": [
            "/usr/local/lib/python3.7/dist-packages/tensorflow/python/util/dispatch.py:1096: UserWarning: \"`sparse_categorical_crossentropy` received `from_logits=True`, but the `output` argument was produced by a sigmoid or softmax activation and thus does not represent logits. Was this intended?\"\n",
            "  return dispatch_target(*args, **kwargs)\n"
          ]
        },
        {
          "output_type": "stream",
          "name": "stdout",
          "text": [
            " 500/1250 [===========>..................] - ETA: 1:18:59 - loss: 2.3032 - sparse_categorical_accuracy: 0.0995"
          ]
        }
      ]
    }
  ]
}