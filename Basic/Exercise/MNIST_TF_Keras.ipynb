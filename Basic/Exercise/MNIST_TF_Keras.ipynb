{
  "nbformat": 4,
  "nbformat_minor": 0,
  "metadata": {
    "colab": {
      "name": "MNIST_TF_Keras.ipynb",
      "provenance": [],
      "collapsed_sections": []
    },
    "kernelspec": {
      "name": "python3",
      "display_name": "Python 3"
    },
    "language_info": {
      "name": "python"
    },
    "accelerator": "TPU"
  },
  "cells": [
    {
      "cell_type": "markdown",
      "metadata": {
        "id": "C6E1Jy4UFjWS"
      },
      "source": [
        "# Tensorflow Keras MNIST example\n",
        "#### https://keras.io/examples/vision/mnist_convnet/"
      ]
    },
    {
      "cell_type": "code",
      "metadata": {
        "id": "vPdlErN6YpWd"
      },
      "source": [
        "import tensorflow as tf"
      ],
      "execution_count": 1,
      "outputs": []
    },
    {
      "cell_type": "code",
      "metadata": {
        "colab": {
          "base_uri": "https://localhost:8080/"
        },
        "id": "5sf8GEEWYt2J",
        "outputId": "bcedfdfc-e20d-4753-cc7e-3f4211caf803"
      },
      "source": [
        "mnist = tf.keras.datasets.mnist\n",
        "(train_images, train_labels), (test_images, test_labels) = mnist.load_data()\n",
        "train_images = train_images / 255.0\n",
        "test_images = test_images / 255.0\n",
        "\n",
        "val_images = train_images[-10000:]\n",
        "val_labels = train_labels[-10000:]\n",
        "train_images = train_images[:-10000]\n",
        "train_labels = train_labels[:-10000]\n",
        "\n",
        "print(train_labels.shape)\n",
        "print(val_labels.shape)"
      ],
      "execution_count": 2,
      "outputs": [
        {
          "output_type": "stream",
          "name": "stdout",
          "text": [
            "Downloading data from https://storage.googleapis.com/tensorflow/tf-keras-datasets/mnist.npz\n",
            "11493376/11490434 [==============================] - 0s 0us/step\n",
            "11501568/11490434 [==============================] - 0s 0us/step\n",
            "(50000,)\n",
            "(10000,)\n"
          ]
        }
      ]
    },
    {
      "cell_type": "code",
      "metadata": {
        "colab": {
          "base_uri": "https://localhost:8080/"
        },
        "id": "iAyUd0bYaY4A",
        "outputId": "67f50919-293f-4450-e084-46ff5da2bf29"
      },
      "source": [
        "a = [1, 2, 3, 4, 5, 6, 7, 8, 9]\n",
        "b = a[-3:] # last 3 elements\n",
        "print(b)\n",
        "a = a[:-3] # all but the last 3 elements\n",
        "print(a)"
      ],
      "execution_count": 3,
      "outputs": [
        {
          "output_type": "stream",
          "name": "stdout",
          "text": [
            "[7, 8, 9]\n",
            "[1, 2, 3, 4, 5, 6]\n"
          ]
        }
      ]
    },
    {
      "cell_type": "code",
      "metadata": {
        "colab": {
          "base_uri": "https://localhost:8080/"
        },
        "id": "T-bJSPCFYuPC",
        "outputId": "f7ccb01e-5af9-4b47-930d-f83d0725dd39"
      },
      "source": [
        "model = tf.keras.Sequential(\n",
        "    [tf.keras.layers.Flatten(input_shape=(28, 28)),\n",
        "    tf.keras.layers.Dense(40),\n",
        "    tf.keras.layers.Dense(30),\n",
        "    tf.keras.layers.Dense(20),\n",
        "    tf.keras.layers.Dense(10)]\n",
        ")\n",
        "print(model.summary())"
      ],
      "execution_count": 4,
      "outputs": [
        {
          "output_type": "stream",
          "name": "stdout",
          "text": [
            "Model: \"sequential\"\n",
            "_________________________________________________________________\n",
            "Layer (type)                 Output Shape              Param #   \n",
            "=================================================================\n",
            "flatten (Flatten)            (None, 784)               0         \n",
            "_________________________________________________________________\n",
            "dense (Dense)                (None, 40)                31400     \n",
            "_________________________________________________________________\n",
            "dense_1 (Dense)              (None, 30)                1230      \n",
            "_________________________________________________________________\n",
            "dense_2 (Dense)              (None, 20)                620       \n",
            "_________________________________________________________________\n",
            "dense_3 (Dense)              (None, 10)                210       \n",
            "=================================================================\n",
            "Total params: 33,460\n",
            "Trainable params: 33,460\n",
            "Non-trainable params: 0\n",
            "_________________________________________________________________\n",
            "None\n"
          ]
        }
      ]
    },
    {
      "cell_type": "code",
      "metadata": {
        "id": "5f9nL26qY_Yt"
      },
      "source": [
        "model.compile(optimizer='sgd', \n",
        "              loss=tf.keras.losses.SparseCategoricalCrossentropy(from_logits=True),\n",
        "              metrics=[tf.keras.metrics.SparseCategoricalAccuracy()])"
      ],
      "execution_count": 5,
      "outputs": []
    },
    {
      "cell_type": "code",
      "metadata": {
        "colab": {
          "base_uri": "https://localhost:8080/"
        },
        "id": "Y588u0cRZnCo",
        "outputId": "98c8a3d9-4baa-4a63-db55-3642b216d1c6"
      },
      "source": [
        "history = model.fit(\n",
        "  x=train_images,\n",
        "  y=train_labels,\n",
        "  batch_size=32,\n",
        "  epochs=10,\n",
        "  validation_data=(val_images, val_labels)\n",
        ")"
      ],
      "execution_count": 6,
      "outputs": [
        {
          "output_type": "stream",
          "name": "stdout",
          "text": [
            "Epoch 1/10\n",
            "1563/1563 [==============================] - 4s 2ms/step - loss: 0.5729 - sparse_categorical_accuracy: 0.8335 - val_loss: 0.3368 - val_sparse_categorical_accuracy: 0.9047\n",
            "Epoch 2/10\n",
            "1563/1563 [==============================] - 3s 2ms/step - loss: 0.3424 - sparse_categorical_accuracy: 0.9020 - val_loss: 0.3129 - val_sparse_categorical_accuracy: 0.9115\n",
            "Epoch 3/10\n",
            "1563/1563 [==============================] - 3s 2ms/step - loss: 0.3175 - sparse_categorical_accuracy: 0.9096 - val_loss: 0.2852 - val_sparse_categorical_accuracy: 0.9201\n",
            "Epoch 4/10\n",
            "1563/1563 [==============================] - 3s 2ms/step - loss: 0.3047 - sparse_categorical_accuracy: 0.9131 - val_loss: 0.2808 - val_sparse_categorical_accuracy: 0.9209\n",
            "Epoch 5/10\n",
            "1563/1563 [==============================] - 3s 2ms/step - loss: 0.2959 - sparse_categorical_accuracy: 0.9157 - val_loss: 0.2778 - val_sparse_categorical_accuracy: 0.9220\n",
            "Epoch 6/10\n",
            "1563/1563 [==============================] - 3s 2ms/step - loss: 0.2907 - sparse_categorical_accuracy: 0.9174 - val_loss: 0.2730 - val_sparse_categorical_accuracy: 0.9251\n",
            "Epoch 7/10\n",
            "1563/1563 [==============================] - 3s 2ms/step - loss: 0.2859 - sparse_categorical_accuracy: 0.9191 - val_loss: 0.2735 - val_sparse_categorical_accuracy: 0.9237\n",
            "Epoch 8/10\n",
            "1563/1563 [==============================] - 3s 2ms/step - loss: 0.2828 - sparse_categorical_accuracy: 0.9202 - val_loss: 0.2718 - val_sparse_categorical_accuracy: 0.9233\n",
            "Epoch 9/10\n",
            "1563/1563 [==============================] - 3s 2ms/step - loss: 0.2792 - sparse_categorical_accuracy: 0.9212 - val_loss: 0.2733 - val_sparse_categorical_accuracy: 0.9233\n",
            "Epoch 10/10\n",
            "1563/1563 [==============================] - 3s 2ms/step - loss: 0.2769 - sparse_categorical_accuracy: 0.9221 - val_loss: 0.2670 - val_sparse_categorical_accuracy: 0.9252\n"
          ]
        }
      ]
    },
    {
      "cell_type": "code",
      "metadata": {
        "id": "cAYhm5XIbAO_"
      },
      "source": [
        ""
      ],
      "execution_count": 6,
      "outputs": []
    }
  ]
}