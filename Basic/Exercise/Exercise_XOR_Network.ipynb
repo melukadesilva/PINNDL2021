{
  "nbformat": 4,
  "nbformat_minor": 0,
  "metadata": {
    "colab": {
      "name": "Exercise_XOR_Network.ipynb",
      "provenance": [],
      "collapsed_sections": []
    },
    "kernelspec": {
      "name": "python3",
      "display_name": "Python 3"
    },
    "language_info": {
      "name": "python"
    }
  },
  "cells": [
    {
      "cell_type": "code",
      "metadata": {
        "id": "rpkBsArJVhIf"
      },
      "source": [
        "import numpy as np"
      ],
      "execution_count": null,
      "outputs": []
    },
    {
      "cell_type": "markdown",
      "metadata": {
        "id": "uMfrPUE_ModT"
      },
      "source": [
        "# XOR Exercise"
      ]
    },
    {
      "cell_type": "markdown",
      "metadata": {
        "id": "fbxobcQWMsai"
      },
      "source": [
        "## take \n",
        "#### input = [[0, 0], [0, 1], [1, 0], [1, 1]]\n",
        "#### w1 = [[1, 1], [1, 1]]\n",
        "#### b1 = [[0, -1]]\n",
        "#### w2 = [[1, -2]]"
      ]
    },
    {
      "cell_type": "code",
      "metadata": {
        "colab": {
          "base_uri": "https://localhost:8080/"
        },
        "id": "0WJkZC4IMnyX",
        "outputId": "43568c77-3d2f-427a-81b5-228a624ff703"
      },
      "source": [
        "input = np.array([[0, 0], [0, 1], [1, 0], [1, 1]])\n",
        "print(input.shape)"
      ],
      "execution_count": null,
      "outputs": [
        {
          "output_type": "stream",
          "name": "stdout",
          "text": [
            "(4, 2)\n"
          ]
        }
      ]
    },
    {
      "cell_type": "code",
      "metadata": {
        "colab": {
          "base_uri": "https://localhost:8080/"
        },
        "id": "L1kVCNv3Vdtd",
        "outputId": "e5563d42-89d4-46ff-e9a3-3f819ecf3ef0"
      },
      "source": [
        "w1 = np.array([[1, 1], [1, 1]])\n",
        "b1 = np.array([[0, -1]])\n",
        "print(w1.shape)"
      ],
      "execution_count": null,
      "outputs": [
        {
          "output_type": "stream",
          "name": "stdout",
          "text": [
            "(2, 2)\n"
          ]
        }
      ]
    },
    {
      "cell_type": "code",
      "metadata": {
        "colab": {
          "base_uri": "https://localhost:8080/"
        },
        "id": "9JuKbKHGVj4B",
        "outputId": "cd64543a-f86b-41f1-ffc4-ae1a5dbfef90"
      },
      "source": [
        "w2 = np.array([[1, -2]])\n",
        "print(w2.shape)"
      ],
      "execution_count": null,
      "outputs": [
        {
          "output_type": "stream",
          "name": "stdout",
          "text": [
            "(1, 2)\n"
          ]
        }
      ]
    },
    {
      "cell_type": "code",
      "metadata": {
        "colab": {
          "base_uri": "https://localhost:8080/",
          "height": 352
        },
        "id": "sqHyJBvoVqHr",
        "outputId": "a5ecef03-faab-49b5-c2d6-9092d7969d42"
      },
      "source": [
        "import matplotlib.pyplot as plt\n",
        "hidden1 = np.matmul(input, w1) + b1\n",
        "print(hidden1)\n",
        "# visualise hidden activation\n",
        "plt.scatter(hidden1[:,0], hidden1[:,1])"
      ],
      "execution_count": null,
      "outputs": [
        {
          "output_type": "stream",
          "name": "stdout",
          "text": [
            "[[ 0 -1]\n",
            " [ 1  0]\n",
            " [ 1  0]\n",
            " [ 2  1]]\n"
          ]
        },
        {
          "output_type": "execute_result",
          "data": {
            "text/plain": [
              "<matplotlib.collections.PathCollection at 0x7f7671dcbfd0>"
            ]
          },
          "metadata": {},
          "execution_count": 22
        },
        {
          "output_type": "display_data",
          "data": {
            "image/png": "[encoded data removed]",
            "text/plain": [
              "<Figure size 432x288 with 1 Axes>"
            ]
          },
          "metadata": {
            "needs_background": "light"
          }
        }
      ]
    },
    {
      "cell_type": "code",
      "metadata": {
        "colab": {
          "base_uri": "https://localhost:8080/"
        },
        "id": "Qwex-hkoWbcU",
        "outputId": "7ebb5281-bf88-4efa-e7ce-c577abd51f27"
      },
      "source": [
        "output = np.matmul(hidden1, w2.T)\n",
        "print(output)"
      ],
      "execution_count": null,
      "outputs": [
        {
          "output_type": "stream",
          "name": "stdout",
          "text": [
            "[[2]\n",
            " [1]\n",
            " [1]\n",
            " [0]]\n"
          ]
        }
      ]
    },
    {
      "cell_type": "code",
      "metadata": {
        "id": "YJV5ecVoVt_g"
      },
      "source": [
        "#hidden_temp = np.matmul(input, w1) + b1\n",
        "#print(hidden_temp)\n",
        "def relu(x):\n",
        "  x[x<0] = 0\n",
        "  return x"
      ],
      "execution_count": null,
      "outputs": []
    },
    {
      "cell_type": "code",
      "metadata": {
        "colab": {
          "base_uri": "https://localhost:8080/",
          "height": 352
        },
        "id": "LS9cTNx0W6EB",
        "outputId": "89e1d748-0bcb-4e73-b839-7f5ccec4ce68"
      },
      "source": [
        "hidden_nonlinear = relu(np.matmul(input, w1) + b1)\n",
        "print(hidden_nonlinear)\n",
        "plt.scatter(hidden_nonlinear[:,0], hidden_nonlinear[:,1])"
      ],
      "execution_count": null,
      "outputs": [
        {
          "output_type": "stream",
          "name": "stdout",
          "text": [
            "[[0 0]\n",
            " [1 0]\n",
            " [1 0]\n",
            " [2 1]]\n"
          ]
        },
        {
          "output_type": "execute_result",
          "data": {
            "text/plain": [
              "<matplotlib.collections.PathCollection at 0x7f7671e75350>"
            ]
          },
          "metadata": {},
          "execution_count": 23
        },
        {
          "output_type": "display_data",
          "data": {
            "image/png": "[encoded data removed]",
            "text/plain": [
              "<Figure size 432x288 with 1 Axes>"
            ]
          },
          "metadata": {
            "needs_background": "light"
          }
        }
      ]
    },
    {
      "cell_type": "code",
      "metadata": {
        "colab": {
          "base_uri": "https://localhost:8080/"
        },
        "id": "HT9XH3JtXt4o",
        "outputId": "d6742669-ad9b-4119-f80b-46d42d0cfd0a"
      },
      "source": [
        "output_n = np.matmul(hidden_nonlinear, w2.T)\n",
        "print(output_n)"
      ],
      "execution_count": null,
      "outputs": [
        {
          "output_type": "stream",
          "name": "stdout",
          "text": [
            "[[0]\n",
            " [1]\n",
            " [1]\n",
            " [0]]\n"
          ]
        }
      ]
    },
    {
      "cell_type": "code",
      "metadata": {
        "id": "HxeYpIMdYF1s"
      },
      "source": [
        ""
      ],
      "execution_count": null,
      "outputs": []
    }
  ]
}