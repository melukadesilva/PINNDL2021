{
  "nbformat": 4,
  "nbformat_minor": 0,
  "metadata": {
    "colab": {
      "name": "Python_exercise.ipynb",
      "provenance": [],
      "collapsed_sections": []
    },
    "kernelspec": {
      "name": "python3",
      "display_name": "Python 3"
    },
    "language_info": {
      "name": "python"
    }
  },
  "cells": [
    {
      "cell_type": "markdown",
      "metadata": {
        "id": "7msCN1K21zsQ"
      },
      "source": [
        "# Python Exercise"
      ]
    },
    {
      "cell_type": "markdown",
      "metadata": {
        "id": "NazKutdw_-Xj"
      },
      "source": [
        "## Basic Exerices"
      ]
    },
    {
      "cell_type": "markdown",
      "metadata": {
        "id": "OecvoLgd1495"
      },
      "source": [
        "#### 1) Make a function that takes two values and multiply them together"
      ]
    },
    {
      "cell_type": "code",
      "metadata": {
        "id": "UtVnM8-G5zmS"
      },
      "source": [
        "import functools"
      ],
      "execution_count": null,
      "outputs": []
    },
    {
      "cell_type": "code",
      "metadata": {
        "id": "cxkXOqnm1rPp"
      },
      "source": [
        "def multfn(val_1, val_2):\n",
        "  return val_1 * val_2"
      ],
      "execution_count": null,
      "outputs": []
    },
    {
      "cell_type": "code",
      "metadata": {
        "colab": {
          "base_uri": "https://localhost:8080/"
        },
        "id": "ch0v3py-112a",
        "outputId": "9cddbdad-75c3-4302-af5b-640b32597bd7"
      },
      "source": [
        "a = 5\n",
        "b = 10\n",
        "c = multfn(a, b)\n",
        "print(c)"
      ],
      "execution_count": null,
      "outputs": [
        {
          "output_type": "stream",
          "name": "stdout",
          "text": [
            "50\n"
          ]
        }
      ]
    },
    {
      "cell_type": "markdown",
      "metadata": {
        "id": "dIr2enVP2cZJ"
      },
      "source": [
        "#### 2) Do the same using a class\n",
        "####       * At initialisation store the two values as attributes\n",
        "####       * method does the multiplication"
      ]
    },
    {
      "cell_type": "code",
      "metadata": {
        "id": "aCE0r0XV2TVv"
      },
      "source": [
        "class MultCl:\n",
        "  def __init__(self, val_1, val_2):\n",
        "    self.val_1 = val_1\n",
        "    self.val_2 = val_2\n",
        "  ## 2)\n",
        "  def mult(self):\n",
        "    return multfn(self.val_1, self.val_2)\n",
        "  ## 3)\n",
        "  def mult_list(self):\n",
        "    return list(map(lambda x,y: mult(x,y), self.val_1, self.val_2))\n",
        "  ## 4)\n",
        "  def mult_vec(self):\n",
        "    return functools.reduce(lambda x,y: x+y, self.mult_list())"
      ],
      "execution_count": null,
      "outputs": []
    },
    {
      "cell_type": "code",
      "metadata": {
        "colab": {
          "base_uri": "https://localhost:8080/"
        },
        "id": "xIxVD3Rx3BMm",
        "outputId": "4dbb911b-a5b5-4502-bfb0-431ff812d769"
      },
      "source": [
        "mcl = MultCl(a, b)\n",
        "print(mcl.mult())"
      ],
      "execution_count": null,
      "outputs": [
        {
          "output_type": "stream",
          "name": "stdout",
          "text": [
            "50\n"
          ]
        }
      ]
    },
    {
      "cell_type": "markdown",
      "metadata": {
        "id": "N5-peRyT3aSw"
      },
      "source": [
        "#### 3) Make two lists of same size containing the values and try the multiplication, if fails make a method to multiply a list (elementwise)"
      ]
    },
    {
      "cell_type": "code",
      "metadata": {
        "colab": {
          "base_uri": "https://localhost:8080/"
        },
        "id": "Z3e3e2Cd3F19",
        "outputId": "c45e3cc3-788e-4e7d-974e-11818724a2f6"
      },
      "source": [
        "c = [1, 2, 3, 4]\n",
        "d = [5, 6, 7, 8]\n",
        "\n",
        "# print(multfn(c, d))\n",
        "mcl_list = MultCl(c, d)\n",
        "print(mcl_list.mult_list())"
      ],
      "execution_count": null,
      "outputs": [
        {
          "output_type": "stream",
          "name": "stdout",
          "text": [
            "[5, 12, 21, 32]\n"
          ]
        }
      ]
    },
    {
      "cell_type": "markdown",
      "metadata": {
        "id": "wTHXpYba5JQo"
      },
      "source": [
        "#### 4) Considering the two lists as vectors of 1xN and Nx1, make a method to do the vector multiplication; The result must be a scalar"
      ]
    },
    {
      "cell_type": "code",
      "metadata": {
        "colab": {
          "base_uri": "https://localhost:8080/"
        },
        "id": "3WCHOXlq3uUa",
        "outputId": "ba0c3aa6-45fc-4a0e-89f2-d4feff633873"
      },
      "source": [
        "print(mcl_list.mult_vec())"
      ],
      "execution_count": null,
      "outputs": [
        {
          "output_type": "stream",
          "name": "stdout",
          "text": [
            "70\n"
          ]
        }
      ]
    },
    {
      "cell_type": "markdown",
      "metadata": {
        "id": "oBEUuXfl9fdd"
      },
      "source": [
        "#### 5) Make a function to take a list of lists and store them in a dictionary; the dictionary keys must be the row indexes. Get the matrix elements by index and print"
      ]
    },
    {
      "cell_type": "code",
      "metadata": {
        "colab": {
          "base_uri": "https://localhost:8080/"
        },
        "id": "LWaF4TZa6ObM",
        "outputId": "ca6bfa22-435a-44c7-bf2c-42086f12e78d"
      },
      "source": [
        "init_list = [1, 2, 3, 4, 5]\n",
        "mat_list =  [init_list,\n",
        "            list(map(lambda x: 2*x, init_list)),\n",
        "            list(map(lambda x: 3*x, init_list)),\n",
        "             list(map(lambda x: 5*x, init_list)),]\n",
        "\n",
        "print(mat_list)\n",
        "\n",
        "def list_to_mat(mat_list):\n",
        "  mat = dict()\n",
        "  for i in range(3):\n",
        "    mat[i] = mat_list[i]\n",
        "  \n",
        "  return mat\n",
        "\n",
        "mat = list_to_mat(mat_list)\n",
        "for i in range(3):\n",
        "  for j in range(5):\n",
        "    print(mat[i][j])\n",
        "  print(\"\")"
      ],
      "execution_count": null,
      "outputs": [
        {
          "output_type": "stream",
          "name": "stdout",
          "text": [
            "[[1, 2, 3, 4, 5], [2, 4, 6, 8, 10], [3, 6, 9, 12, 15], [5, 10, 15, 20, 25]]\n",
            "1\n",
            "2\n",
            "3\n",
            "4\n",
            "5\n",
            "\n",
            "2\n",
            "4\n",
            "6\n",
            "8\n",
            "10\n",
            "\n",
            "3\n",
            "6\n",
            "9\n",
            "12\n",
            "15\n",
            "\n"
          ]
        }
      ]
    },
    {
      "cell_type": "markdown",
      "metadata": {
        "id": "J-YE2hy7D9OP"
      },
      "source": [
        "#### 6) Class inheritance;\n",
        "#### * Take the class that does Multiplication as the parent class\n",
        "#### * Make a child class and inherit the methods and attributes from the parent class\n",
        "#### * Child class stores a scalar value\n",
        "#### * Use the scala value to scale an output from one of the methods in the parent class"
      ]
    },
    {
      "cell_type": "code",
      "metadata": {
        "id": "Z0jdJop8FEI6"
      },
      "source": [
        "class Scale(MultCl):\n",
        "  def __init__(self, scale, val_1, val_2):\n",
        "    super().__init__(val_1, val_2)\n",
        "    self.scale = scale\n",
        "\n",
        "  def scale_scalar(self):\n",
        "    ## print(super.mult())\n",
        "    return self.scale * super().mult()\n",
        "\n",
        "  def scale_list(self):\n",
        "    return list(map(lambda x: self.scale * x, super().mult_list()))"
      ],
      "execution_count": null,
      "outputs": []
    },
    {
      "cell_type": "code",
      "metadata": {
        "colab": {
          "base_uri": "https://localhost:8080/"
        },
        "id": "VkiZRRTeFsK4",
        "outputId": "a432a005-09b5-4bde-cf7d-02c055eec34c"
      },
      "source": [
        "scaler_scalar = Scale(2, 5, 3)\n",
        "print(scaler_scalar.scale_scalar())\n",
        "\n",
        "scaler_list = Scale(3, [1, 2, 3], [4, 5, 6])\n",
        "print(scaler_list.scale_list())"
      ],
      "execution_count": null,
      "outputs": [
        {
          "output_type": "stream",
          "name": "stdout",
          "text": [
            "30\n",
            "[12, 30, 54]\n"
          ]
        }
      ]
    },
    {
      "cell_type": "markdown",
      "metadata": {
        "id": "DXjRIC01ADj3"
      },
      "source": [
        "## Numpy Exercises \n",
        "#### (check the numpy manual if necessary)"
      ]
    },
    {
      "cell_type": "markdown",
      "metadata": {
        "id": "P57DE0AoBIU1"
      },
      "source": [
        "#### 7) Make a matrix out of the list of lists using numpy method "
      ]
    },
    {
      "cell_type": "code",
      "metadata": {
        "colab": {
          "base_uri": "https://localhost:8080/"
        },
        "id": "hRndndfC9Cc2",
        "outputId": "ce72ef7a-9c53-484e-9add-f2c75fe6fffa"
      },
      "source": [
        "import numpy as np\n",
        "\n",
        "np_mat = np.array(mat_list)\n",
        "print(np_mat)"
      ],
      "execution_count": null,
      "outputs": [
        {
          "output_type": "stream",
          "name": "stdout",
          "text": [
            "[[ 1  2  3  4  5]\n",
            " [ 2  4  6  8 10]\n",
            " [ 3  6  9 12 15]\n",
            " [ 5 10 15 20 25]]\n"
          ]
        }
      ]
    },
    {
      "cell_type": "markdown",
      "metadata": {
        "id": "RXl_AiFKBi8D"
      },
      "source": [
        "#### 8) Transpose the matrix"
      ]
    },
    {
      "cell_type": "code",
      "metadata": {
        "colab": {
          "base_uri": "https://localhost:8080/"
        },
        "id": "-cn2VWHvBCeF",
        "outputId": "2fed1da9-10ff-4af5-c133-6ce42797f33c"
      },
      "source": [
        "np_mat_t = np_mat.T\n",
        "print(np_mat_t)"
      ],
      "execution_count": null,
      "outputs": [
        {
          "output_type": "stream",
          "name": "stdout",
          "text": [
            "[[ 1  2  3  5]\n",
            " [ 2  4  6 10]\n",
            " [ 3  6  9 15]\n",
            " [ 4  8 12 20]\n",
            " [ 5 10 15 25]]\n"
          ]
        }
      ]
    },
    {
      "cell_type": "markdown",
      "metadata": {
        "id": "RnCbCHK3Cg1u"
      },
      "source": [
        "#### 9) Take the dot product between the matrix and its transpose"
      ]
    },
    {
      "cell_type": "code",
      "metadata": {
        "colab": {
          "base_uri": "https://localhost:8080/"
        },
        "id": "v49pGM1aBhZa",
        "outputId": "3148f395-90be-455d-bece-b042c9854fb0"
      },
      "source": [
        "np_dot = np_mat.dot(np_mat_t)\n",
        "print(np_dot)"
      ],
      "execution_count": null,
      "outputs": [
        {
          "output_type": "stream",
          "name": "stdout",
          "text": [
            "[[  55  110  165  275]\n",
            " [ 110  220  330  550]\n",
            " [ 165  330  495  825]\n",
            " [ 275  550  825 1375]]\n"
          ]
        }
      ]
    },
    {
      "cell_type": "markdown",
      "metadata": {
        "id": "wBKsoHx6DFGt"
      },
      "source": [
        "#### 10) Reshape the matrix to a new shape"
      ]
    },
    {
      "cell_type": "code",
      "metadata": {
        "colab": {
          "base_uri": "https://localhost:8080/"
        },
        "id": "7op52nzwCbmr",
        "outputId": "5927f24a-0b6a-4954-e8ca-ecc8088c5779"
      },
      "source": [
        "np_reshaped = np_dot.reshape((2, 8))\n",
        "print(np_reshaped)"
      ],
      "execution_count": null,
      "outputs": [
        {
          "output_type": "stream",
          "name": "stdout",
          "text": [
            "[[  55  110  165  275  110  220  330  550]\n",
            " [ 165  330  495  825  275  550  825 1375]]\n"
          ]
        }
      ]
    },
    {
      "cell_type": "markdown",
      "metadata": {
        "id": "dcDn58pDDXMC"
      },
      "source": [
        "#### 11) Make a 3D tensor containing random numbers"
      ]
    },
    {
      "cell_type": "code",
      "metadata": {
        "colab": {
          "base_uri": "https://localhost:8080/"
        },
        "id": "9kSA8evhC_eX",
        "outputId": "2353069d-084f-4238-8763-4127b5bd28eb"
      },
      "source": [
        "np_rand_tensor = np.random.normal(size=[3, 5, 7])\n",
        "print(np_rand_tensor)"
      ],
      "execution_count": null,
      "outputs": [
        {
          "output_type": "stream",
          "name": "stdout",
          "text": [
            "[[[-0.08995885  0.79335016  0.49112908  0.19281932  0.95571721\n",
            "   -0.98609372  0.63649018]\n",
            "  [ 0.52433554 -0.77394452  1.93517018  0.01979926  0.50552411\n",
            "   -1.70529892  0.75352167]\n",
            "  [-1.85953546 -0.01316086  0.90801311 -0.95149062  1.20013759\n",
            "   -0.70581032  0.00220539]\n",
            "  [-0.75672501  1.5595299  -2.18599791  0.37864377 -0.98708234\n",
            "    1.01964531 -1.81613127]\n",
            "  [-0.87713845  1.056784   -0.67309513  0.93776049 -0.99623592\n",
            "   -0.94807887  1.02577528]]\n",
            "\n",
            " [[ 0.20621765  0.86441394 -1.69367734 -0.07740664  0.08733073\n",
            "   -0.12862427  0.1164863 ]\n",
            "  [ 0.2688248  -0.12485216 -0.25851073  0.66893937 -0.67046937\n",
            "    0.46762597 -0.27222154]\n",
            "  [-0.12951034 -0.78842854 -1.05518471 -0.9175537   0.30529337\n",
            "   -0.74284415 -1.27946389]\n",
            "  [ 0.08560616  1.43644369 -0.6741566   0.17252613  0.37581264\n",
            "    0.62097859 -0.75599882]\n",
            "  [ 0.75414166 -2.07621285 -0.33804145 -0.92496869 -1.54273117\n",
            "   -0.36327739 -0.68331933]]\n",
            "\n",
            " [[-0.15259292  0.4391274  -0.6640591   0.08384268  0.28824154\n",
            "   -0.3499266  -1.50756846]\n",
            "  [-0.44864657  1.30728002  0.24354414  0.70019142  0.37938684\n",
            "    0.11660699  0.52357011]\n",
            "  [ 0.3229076  -0.9011357  -1.63418467 -0.42497779 -0.63286492\n",
            "   -0.94190496  1.09571998]\n",
            "  [-0.40462028 -0.65119863 -1.12219353 -0.02531634  0.58481168\n",
            "   -0.1894432  -1.24666276]\n",
            "  [ 0.92494894 -0.14664948  0.49050967  0.55504539  0.50363551\n",
            "    0.76598869  0.99924512]]]\n"
          ]
        }
      ]
    },
    {
      "cell_type": "code",
      "metadata": {
        "id": "zuXu-JjsDnj6"
      },
      "source": [
        ""
      ],
      "execution_count": null,
      "outputs": []
    }
  ]
}