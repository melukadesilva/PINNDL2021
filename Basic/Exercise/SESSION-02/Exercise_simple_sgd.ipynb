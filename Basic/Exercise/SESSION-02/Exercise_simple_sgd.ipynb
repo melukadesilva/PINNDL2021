{
  "nbformat": 4,
  "nbformat_minor": 0,
  "metadata": {
    "colab": {
      "name": "Exercise_simple_sgd.ipynb",
      "provenance": [],
      "collapsed_sections": []
    },
    "kernelspec": {
      "name": "python3",
      "display_name": "Python 3"
    },
    "language_info": {
      "name": "python"
    }
  },
  "cells": [
    {
      "cell_type": "code",
      "metadata": {
        "id": "k7GC6Yydrjgy"
      },
      "source": [
        "## Extension of: https://github.com/dtnewman/stochastic_gradient_descent/blob/master/stochastic_gradient_descent.ipynb"
      ],
      "execution_count": null,
      "outputs": []
    },
    {
      "cell_type": "code",
      "metadata": {
        "id": "zGMt2A5Wnpet"
      },
      "source": [
        "import numpy as np\n",
        "import matplotlib.pyplot as plt\n",
        "\n",
        "from functools import reduce"
      ],
      "execution_count": null,
      "outputs": []
    },
    {
      "cell_type": "code",
      "metadata": {
        "id": "T4_-WiZ-nsQE"
      },
      "source": [
        "#### The basic gradient descent ####"
      ],
      "execution_count": null,
      "outputs": []
    },
    {
      "cell_type": "code",
      "metadata": {
        "id": "AjBEqzI-numT"
      },
      "source": [
        "## lets take a function\n",
        "f = lambda x: 2*x**3 - 3*x +1 #x**3-2*x**2+2 ## 2x^3 - 3x + 1"
      ],
      "execution_count": null,
      "outputs": []
    },
    {
      "cell_type": "code",
      "metadata": {
        "colab": {
          "base_uri": "https://localhost:8080/",
          "height": 269
        },
        "id": "Sr7IzKKynyWw",
        "outputId": "5fffe7ae-4e68-41fd-de1c-1ce612ba30ba"
      },
      "source": [
        "## lets make some data and visualize the function\n",
        "### x = -2, x = 5, 1000 points\n",
        "x = np.linspace(-2,5,1000)\n",
        "#print(x)\n",
        "plt.plot(x,f(x))\n",
        "plt.xlim([-2,5])\n",
        "plt.ylim([-0.5,3])\n",
        "plt.show()"
      ],
      "execution_count": null,
      "outputs": [
        {
          "output_type": "display_data",
          "data": {
            "image/png": "[encoded data removed]",
            "text/plain": [
              "<Figure size 432x288 with 1 Axes>"
            ]
          },
          "metadata": {
            "needs_background": "light"
          }
        }
      ]
    },
    {
      "cell_type": "code",
      "metadata": {
        "id": "UA9MKjG-rpgD"
      },
      "source": [
        "## get the derivative of the f w.r.t x\n",
        "fprime = lambda x: 6*x**2 - 3 ## 6x^2 - 3"
      ],
      "execution_count": null,
      "outputs": []
    },
    {
      "cell_type": "code",
      "metadata": {
        "colab": {
          "base_uri": "https://localhost:8080/"
        },
        "id": "Nf-tV8NnrsqT",
        "outputId": "4bbc256d-c4f0-47fe-bb12-7ce4b6a6aac7"
      },
      "source": [
        "x_old = 0.0 ## -1.0 ## 0.9\n",
        "x_new = 1.0 ## -0.9 ## 1.0\n",
        "alpha = 0.1 ## 0.01\n",
        "precision = 0.0001\n",
        "\n",
        "x_list, y_list = [x_old, x_new], [f(x_old), f(x_new)]\n",
        "#print(y_list)\n",
        "## until the step difference becomes less than the precision.\n",
        "i = 0\n",
        "while abs(x_list[i] - x_list[i+1]) > precision:\n",
        "#for i in range(10):\n",
        "    print(\"Error:\", abs(x_list[i] - x_list[i+1]))\n",
        "    #print(x_new - x_init)\n",
        "    print(x_new)\n",
        "    print(fprime(x_new))\n",
        "    #print(abs(x_new - x_old))\n",
        "    ## parameter_new = parameter_old - 0.01 * df/dparameter\n",
        "    x_new = x_old - alpha * fprime(x_new)\n",
        "    \n",
        "    print()\n",
        "    x_old = x_new\n",
        "    #print(fprime(x_new))\n",
        "    x_list.append(x_new)\n",
        "    y_list.append(f(x_new))\n",
        "    i += 1"
      ],
      "execution_count": null,
      "outputs": [
        {
          "output_type": "stream",
          "name": "stdout",
          "text": [
            "Error: 1.0\n",
            "1.0\n",
            "3.0\n",
            "\n",
            "Error: 1.3\n",
            "-0.30000000000000004\n",
            "-2.46\n",
            "\n",
            "Error: 0.246\n",
            "-0.05400000000000005\n",
            "-2.982504\n",
            "\n",
            "Error: 0.2982504\n",
            "0.24425039999999998\n",
            "-2.6420504525990403\n",
            "\n",
            "Error: 0.26420504525990396\n",
            "0.5084554452599039\n",
            "-1.4488383611133169\n",
            "\n",
            "Error: 0.1448838361113317\n",
            "0.6533392813712356\n",
            "-0.4388867005039043\n",
            "\n",
            "Error: 0.04388867005039043\n",
            "0.6972279514216261\n",
            "-0.08323910253841582\n",
            "\n",
            "Error: 0.008323910253841604\n",
            "0.7055518616754677\n",
            "-0.013179422917690253\n",
            "\n",
            "Error: 0.0013179422917690697\n",
            "0.7068698039672368\n",
            "-0.0020104814359216405\n",
            "\n",
            "Error: 0.00020104814359211964\n",
            "0.7070708521108289\n",
            "-0.0003048605715982866\n",
            "\n"
          ]
        }
      ]
    },
    {
      "cell_type": "code",
      "metadata": {
        "colab": {
          "base_uri": "https://localhost:8080/"
        },
        "id": "9Vr-4ELAr0wE",
        "outputId": "b0d04d72-1924-49c4-e4fd-84a1e34520d0"
      },
      "source": [
        "print(\"Number of iterations: {}\".format(len(x_list)))\n",
        "print(\"Local minimum: {}\".format(x_new))"
      ],
      "execution_count": null,
      "outputs": [
        {
          "output_type": "stream",
          "name": "stdout",
          "text": [
            "Number of iterations: 12\n",
            "Local minimum: 0.7071013381679887\n"
          ]
        }
      ]
    },
    {
      "cell_type": "code",
      "metadata": {
        "colab": {
          "base_uri": "https://localhost:8080/",
          "height": 227
        },
        "id": "jLrupWO9r73X",
        "outputId": "3aea302d-0c7b-4989-b7df-0de3ff6ac8c7"
      },
      "source": [
        "## Plot how x was stepping towards the local minima\n",
        "plt.figure(figsize=[10,3])\n",
        "plt.subplot(1,2,1)\n",
        "plt.scatter(x_list,y_list,c=\"r\")\n",
        "plt.plot(x_list,y_list,c=\"r\")\n",
        "plt.plot(x,f(x), c=\"b\")\n",
        "plt.xlim([-2,2.5])\n",
        "plt.ylim([-0.5,11.5])\n",
        "plt.title(\"Gradient descent\")\n",
        "plt.subplot(1,2,2)\n",
        "plt.scatter(x_list,y_list,c=\"r\")\n",
        "plt.plot(x_list,y_list,c=\"r\")\n",
        "plt.plot(x,f(x), c=\"b\")\n",
        "plt.xlim([-2,1.3])\n",
        "plt.ylim([-0.7,3])\n",
        "plt.title(\"Gradient descent (zoomed in)\")\n",
        "plt.show()"
      ],
      "execution_count": null,
      "outputs": [
        {
          "output_type": "display_data",
          "data": {
            "image/png": "[encoded data removed]",
            "text/plain": [
              "<Figure size 720x216 with 2 Axes>"
            ]
          },
          "metadata": {
            "needs_background": "light"
          }
        }
      ]
    },
    {
      "cell_type": "code",
      "metadata": {
        "id": "ku4TmkyHr-27"
      },
      "source": [
        "#### Simple function optimization ####"
      ],
      "execution_count": null,
      "outputs": []
    },
    {
      "cell_type": "code",
      "metadata": {
        "id": "Nqz_4XdKsE0d"
      },
      "source": [
        "## a simple linear regression model\n",
        "model = lambda theta_1, theta_2, x: theta_1 + theta_2 * x ## y = theta_1 + theta_2 * x\n",
        "#def model(theta_1, theta_2, x):\n",
        "#  return theta_1 + theta_2 * 2\n",
        "## cost function (MSE)\n",
        "mse = lambda n, x, y, theta_1, theta_2: (1 / n)*(model(theta_1, theta_2, x) - y) ** 2 # L = 1/number_of_samples * (y_hat - y) ^ 2\n",
        "\n",
        "## Partial derivative w.r.t thetas\n",
        "## L = 1/number_of_samples * (y_hat - y) ^ 2\n",
        "## L = 1/number_of_samples * (theta_1 + theta_2 * x - y) ^ 2 -> 2 / num_of_samples * (theta_1 + theta_2 * x - y) * 1 + 0 \n",
        "prime_mse_theta_1 = lambda n, y, x, theta_1, theta_2: (2 / n) * (model(theta_1, theta_2, x) - y) #  2/number_of_samples * (y_hat - y)\n",
        "prime_mse_theta_2 = lambda n, y, x, theta_1, theta_2: (2 / n) * (model(theta_1, theta_2, x) - y) * x # 2/number_of_samples * (y_hat - y) * x"
      ],
      "execution_count": null,
      "outputs": []
    },
    {
      "cell_type": "code",
      "metadata": {
        "id": "ec-JfNgWsHi0"
      },
      "source": [
        "## lets make some data\n",
        "## linear data generation\n",
        "data_function = lambda x: 2 * x + np.random.uniform(0, 1) ## 2x + U(0, 1)\n",
        "#data = np.random.normal(size=100)\n",
        "x_vals = np.arange(0, 1, 0.01) ## x=0, x=1\n",
        "#print(x_vals)\n",
        "y_vals = list(map(data_function, x_vals))\n",
        "#print(y_vals)"
      ],
      "execution_count": null,
      "outputs": []
    },
    {
      "cell_type": "code",
      "metadata": {
        "colab": {
          "base_uri": "https://localhost:8080/",
          "height": 282
        },
        "id": "v5454QsUsMRm",
        "outputId": "3e43c828-98c7-4e46-df9c-4b8c4c70fe6d"
      },
      "source": [
        "plt.scatter(x_vals, y_vals)"
      ],
      "execution_count": null,
      "outputs": [
        {
          "output_type": "execute_result",
          "data": {
            "text/plain": [
              "<matplotlib.collections.PathCollection at 0x7f5a7f341310>"
            ]
          },
          "metadata": {},
          "execution_count": 15
        },
        {
          "output_type": "display_data",
          "data": {
            "image/png": "[encoded data removed]",
            "text/plain": [
              "<Figure size 432x288 with 1 Axes>"
            ]
          },
          "metadata": {
            "needs_background": "light"
          }
        }
      ]
    },
    {
      "cell_type": "code",
      "metadata": {
        "colab": {
          "base_uri": "https://localhost:8080/",
          "height": 299
        },
        "id": "e3NBUFUlsOkT",
        "outputId": "73d05bee-9670-4fae-887a-f87abd331c8f"
      },
      "source": [
        "## some initial parameters\n",
        "theta_1_old = 0\n",
        "theta_1_new = 1\n",
        "theta_2_old = 0\n",
        "theta_2_new = 2\n",
        "\n",
        "n = len(x_vals)\n",
        "print(n)\n",
        "learning_rate = 0.001\n",
        "precision = 0.001\n",
        "#print([theta_1_new]*n)\n",
        "#print(list(map(lambda x: 2*x, [theta_1_new]*n)))\n",
        "#print(reduce(lambda x, y: 2*x+y, [theta_1_new]*n))\n",
        "## Initial model behaviour\n",
        "plt.scatter(x_vals, y_vals)\n",
        "y_pred = list(map(model, [theta_1_new]*n, [theta_2_new]*n, x_vals))\n",
        "\n",
        "y = y_vals[0]\n",
        "x = x_vals[0]\n",
        "\n",
        "#print(y_pred)\n",
        "#print(y)\n",
        "#print(y_vals)\n",
        "plt.plot(x_vals, y_pred, 'r')"
      ],
      "execution_count": null,
      "outputs": [
        {
          "output_type": "stream",
          "name": "stdout",
          "text": [
            "100\n"
          ]
        },
        {
          "output_type": "execute_result",
          "data": {
            "text/plain": [
              "[<matplotlib.lines.Line2D at 0x7f5a7f29da90>]"
            ]
          },
          "metadata": {},
          "execution_count": 17
        },
        {
          "output_type": "display_data",
          "data": {
            "image/png": "[encoded data removed]",
            "text/plain": [
              "<Figure size 432x288 with 1 Axes>"
            ]
          },
          "metadata": {
            "needs_background": "light"
          }
        }
      ]
    },
    {
      "cell_type": "code",
      "metadata": {
        "colab": {
          "base_uri": "https://localhost:8080/"
        },
        "id": "jDXz82jasRpq",
        "outputId": "93a957f5-f3cd-4241-aec4-2b68fc149d3e"
      },
      "source": [
        "#print(mse(n, x, y, theta_1_new, theta_2_new))\n",
        "#print(list(map(mse, [n]*n, x_vals, y_vals, [theta_1_new]*n, [theta_2_new]*n)))\n",
        "print(\"Initial MSE:\",reduce(lambda x, y: x + y, list(map(mse, [n]*n, x_vals, y_vals, [theta_1_new]*n, [theta_2_new]*n))))\n",
        "\n",
        "for i in range(1000):\n",
        "    #print(mse(x, y, theta_1_new, theta_2_new))\n",
        "    #print(reduce(lambda x, y: x + y, list(map(mse, [n]*n, x_vals, y_vals, [theta_1_new]*n, [theta_2_new]*n))))\n",
        "    ## assign the old thetats\n",
        "    theta_1_old = theta_1_new\n",
        "    theta_2_old = theta_2_new\n",
        "    ## get the new thetas\n",
        "    grad_theta_list_1 = list(map(prime_mse_theta_1, [n]*n, y_vals, x_vals, [theta_1_old]*n, [theta_2_old]*n))\n",
        "    grad_theta_1 = reduce(lambda x, y: x + y, grad_theta_list_1)\n",
        "    theta_1_new = theta_1_old - learning_rate * grad_theta_1\n",
        "    \n",
        "    grad_theta_list_2 = list(map(prime_mse_theta_2, [n]*n, y_vals, x_vals, [theta_1_old]*n, [theta_2_old]*n))\n",
        "    grad_theta_2 = reduce(lambda x, y: x + y, grad_theta_list_2)\n",
        "    theta_2_new = theta_2_old - learning_rate * grad_theta_2\n",
        "    \n",
        "    y_pred = list(map(model, [theta_1_new]*n, [theta_2_new]*n, x_vals))\n",
        "\n",
        "print(\"New MSE:\",reduce(lambda x, y: x + y, list(map(mse, [n]*n, x_vals, y_vals, [theta_1_new]*n, [theta_2_new]*n))))\n",
        "print(\"Optimised theta-1:\", theta_1_new)\n",
        "print(\"Optimised theta-2:\", theta_2_new)"
      ],
      "execution_count": null,
      "outputs": [
        {
          "output_type": "stream",
          "name": "stdout",
          "text": [
            "Initial MSE: 0.23621178239505833\n",
            "New MSE: 0.08042868043907701\n",
            "Optimised theta-1: 0.6915185711136741\n",
            "Optimised theta-2: 1.8956638450627077\n"
          ]
        }
      ]
    },
    {
      "cell_type": "code",
      "metadata": {
        "colab": {
          "base_uri": "https://localhost:8080/",
          "height": 282
        },
        "id": "l5x58jFCsYTZ",
        "outputId": "24db3251-1fad-4aee-b132-54fdf5f12d4d"
      },
      "source": [
        "plt.scatter(x_vals, y_vals)\n",
        "y_pred = list(map(model, [theta_1_new]*n, [theta_2_new]*n, x_vals))\n",
        "#print(y_pred)\n",
        "plt.plot(x_vals, y_pred, 'r')"
      ],
      "execution_count": null,
      "outputs": [
        {
          "output_type": "execute_result",
          "data": {
            "text/plain": [
              "[<matplotlib.lines.Line2D at 0x7f5a7f20de10>]"
            ]
          },
          "metadata": {},
          "execution_count": 19
        },
        {
          "output_type": "display_data",
          "data": {
            "image/png": "[encoded data removed]",
            "text/plain": [
              "<Figure size 432x288 with 1 Axes>"
            ]
          },
          "metadata": {
            "needs_background": "light"
          }
        }
      ]
    },
    {
      "cell_type": "code",
      "metadata": {
        "id": "IT5sWS0yv-2j"
      },
      "source": [
        ""
      ],
      "execution_count": null,
      "outputs": []
    }
  ]
}