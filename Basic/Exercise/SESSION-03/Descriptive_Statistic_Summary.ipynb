{
  "nbformat": 4,
  "nbformat_minor": 0,
  "metadata": {
    "colab": {
      "name": "Descriptive_Statistic_Summary.ipynb",
      "provenance": [],
      "collapsed_sections": []
    },
    "kernelspec": {
      "name": "python3",
      "display_name": "Python 3"
    },
    "language_info": {
      "name": "python"
    }
  },
  "cells": [
    {
      "cell_type": "markdown",
      "metadata": {
        "id": "CMWiWQgqa9jQ"
      },
      "source": [
        "### Based on the article: https://realpython.com/python-statistics/\n",
        "### by Mirko Stojiljković https://realpython.com/team/mstojiljkovic/\n"
      ]
    },
    {
      "cell_type": "markdown",
      "metadata": {
        "id": "WRoCuu7PYju3"
      },
      "source": [
        "# Descriptive statistic basics\n",
        "### Descriptive statistics describes and summerizes the data\n",
        "##### Summerising 1 variable: univariate analysis\n",
        "##### Summerising 2 variable: bivariate analysis\n",
        "##### Summerising many variable: multivariate analysis\n",
        "\n"
      ]
    },
    {
      "cell_type": "markdown",
      "metadata": {
        "id": "wCyUVX9XZjPK"
      },
      "source": [
        "#### Central tendency: Teslls about the center of data; mean, mode, median\n",
        "#### Variability: Tells how the data is spreaded\n",
        "#### correlation/Joint variability: Tell about how a pair of variables behavies; covariance, correlation coefficent"
      ]
    },
    {
      "cell_type": "markdown",
      "metadata": {
        "id": "0jr8Qd-Za3WV"
      },
      "source": [
        "#### Outliers: Data samples that significantly vary from the majority of the data in the sample/population\n",
        "\n",
        "#### Causes: Natural variations, Changes/Errors in the measurement devices\n"
      ]
    },
    {
      "cell_type": "markdown",
      "metadata": {
        "id": "YNm0Es4JbwAi"
      },
      "source": [
        "## Calculating the descriptive statistics"
      ]
    },
    {
      "cell_type": "code",
      "metadata": {
        "id": "J2HFdXF8YKDQ"
      },
      "source": [
        "# Imports\n",
        "import statistics # Python standard statistic lib\n",
        "import numpy as np\n",
        "import pandas as pd\n",
        "import scipy.stats\n",
        "import math"
      ],
      "execution_count": null,
      "outputs": []
    },
    {
      "cell_type": "code",
      "metadata": {
        "id": "L24iJfOkb38P"
      },
      "source": [
        "# Create some data to work with\n",
        "x = [8.0, 1, 2.5, 4, 28.0]\n",
        "x_with_nan = [8.0, 1, 2.5, math.nan, 4, 28.0] # In a dataset \"nan\" can represent a missing datapoint"
      ],
      "execution_count": null,
      "outputs": []
    },
    {
      "cell_type": "code",
      "metadata": {
        "colab": {
          "base_uri": "https://localhost:8080/"
        },
        "id": "LM2rHKtecQWq",
        "outputId": "728c900d-5866-4b1b-f101-d9d06c1c5566"
      },
      "source": [
        "# Create a pandas seriese and numpy array from data\n",
        "y, y_with_nan = np.array(x), np.array(x_with_nan)\n",
        "z, z_with_nan = pd.Series(x), pd.Series(x_with_nan)\n",
        "print(y)\n",
        "print(y_with_nan)\n",
        "print(z)\n",
        "print(z_with_nan)"
      ],
      "execution_count": null,
      "outputs": [
        {
          "output_type": "stream",
          "name": "stdout",
          "text": [
            "[ 8.   1.   2.5  4.  28. ]\n",
            "[ 8.   1.   2.5  nan  4.  28. ]\n",
            "0     8.0\n",
            "1     1.0\n",
            "2     2.5\n",
            "3     4.0\n",
            "4    28.0\n",
            "dtype: float64\n",
            "0     8.0\n",
            "1     1.0\n",
            "2     2.5\n",
            "3     NaN\n",
            "4     4.0\n",
            "5    28.0\n",
            "dtype: float64\n"
          ]
        }
      ]
    },
    {
      "cell_type": "markdown",
      "metadata": {
        "id": "IKcHhhZFdrkN"
      },
      "source": [
        "## Measure of central tendencies"
      ]
    },
    {
      "cell_type": "markdown",
      "metadata": {
        "id": "N9rJw1AUdwjN"
      },
      "source": [
        "### Mean\n",
        "#### Sum of all elements divided by the number of data points\n",
        "#### also known as: simple mean, simple arithmatic mean, average\n",
        "#### describes the center of the data"
      ]
    },
    {
      "cell_type": "markdown",
      "metadata": {
        "id": "0-ALGBrdeLEI"
      },
      "source": [
        "![image.png](data:image/png;base64,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)"
      ]
    },
    {
      "cell_type": "code",
      "metadata": {
        "colab": {
          "base_uri": "https://localhost:8080/"
        },
        "id": "_-6YLWPbdFa6",
        "outputId": "0546a10a-dee2-4ed4-ad34-c6a014ba368a"
      },
      "source": [
        "mean_ = sum(x) / len(x) # sum / length\n",
        "print(mean_)"
      ],
      "execution_count": null,
      "outputs": [
        {
          "output_type": "stream",
          "name": "stdout",
          "text": [
            "8.7\n"
          ]
        }
      ]
    },
    {
      "cell_type": "code",
      "metadata": {
        "colab": {
          "base_uri": "https://localhost:8080/"
        },
        "id": "aryvBkpJeavc",
        "outputId": "f38bea3b-4973-49f6-8992-8e57615bd65b"
      },
      "source": [
        "# python standard statistic library\n",
        "mean_ = statistics.mean(x)\n",
        "print(mean_)"
      ],
      "execution_count": null,
      "outputs": [
        {
          "output_type": "stream",
          "name": "stdout",
          "text": [
            "8.7\n"
          ]
        }
      ]
    },
    {
      "cell_type": "code",
      "metadata": {
        "colab": {
          "base_uri": "https://localhost:8080/"
        },
        "id": "owCpUPh6exrB",
        "outputId": "c4a8cdec-07d6-4efb-b9f2-d954759ea7a5"
      },
      "source": [
        "mean_ = statistics.mean(x_with_nan)\n",
        "print(mean_)"
      ],
      "execution_count": null,
      "outputs": [
        {
          "output_type": "stream",
          "name": "stdout",
          "text": [
            "nan\n"
          ]
        }
      ]
    },
    {
      "cell_type": "code",
      "metadata": {
        "colab": {
          "base_uri": "https://localhost:8080/"
        },
        "id": "w0Ay6zZPe5zS",
        "outputId": "8d5781ac-cbee-4738-9485-95200c00e4b0"
      },
      "source": [
        "# Numpy version\n",
        "mean_ = y.mean()\n",
        "print(mean_)\n",
        "mean_ = np.mean(y)\n",
        "print(mean_)"
      ],
      "execution_count": null,
      "outputs": [
        {
          "output_type": "stream",
          "name": "stdout",
          "text": [
            "8.7\n",
            "8.7\n"
          ]
        }
      ]
    },
    {
      "cell_type": "code",
      "metadata": {
        "colab": {
          "base_uri": "https://localhost:8080/"
        },
        "id": "xMUTy83gfP_B",
        "outputId": "7f45ea30-4ee4-4fd9-dc3b-2c7ae5875d0e"
      },
      "source": [
        "mean_ = y_with_nan.mean()\n",
        "print(mean_)"
      ],
      "execution_count": null,
      "outputs": [
        {
          "output_type": "stream",
          "name": "stdout",
          "text": [
            "nan\n"
          ]
        }
      ]
    },
    {
      "cell_type": "code",
      "metadata": {
        "colab": {
          "base_uri": "https://localhost:8080/"
        },
        "id": "Jv6V8ZmQfUjp",
        "outputId": "8300f2ee-b56f-4b6e-c58b-0ef3952be786"
      },
      "source": [
        "# Pandas version\n",
        "mean_ = z.mean()\n",
        "print(mean_)\n",
        "mean_ = z_with_nan.mean()\n",
        "print(mean_) # Note that pandas ignores the \"nan\" value"
      ],
      "execution_count": null,
      "outputs": [
        {
          "output_type": "stream",
          "name": "stdout",
          "text": [
            "8.7\n",
            "8.7\n"
          ]
        }
      ]
    },
    {
      "cell_type": "markdown",
      "metadata": {
        "id": "ZtexJBwohBQF"
      },
      "source": [
        "### Weighted mean\n",
        "#### Allows the assign an importance (weight) to each data point when calculating the mean. \n",
        "#### for example one can assign the frequency of occurance as weights to calculate the weighted mean\n",
        "#### e.g: 0.3 * 2 + 0.1 * 5 + 0.4 * 1 + 0.2 * 8\n",
        "#### weighted mean $= \\sum \\frac {x_i w_i}{w_i}$\n",
        "#### usually, the weights selected as $w_i > 0$ and $\\sum w_i = 1$\n"
      ]
    },
    {
      "cell_type": "code",
      "metadata": {
        "colab": {
          "base_uri": "https://localhost:8080/"
        },
        "id": "JokGgAx7foG_",
        "outputId": "32de6360-ff9f-426e-ea02-d0998dcae255"
      },
      "source": [
        "# Weighted mean calculation\n",
        "x = [8.0, 1, 2.5, 4, 28.0]\n",
        "w = [0.1, 0.2, 0.3, 0.25, 0.15]\n",
        "\n",
        "wmean = sum(map(lambda x, w: x * w, x, w)) / sum(w)\n",
        "print(wmean)"
      ],
      "execution_count": null,
      "outputs": [
        {
          "output_type": "stream",
          "name": "stdout",
          "text": [
            "6.95\n"
          ]
        }
      ]
    },
    {
      "cell_type": "code",
      "metadata": {
        "colab": {
          "base_uri": "https://localhost:8080/"
        },
        "id": "1WsY1jKKjDzi",
        "outputId": "b6753b8b-ca2d-4a4a-8066-c3f2f3df7a86"
      },
      "source": [
        "wmean = sum(w[i] * x[i] for i in range(len(x))) / sum(w)\n",
        "print(wmean)"
      ],
      "execution_count": null,
      "outputs": [
        {
          "output_type": "stream",
          "name": "stdout",
          "text": [
            "6.95\n"
          ]
        }
      ]
    },
    {
      "cell_type": "code",
      "metadata": {
        "colab": {
          "base_uri": "https://localhost:8080/"
        },
        "id": "6wDjhNMijrVE",
        "outputId": "ca45ad44-dda1-404e-d0e5-b4cdd13695de"
      },
      "source": [
        "# Using Numpy and Pandas\n",
        "w = [0.1, 0.2, 0.3, 0.25, 0.15]\n",
        "y, z, w = np.array(x), pd.Series(x), np.array(w)\n",
        "wmean = np.average(y, weights=w)\n",
        "print(wmean)\n",
        "# Note that when \"nan\" present the weighted mean result in a nan\n",
        "y_with_nan = np.array(x_with_nan)\n",
        "wmean = np.average(y_with_nan, weights=w.put(3, 0.0)) # append 0.0 weight to nan value\n",
        "print(wmean)\n",
        "wmean = np.average(z_with_nan, weights=w.put(3, 0.0))\n",
        "print(wmean)"
      ],
      "execution_count": null,
      "outputs": [
        {
          "output_type": "stream",
          "name": "stdout",
          "text": [
            "6.95\n",
            "nan\n",
            "nan\n"
          ]
        }
      ]
    },
    {
      "cell_type": "markdown",
      "metadata": {
        "id": "HcEOqHmDnGsd"
      },
      "source": [
        "### Harmonic Mean\n",
        "#### Harmonic mean is the reciprocal (inverse) mean of the reciprocals of all data samples\n",
        "#### desired for situations where the average rate is in interest: https://en.wikipedia.org/wiki/Harmonic_mean\n",
        "#### Harmonic mean $= \\frac {N} {\\sum_{i=1}^{N} \\frac {1}{x_i}}$; where $N$ is the number of samples"
      ]
    },
    {
      "cell_type": "code",
      "metadata": {
        "colab": {
          "base_uri": "https://localhost:8080/"
        },
        "id": "7MX6HdUpkfiW",
        "outputId": "b46b6ca9-f40b-4616-9b51-0e151d2be711"
      },
      "source": [
        "# Harmonic mean calculation\n",
        "hmean = len(x) / sum(map(lambda x: 1 / x, x))\n",
        "print(hmean)\n",
        "hmean = len(x) / sum(1 / item for item in x)\n",
        "print(hmean)"
      ],
      "execution_count": null,
      "outputs": [
        {
          "output_type": "stream",
          "name": "stdout",
          "text": [
            "2.7613412228796843\n",
            "2.7613412228796843\n"
          ]
        }
      ]
    },
    {
      "cell_type": "code",
      "metadata": {
        "colab": {
          "base_uri": "https://localhost:8080/"
        },
        "id": "zv7tB3qkoo55",
        "outputId": "b891e914-0914-44a4-d49b-12a7d5faafad"
      },
      "source": [
        "# using statistics library\n",
        "hmean = statistics.harmonic_mean(x)\n",
        "print(hmean)\n",
        "# when nan is present\n",
        "hmean = statistics.harmonic_mean(x_with_nan)\n",
        "print(hmean)"
      ],
      "execution_count": null,
      "outputs": [
        {
          "output_type": "stream",
          "name": "stdout",
          "text": [
            "2.7613412228796843\n",
            "nan\n"
          ]
        }
      ]
    },
    {
      "cell_type": "code",
      "metadata": {
        "colab": {
          "base_uri": "https://localhost:8080/"
        },
        "id": "IET6KPPbo_TF",
        "outputId": "cc3b3050-03b7-4ef1-f75c-a264e87b4b39"
      },
      "source": [
        "# using scipy statistics library\n",
        "hmean_ = scipy.stats.hmean(x)\n",
        "print(hmean_)\n",
        "# hmean_ = scipy.stats.hmean(x_with_nan) # ERROR; not defined for nan"
      ],
      "execution_count": null,
      "outputs": [
        {
          "output_type": "stream",
          "name": "stdout",
          "text": [
            "2.7613412228796843\n"
          ]
        }
      ]
    },
    {
      "cell_type": "markdown",
      "metadata": {
        "id": "hjAN7HStvRF0"
      },
      "source": [
        "### Median\n",
        "#### The median is the middle element of the sorted dataset\n",
        "#### If the number of samples are odd, its the value at middle position $0.5(N+1)$\n",
        "#### if the number of samples are even, its the arithmatic mean of the values at $0.5N$ and $(0.5n)+1$\n",
        "\n",
        "#### e.g: take the dataset $2,4,1,8,9$\n",
        "#### when sorted; $1,2,4,8,9$ median is the 3rd value 4\n",
        "#### when one number is removed; $1,2,4,8$; median is $\\frac {2 + 4} {2} = 3$"
      ]
    },
    {
      "cell_type": "markdown",
      "metadata": {
        "id": "sY0fhLvExhuv"
      },
      "source": [
        "![image.png](data:image/png;base64,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)"
      ]
    },
    {
      "cell_type": "markdown",
      "metadata": {
        "id": "ri-OrkTXxn_f"
      },
      "source": [
        "#### Dataset: $(1, 2.5, 4, 8, 28)$; 28 is the outliear and top set has a median of 4. When the outlier is removed (bottom set), the median becomes 3.25"
      ]
    },
    {
      "cell_type": "markdown",
      "metadata": {
        "id": "iGUQ9zkHyFlc"
      },
      "source": [
        "![image.png](data:image/png;base64,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)"
      ]
    },
    {
      "cell_type": "markdown",
      "metadata": {
        "id": "jEbl2MUpyHsr"
      },
      "source": [
        "#### image above shows the mean and the median\n",
        "#### mean is usually heavily affected by the outliers, but the median is slightly or not at all affected\n",
        "\n",
        "#### e.g: image below"
      ]
    },
    {
      "cell_type": "markdown",
      "metadata": {
        "id": "LE3bJFdey_SE"
      },
      "source": [
        "![image.png](data:image/png;base64,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)"
      ]
    },
    {
      "cell_type": "code",
      "metadata": {
        "colab": {
          "base_uri": "https://localhost:8080/"
        },
        "id": "olTyRbI6xdDN",
        "outputId": "6d064937-0734-4dc0-e9cc-2f6951f82377"
      },
      "source": [
        "# median using statistics library\n",
        "median_ = statistics.median(x)\n",
        "print(sorted(x))\n",
        "print(median_)\n",
        "# without the outlier\n",
        "median_ = statistics.median(x[:-1])\n",
        "print(median_)"
      ],
      "execution_count": null,
      "outputs": [
        {
          "output_type": "stream",
          "name": "stdout",
          "text": [
            "[1, 2.5, 4, 8.0, 28.0]\n",
            "4\n",
            "3.25\n"
          ]
        }
      ]
    },
    {
      "cell_type": "code",
      "metadata": {
        "colab": {
          "base_uri": "https://localhost:8080/"
        },
        "id": "H3Xk8hfJ-oDu",
        "outputId": "62d99350-60d4-48d4-b12f-63fd7f87dffc"
      },
      "source": [
        "# numpy version\n",
        "median_ = np.median(y)\n",
        "print(median_)\n",
        "median_ = np.median(y[:-1])\n",
        "print(median_)\n",
        "\n",
        "# For datasets with missing values (nan)\n",
        "median_ = np.nanmedian(y_with_nan)\n",
        "print(median_)"
      ],
      "execution_count": null,
      "outputs": [
        {
          "output_type": "stream",
          "name": "stdout",
          "text": [
            "4.0\n",
            "3.25\n",
            "4.0\n"
          ]
        }
      ]
    },
    {
      "cell_type": "code",
      "metadata": {
        "colab": {
          "base_uri": "https://localhost:8080/"
        },
        "id": "QifAr69xAr0k",
        "outputId": "668c2c70-3de9-43bf-d6e8-3c0b6fdabf86"
      },
      "source": [
        "# Pandas version\n",
        "median_ = z.median()\n",
        "print(median_)\n",
        "median_ = z_with_nan.median()\n",
        "print(median_)"
      ],
      "execution_count": null,
      "outputs": [
        {
          "output_type": "stream",
          "name": "stdout",
          "text": [
            "4.0\n",
            "4.0\n"
          ]
        }
      ]
    },
    {
      "cell_type": "markdown",
      "metadata": {
        "id": "88zh1hm0BSDh"
      },
      "source": [
        "### Mode\n",
        "#### Mode is the most frequently occured value in a dataset\n",
        "#### If there is no mode, the data distribution is more likely a multimodal distribution\n"
      ]
    },
    {
      "cell_type": "code",
      "metadata": {
        "colab": {
          "base_uri": "https://localhost:8080/"
        },
        "id": "m-Uf3eSxBLAS",
        "outputId": "540ab5c6-cc78-488e-fae2-cb7b7413c889"
      },
      "source": [
        "# Computing mode in a dataset\n",
        "u = [2, 3, 2, 8, 12]\n",
        "mode_ = max((u.count(item), item) for item in set(u))[1]\n",
        "print(mode_)\n",
        "a = [(u.count(item), item) for item in set(u)]\n",
        "print(a)"
      ],
      "execution_count": null,
      "outputs": [
        {
          "output_type": "stream",
          "name": "stdout",
          "text": [
            "2\n",
            "[(1, 8), (2, 2), (1, 3), (1, 12)]\n"
          ]
        }
      ]
    },
    {
      "cell_type": "code",
      "metadata": {
        "colab": {
          "base_uri": "https://localhost:8080/"
        },
        "id": "uAuhy4ZiCO5V",
        "outputId": "f1f18cea-6570-4844-f23a-961b7e7205a6"
      },
      "source": [
        "# python statistics library\n",
        "mode_ = statistics.mode(u)\n",
        "print(mode_)"
      ],
      "execution_count": null,
      "outputs": [
        {
          "output_type": "stream",
          "name": "stdout",
          "text": [
            "2\n"
          ]
        }
      ]
    },
    {
      "cell_type": "code",
      "metadata": {
        "id": "v_E4s1YQCudC"
      },
      "source": [
        "# Colab multimode doesnt work"
      ],
      "execution_count": null,
      "outputs": []
    },
    {
      "cell_type": "code",
      "metadata": {
        "colab": {
          "base_uri": "https://localhost:8080/"
        },
        "id": "WHsBsZJ4Dcnt",
        "outputId": "1f1e3752-09e5-4dc9-aeb4-fffc2563a248"
      },
      "source": [
        "# Scipy stat version\n",
        "u = np.array(u)\n",
        "v = np.array([2, 3, 2, 8, 12, 3, 3, 2, 3])\n",
        "mode_ = scipy.stats.mode(u)\n",
        "print(mode_)\n",
        "mode_ = scipy.stats.mode(v)\n",
        "print(mode_)"
      ],
      "execution_count": null,
      "outputs": [
        {
          "output_type": "stream",
          "name": "stdout",
          "text": [
            "ModeResult(mode=array([2]), count=array([2]))\n",
            "ModeResult(mode=array([3]), count=array([4]))\n"
          ]
        }
      ]
    },
    {
      "cell_type": "code",
      "metadata": {
        "colab": {
          "base_uri": "https://localhost:8080/"
        },
        "id": "4MBjdspl1qpC",
        "outputId": "fd256916-e7f1-487b-c36e-193d231c45ef"
      },
      "source": [
        "# Pandas version\n",
        "u = [2, 3, 2, 8, 12]\n",
        "u_with_nan = u\n",
        "u_with_nan.append(math.nan)\n",
        "u = pd.Series(u)\n",
        "u_with_nan = pd.Series(u_with_nan)\n",
        "# print(u)\n",
        "# print(u_with_nan)\n",
        "mode_ = u.mode()\n",
        "print(mode_)\n",
        "mode_ = u_with_nan.mode() # can calculate with nan values\n",
        "print(mode_)"
      ],
      "execution_count": null,
      "outputs": [
        {
          "output_type": "stream",
          "name": "stdout",
          "text": [
            "0    2.0\n",
            "dtype: float64\n",
            "0    2.0\n",
            "dtype: float64\n"
          ]
        }
      ]
    },
    {
      "cell_type": "code",
      "metadata": {
        "colab": {
          "base_uri": "https://localhost:8080/"
        },
        "id": "zirYxtCGFXDK",
        "outputId": "6a0866ee-a60e-44eb-9ccc-9c375623bc3d"
      },
      "source": [
        "# Multimode pure python version\n",
        "u_multimode = [2, 3, 2, 8, 12, 11, 9, 28, 3, 3, 2, 8, 2, 3, 2]\n",
        "#  lambda <arguments> : <value_1> if <condition> else <value_2>\n",
        "get_modes = lambda x : True if x[0] > 2 else False\n",
        "# print([(u_multimode.count(item), item) for item in set(u_multimode)])\n",
        "# functional\n",
        "multimode_ = list(\n",
        "              map(\n",
        "                  lambda x: x[1], \n",
        "                  (filter(\n",
        "                      get_modes, \n",
        "                      [(u_multimode.count(item), item) for item in set(u_multimode)]\n",
        "                    )\n",
        "                  )\n",
        "                )\n",
        "              )\n",
        "print(multimode_)\n",
        "# EXERCISE: TRY TO CONVERT THIS FUNCTION TO A FUNCTION WITH NESTED FOR-LOOPS"
      ],
      "execution_count": null,
      "outputs": [
        {
          "output_type": "stream",
          "name": "stdout",
          "text": [
            "[2, 3]\n"
          ]
        }
      ]
    },
    {
      "cell_type": "markdown",
      "metadata": {
        "id": "1066bykg3i3w"
      },
      "source": [
        "## Measure of variance"
      ]
    },
    {
      "cell_type": "markdown",
      "metadata": {
        "id": "3B--Zv9L3ox8"
      },
      "source": [
        "### Measure of variance addresses the spread of the data using different measurements such as variance, standard deviation, skewness, percentile and range"
      ]
    },
    {
      "cell_type": "markdown",
      "metadata": {
        "id": "7KCEZRXL5ky_"
      },
      "source": [
        "### Variance\n",
        "#### Numerically shows how far a data point, from its mean. So the spread of the data\n",
        "#### The sample variance for a dataset x with N samples can be calculated using the following equation:\n",
        "#### sample variance $= \\frac {\\sum_{i=1}^{N} (x_i - mean(x))^2}{N-1}$\n",
        "\n",
        "#### alway a positive value\n",
        "#### Measures the spread as the average of squared deviation\n",
        "#### squraring weighs outliers heavily "
      ]
    },
    {
      "cell_type": "code",
      "metadata": {
        "colab": {
          "base_uri": "https://localhost:8080/"
        },
        "id": "B8vbRB003A0P",
        "outputId": "ba8c86b1-61c3-42fc-b414-40a8311bd516"
      },
      "source": [
        "N = len(x)\n",
        "mean_ = sum(x) / N\n",
        "var_ = sum((item - mean_)**2 for item in x) / (N - 1)\n",
        "print(var_)"
      ],
      "execution_count": null,
      "outputs": [
        {
          "output_type": "stream",
          "name": "stdout",
          "text": [
            "123.19999999999999\n"
          ]
        }
      ]
    },
    {
      "cell_type": "code",
      "metadata": {
        "colab": {
          "base_uri": "https://localhost:8080/"
        },
        "id": "Bx9hCgJfUCVj",
        "outputId": "2e8f74cf-ef32-4597-fa44-7be7d6f14eb5"
      },
      "source": [
        "# With statistics library\n",
        "var_ = statistics.variance(x)\n",
        "print(var_)\n",
        "# can't handle missing data\n",
        "var_ = statistics.variance(x_with_nan)\n",
        "print(var_)\n",
        "\n",
        "# Population variance\n",
        "var_ = statistics.pvariance(x)\n",
        "print(var_)"
      ],
      "execution_count": null,
      "outputs": [
        {
          "output_type": "stream",
          "name": "stdout",
          "text": [
            "123.2\n",
            "nan\n",
            "98.56\n"
          ]
        }
      ]
    },
    {
      "cell_type": "code",
      "metadata": {
        "colab": {
          "base_uri": "https://localhost:8080/"
        },
        "id": "mV1TvAOOURVe",
        "outputId": "d92c544a-e50a-4523-fd61-ffb1598cff7a"
      },
      "source": [
        "# Numpy version\n",
        "var_ = np.var(x, ddof=1) # ddof: delta degrees of freedom; N - ddof; default ddof=0; ddof = 1 for sample variance; 0 for population variance\n",
        "print(var_)\n",
        "# For missing values\n",
        "var_ = np.var(x_with_nan, ddof=1)\n",
        "print(var_) # doesnt work\n",
        "# use nanvar for missing values\n",
        "var_ = np.nanvar(x, ddof=1)\n",
        "print(var_)\n",
        "\n",
        "# Population variance\n",
        "var_ = np.var(x, ddof=0)\n",
        "print(var_)"
      ],
      "execution_count": null,
      "outputs": [
        {
          "output_type": "stream",
          "name": "stdout",
          "text": [
            "123.19999999999999\n",
            "nan\n",
            "123.19999999999999\n",
            "98.55999999999999\n"
          ]
        }
      ]
    },
    {
      "cell_type": "code",
      "metadata": {
        "colab": {
          "base_uri": "https://localhost:8080/"
        },
        "id": "YdMq5TlrVrg8",
        "outputId": "d50a6108-faf0-471d-b217-9f5796f9e8f7"
      },
      "source": [
        "# Pandas version\n",
        "var_ = z.var()\n",
        "print(var_)\n",
        "# with missing values\n",
        "var_ = z_with_nan.var()\n",
        "print(var_)"
      ],
      "execution_count": null,
      "outputs": [
        {
          "output_type": "stream",
          "name": "stdout",
          "text": [
            "123.19999999999999\n",
            "123.19999999999999\n"
          ]
        }
      ]
    },
    {
      "cell_type": "markdown",
      "metadata": {
        "id": "PsyYy-ZgxGhA"
      },
      "source": [
        "### Normal Distribution\n",
        "#### Following cell plots a normal distribution\n",
        "#### $N = \\frac {e^{\\frac {-(x-\\mu)^2} {2 \\sigma^2}}}{\\sigma \\sqrt {2 \\pi}}$"
      ]
    },
    {
      "cell_type": "code",
      "metadata": {
        "colab": {
          "base_uri": "https://localhost:8080/",
          "height": 265
        },
        "id": "si5TtaMwusNz",
        "outputId": "98fca042-4dab-4c42-8eba-998b97dc74d6"
      },
      "source": [
        "# A normal distribution using scipy stat\n",
        "from scipy.stats import norm\n",
        "import matplotlib.pyplot as plt\n",
        "\n",
        "x_axis = np.arange(-10, 10, 0.001)\n",
        "# Mean = 0, SD = 2.\n",
        "plt.plot(x_axis, norm.pdf(x_axis,0,1)) # xaxis, mean, standard deviation\n",
        "plt.show()"
      ],
      "execution_count": 53,
      "outputs": [
        {
          "output_type": "display_data",
          "data": {
            "image/png": "[encoded data removed]",
            "text/plain": [
              "<Figure size 432x288 with 1 Axes>"
            ]
          },
          "metadata": {
            "needs_background": "light"
          }
        }
      ]
    },
    {
      "cell_type": "markdown",
      "metadata": {
        "id": "0L_QBRwYXdZF"
      },
      "source": [
        "### Standard deviation\n",
        "#### Standard deviation is the square root of the variance\n",
        "#### It measures the spread of the distribution around the mean\n",
        "#### Gives the spread in the same units as the random variable (square root of the squared value (variance))\n",
        "\n",
        "#### $\\sigma = \\sqrt {variance}$"
      ]
    },
    {
      "cell_type": "code",
      "metadata": {
        "id": "tS0Meaf2WJ_I",
        "colab": {
          "base_uri": "https://localhost:8080/"
        },
        "outputId": "9dfe84a7-f8fa-4395-a2d9-6ee4265ba437"
      },
      "source": [
        "# Using pure python\n",
        "stdv_ = var_ ** 0.5\n",
        "print(stdv_)"
      ],
      "execution_count": 55,
      "outputs": [
        {
          "output_type": "stream",
          "name": "stdout",
          "text": [
            "11.099549540409285\n"
          ]
        }
      ]
    },
    {
      "cell_type": "code",
      "metadata": {
        "colab": {
          "base_uri": "https://localhost:8080/"
        },
        "id": "Qf53cxVK03Wg",
        "outputId": "41954ea8-63a7-44d0-a3bd-6e23069e9079"
      },
      "source": [
        "# Using statistics library\n",
        "stdv_ = statistics.stdev(x)\n",
        "print(stdv_)"
      ],
      "execution_count": 56,
      "outputs": [
        {
          "output_type": "stream",
          "name": "stdout",
          "text": [
            "11.099549540409287\n"
          ]
        }
      ]
    },
    {
      "cell_type": "code",
      "metadata": {
        "colab": {
          "base_uri": "https://localhost:8080/"
        },
        "id": "4zFRmIFW1GoJ",
        "outputId": "034caf92-5af1-4747-94db-6c43bcf8c60d"
      },
      "source": [
        "# numpy version\n",
        "stdv_ = np.std(x, ddof=1)\n",
        "print(stdv_)\n",
        "stdv_ = y.std(ddof=1)\n",
        "print(stdv_)\n",
        "\n",
        "# Cant handle missing values\n",
        "stdv_ = y_with_nan.std(ddof=1)\n",
        "print(stdv_)\n",
        "\n",
        "# NaN version\n",
        "stdv_ = np.nanstd(y_with_nan, ddof=1)\n",
        "print(stdv_)"
      ],
      "execution_count": 62,
      "outputs": [
        {
          "output_type": "stream",
          "name": "stdout",
          "text": [
            "11.099549540409285\n",
            "11.099549540409285\n",
            "nan\n",
            "11.099549540409285\n"
          ]
        }
      ]
    },
    {
      "cell_type": "code",
      "metadata": {
        "colab": {
          "base_uri": "https://localhost:8080/"
        },
        "id": "KLZzIocf1Oxn",
        "outputId": "b207e589-fbf9-4395-86b8-026cebb79489"
      },
      "source": [
        "# Pandas version\n",
        "stdv_ = z.std(ddof=1)\n",
        "print(stdv_)\n",
        "\n",
        "# Handling NaN\n",
        "stdv_ = z_with_nan.std(ddof=1)\n",
        "print(stdv_)"
      ],
      "execution_count": 63,
      "outputs": [
        {
          "output_type": "stream",
          "name": "stdout",
          "text": [
            "11.099549540409285\n",
            "11.099549540409285\n"
          ]
        }
      ]
    },
    {
      "cell_type": "markdown",
      "metadata": {
        "id": "gwPjeynu3Bfu"
      },
      "source": [
        "### Skewness\n",
        "#### Skewness indicates how asymetrically the data is spreaded\n",
        "#### When data is more towards left, its negative skew\n",
        "#### When data is more towards right, its positive skew\n",
        "#### skewness $ = \\frac {\\sum_{i}(x_i - \\mu)^3 n} {(n-1)(n-2)s^3}$ ; adjusted Fisher-Pearson standardized moment coefficient."
      ]
    },
    {
      "cell_type": "code",
      "metadata": {
        "colab": {
          "base_uri": "https://localhost:8080/",
          "height": 265
        },
        "id": "29TEDcCk2AeY",
        "outputId": "be8a028d-3b5e-43c7-fbaa-758ef5b14f40"
      },
      "source": [
        "from scipy.stats import skewnorm\n",
        "import matplotlib.pyplot as plt\n",
        "\n",
        "x_axis = np.arange(-10, 10, 0.001)\n",
        "# Mean = 0, SD = 2.\n",
        "plt.plot(x_axis, skewnorm.pdf(x_axis, -2, 0, 2)) # Negative skewed normal distribution\n",
        "plt.show()"
      ],
      "execution_count": 87,
      "outputs": [
        {
          "output_type": "display_data",
          "data": {
            "image/png": "[encoded data removed]",
            "text/plain": [
              "<Figure size 432x288 with 1 Axes>"
            ]
          },
          "metadata": {
            "needs_background": "light"
          }
        }
      ]
    },
    {
      "cell_type": "code",
      "metadata": {
        "colab": {
          "base_uri": "https://localhost:8080/",
          "height": 265
        },
        "id": "iyMf6n3f3qJI",
        "outputId": "be2cd452-96cb-4d35-a43c-c216edd55255"
      },
      "source": [
        "\n",
        "x_axis = np.arange(-10, 10, 0.001)\n",
        "# Mean = 0, SD = 2.\n",
        "plt.plot(x_axis, skewnorm.pdf(x_axis, 2, 0, 2)) # Positive skewed normal distribution\n",
        "plt.show()"
      ],
      "execution_count": 70,
      "outputs": [
        {
          "output_type": "display_data",
          "data": {
            "image/png": "[encoded data removed]",
            "text/plain": [
              "<Figure size 432x288 with 1 Axes>"
            ]
          },
          "metadata": {
            "needs_background": "light"
          }
        }
      ]
    },
    {
      "cell_type": "code",
      "metadata": {
        "colab": {
          "base_uri": "https://localhost:8080/"
        },
        "id": "JMWUVLhu38_K",
        "outputId": "7847be27-f405-4eb5-f77f-a9a241d49397"
      },
      "source": [
        "# Skewness in pure python\n",
        "skew_ = sum((item - mean_) ** 3 for item in x) * N / ((N-1)*(N-2)*stdv_ ** 3)\n",
        "print(skew_)"
      ],
      "execution_count": 73,
      "outputs": [
        {
          "output_type": "stream",
          "name": "stdout",
          "text": [
            "1.9470432273905929\n"
          ]
        }
      ]
    },
    {
      "cell_type": "code",
      "metadata": {
        "colab": {
          "base_uri": "https://localhost:8080/"
        },
        "id": "MUerSvwP6JAH",
        "outputId": "465522a9-0284-4d90-f4d0-fe0ad4a07e3f"
      },
      "source": [
        "# Scipy stat version\n",
        "skew_ = scipy.stats.skew(x, bias=False)\n",
        "print(skew_)"
      ],
      "execution_count": 74,
      "outputs": [
        {
          "output_type": "stream",
          "name": "stdout",
          "text": [
            "1.9470432273905927\n"
          ]
        }
      ]
    },
    {
      "cell_type": "code",
      "metadata": {
        "colab": {
          "base_uri": "https://localhost:8080/"
        },
        "id": "m3kJlvs_8qCR",
        "outputId": "6da9d6d6-3d95-40f4-d362-f7e6556e9ea1"
      },
      "source": [
        "# Pandas version\n",
        "skew_ = z.skew()\n",
        "print(skew_)\n",
        "\n",
        "# with NaNs\n",
        "skew_ = z_with_nan.skew()\n",
        "print(skew_)"
      ],
      "execution_count": 79,
      "outputs": [
        {
          "output_type": "stream",
          "name": "stdout",
          "text": [
            "1.9470432273905924\n",
            "1.9470432273905924\n"
          ]
        }
      ]
    },
    {
      "cell_type": "code",
      "metadata": {
        "colab": {
          "base_uri": "https://localhost:8080/"
        },
        "id": "HWKQwx488LWw",
        "outputId": "aa085581-1bb0-4c48-f298-7dee13a70c26"
      },
      "source": [
        "x_left = [8, 2.5, 1, 4, -28]\n",
        "skew_ = scipy.stats.skew(x_left, bias=False)\n",
        "print(skew_)"
      ],
      "execution_count": 119,
      "outputs": [
        {
          "output_type": "stream",
          "name": "stdout",
          "text": [
            "-2.051199337479691\n"
          ]
        }
      ]
    },
    {
      "cell_type": "code",
      "metadata": {
        "id": "i5NdKlV0_-Rq"
      },
      "source": [
        ""
      ],
      "execution_count": null,
      "outputs": []
    }
  ]
}