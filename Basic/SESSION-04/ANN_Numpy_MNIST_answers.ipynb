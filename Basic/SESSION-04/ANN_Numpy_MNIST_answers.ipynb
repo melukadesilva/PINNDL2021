{
  "nbformat": 4,
  "nbformat_minor": 0,
  "metadata": {
    "colab": {
      "name": "ANN_Numpy_Regression.ipynb",
      "provenance": [],
      "collapsed_sections": []
    },
    "interpreter": {
      "hash": "cc689c0049f72604b61cc19453d21a95ef7f4b2054b7d53ec7a9c4b537ba7e7d"
    },
    "kernelspec": {
      "display_name": "Python 3.9.7 64-bit ('base': conda)",
      "name": "python3"
    },
    "language_info": {
      "codemirror_mode": {
        "name": "ipython",
        "version": 3
      },
      "file_extension": ".py",
      "mimetype": "text/x-python",
      "name": "python",
      "nbconvert_exporter": "python",
      "pygments_lexer": "ipython3",
      "version": "3.9.7"
    }
  },
  "cells": [
    {
      "cell_type": "code",
      "metadata": {
        "id": "RizJ87Koqmyo"
      },
      "source": [
        "#### Implementation of ANN with SGD and Backprop\n",
        "#### original OOP implementation can be found at: https://medium.com/binaryandmore/beginners-guide-to-deriving-and-implementing-backpropagation-e3c1a5a1e536\n",
        "import numpy as np\n",
        "import tensorflow as tf\n",
        "import matplotlib.pyplot as plt"
      ],
      "execution_count": 1,
      "outputs": []
    },
    {
      "cell_type": "code",
      "metadata": {
        "id": "q4EDmtpGqrSp"
      },
      "source": [
        "## layer:\n",
        "## take input X: (Nx1)\n",
        "## multiply by weights W: (h1xN)\n",
        "## add bias b: (h1x1)\n",
        "def layer(X, W, b): return np.dot(W, X) + b"
      ],
      "execution_count": 2,
      "outputs": []
    },
    {
      "cell_type": "code",
      "metadata": {
        "id": "HJuGPvyeq16g"
      },
      "source": [
        "## lets take the activation as sigmoid (element-wise)\n",
        "def sigmoid(x): return 1 / (1 + np.exp(-x))"
      ],
      "execution_count": 3,
      "outputs": []
    },
    {
      "cell_type": "code",
      "metadata": {
        "id": "9imKk4JYq4GK"
      },
      "source": [
        "## lets define the derivative of the sigmoid\n",
        "def sigmoid_prime(x): return sigmoid(x)*(1.0 - sigmoid(x))"
      ],
      "execution_count": 4,
      "outputs": []
    },
    {
      "cell_type": "code",
      "metadata": {
        "id": "iaq1pJQZrAC8"
      },
      "source": [
        "## define the mse cost per sample\n",
        "def mse(y_pred, y_true): return (1 / 2) * np.square(y_pred - y_true)"
      ],
      "execution_count": 5,
      "outputs": []
    },
    {
      "cell_type": "code",
      "metadata": {
        "id": "tPAw295HrBzQ"
      },
      "source": [
        "## derivative of mse\n",
        "def mse_prime(y_pred, y_true): return (y_pred - y_true)"
      ],
      "execution_count": 6,
      "outputs": []
    },
    {
      "cell_type": "code",
      "metadata": {
        "id": "FDcljZLGrD_5"
      },
      "source": [
        "## NN parameters\n",
        "N = 50 #input size\n",
        "num_nes = [N, 40, 30, 20, 10]\n",
        "num_layers = len(num_nes) - 1\n",
        "learning_rate = 0.01\n",
        "num_epochs = 1000\n",
        "num_data_samples = 100\n",
        "\n",
        "## dict to hold neuron input-output pairs\n",
        "layer_in_out_dict = dict()\n",
        "## dict to hold the cost derivatives w.r.t to the params\n",
        "layer_derivative_dict = dict()"
      ],
      "execution_count": 7,
      "outputs": []
    },
    {
      "cell_type": "code",
      "metadata": {
        "id": "Bb2a_irKriMT"
      },
      "source": [
        "## the dict to hold the layer weights and biases\n",
        "weight_dict = {'w'+str(i): np.random.normal(size=(num_nes[i+1], num_nes[i])) for i in range(num_layers)}\n",
        "bias_dict = {'b'+str(i): np.random.normal(size=(num_nes[i+1], 1)) for i in range(num_layers)}"
      ],
      "execution_count": 8,
      "outputs": []
    },
    {
      "cell_type": "code",
      "metadata": {
        "id": "Sz7Zl5pArjsl"
      },
      "source": [
        "def NN(inputs):\n",
        "    a = inputs\n",
        "    layer_in_out_dict['a0'] = a\n",
        "    ## forward pass\n",
        "    for i in range(num_layers):\n",
        "        #print(i)\n",
        "        z = layer(a, weight_dict['w'+str(i)], bias_dict['b'+str(i)])\n",
        "        a = sigmoid(z)\n",
        "        layer_in_out_dict['z'+str(i)] = z\n",
        "        layer_in_out_dict['a'+str(i+1)] = a\n",
        "    out = a\n",
        "    return out"
      ],
      "execution_count": 9,
      "outputs": []
    },
    {
      "cell_type": "code",
      "metadata": {
        "colab": {
          "base_uri": "https://localhost:8080/"
        },
        "id": "47HzaxV1rl5U",
        "outputId": "3286dcb8-d140-44bc-8aec-bd0800eb9568"
      },
      "source": [
        "## Test the NN with a dummy forward pass\n",
        "inp = np.random.uniform(0, 1, size=(N,1)) * 255.0\n",
        "out_true = np.random.uniform(0, 1, size=(num_nes[-1], 1))\n",
        "out = NN(inp)\n",
        "error = mse(out, out_true)\n",
        "print(np.mean(error))"
      ],
      "execution_count": 10,
      "outputs": [
        {
          "output_type": "stream",
          "name": "stdout",
          "text": [
            "0.12370761575569729\n"
          ]
        },
        {
          "output_type": "stream",
          "name": "stderr",
          "text": [
            "/usr/local/lib/python3.7/dist-packages/ipykernel_launcher.py:2: RuntimeWarning: overflow encountered in exp\n",
            "  \n"
          ]
        }
      ]
    },
    {
      "cell_type": "code",
      "metadata": {
        "id": "br6a79OyroAQ"
      },
      "source": [
        "## Function to perform model prediction\n",
        "def predict(inputs): return NN(inputs)"
      ],
      "execution_count": 11,
      "outputs": []
    },
    {
      "cell_type": "code",
      "metadata": {
        "id": "cICecJuwrqFr"
      },
      "source": [
        "def compute_grads(inputs, targets):\n",
        "    ## perform a forward pass (prediction)\n",
        "    out = predict(inputs)\n",
        "    ## Compute dC/dzL, dC/dwL and dC/dbL\n",
        "    ## first dC/dzL = (a - y) * a * (1 - a)\n",
        "    layer_derivative_dict['dz'+str(num_layers-1)] = mse_prime(out, targets) * out * (1 - out)\n",
        "    ## second compute the dC/dwL = dC/dzL * dzL/dwL\n",
        "    #print(layer_derivative_dict['dz'+str(num_layers-1)].shape)\n",
        "    #print(layer_in_out_dict['a'+str(num_layers-1)].shape)\n",
        "    layer_derivative_dict['dw'+str(num_layers-1)] = np.dot(layer_derivative_dict['dz'+str(num_layers-1)], \\\n",
        "                                                    np.transpose(layer_in_out_dict['a'+str(num_layers-1)]))\n",
        "    ## third calculate the dC/dbL = dC/dzL * dzL/dbL\n",
        "    layer_derivative_dict['db'+str(num_layers-1)] = layer_derivative_dict['dz'+str(num_layers-1)] * 1\n",
        "    \n",
        "    ## Now since we have the derivatives at the output layer, we can calculate the derivatives for the rest of the \n",
        "    ## layers\n",
        "    for i in reversed(range(num_layers-1)):\n",
        "        #print(i)\n",
        "        ## first compute dC/dzl = [w(l+1)*dC/dz(l+1)]*sigmoid_prime(zl)\n",
        "        layer_derivative_dict['dz'+str(i)] = np.dot(\n",
        "                                                np.transpose(weight_dict['w'+str(i+1)]), layer_derivative_dict['dz'+str(i+1)]) \\\n",
        "                                                * sigmoid_prime(layer_in_out_dict['z'+str(i)])\n",
        "        ## second compute dC/dwl = dC/dzl * dzl/dwl\n",
        "        layer_derivative_dict['dw'+str(i)] = layer_derivative_dict['dz'+str(i)] * \\\n",
        "                                                    np.transpose(layer_in_out_dict['a'+str(i)])\n",
        "        \n",
        "        ## third compute dC/dbl = dC/dzl * dzl/dbl\n",
        "        layer_derivative_dict['db'+str(i)] = layer_derivative_dict['dz'+str(i)] * 1"
      ],
      "execution_count": 12,
      "outputs": []
    },
    {
      "cell_type": "code",
      "metadata": {
        "colab": {
          "base_uri": "https://localhost:8080/"
        },
        "id": "vOuOcuTJrsVL",
        "outputId": "54d8e8d5-621f-440c-91a8-5afb74bbcfc2"
      },
      "source": [
        "## test the gradient computation \n",
        "compute_grads(inp, out_true)\n",
        "#print(layer_derivative_dict)"
      ],
      "execution_count": 13,
      "outputs": [
        {
          "output_type": "stream",
          "name": "stderr",
          "text": [
            "/usr/local/lib/python3.7/dist-packages/ipykernel_launcher.py:2: RuntimeWarning: overflow encountered in exp\n",
            "  \n"
          ]
        }
      ]
    },
    {
      "cell_type": "code",
      "metadata": {
        "id": "z3wPaX7Yrt5R"
      },
      "source": [
        "def update_param():\n",
        "    for i in range(num_layers):\n",
        "        weight_dict['w'+str(i)] = weight_dict['w'+str(i)] - learning_rate * layer_derivative_dict['dw'+str(i)]\n",
        "        bias_dict['b'+str(i)] = bias_dict['b'+str(i)] - learning_rate * layer_derivative_dict['db'+str(i)]"
      ],
      "execution_count": 14,
      "outputs": []
    },
    {
      "cell_type": "code",
      "metadata": {
        "id": "hgAm-tsZrwPO"
      },
      "source": [
        "## test param update function\n",
        "update_param()"
      ],
      "execution_count": 15,
      "outputs": []
    },
    {
      "cell_type": "code",
      "metadata": {
        "id": "r4ogIKRNrx8h"
      },
      "source": [
        "## make a dummy training dataset\n",
        "inp_data = np.random.normal(size=(num_data_samples, num_nes[0]))\n",
        "out_true_data = np.random.normal(size=(num_data_samples, num_nes[-1]))\n",
        "#print(training_data)"
      ],
      "execution_count": 16,
      "outputs": []
    },
    {
      "cell_type": "code",
      "metadata": {
        "colab": {
          "base_uri": "https://localhost:8080/"
        },
        "id": "DX3bR1Ngrzvg",
        "outputId": "8654f599-769f-4303-bba0-bb14fa359ddb"
      },
      "source": [
        "mean_epoch_error_list = list()\n",
        "for e in range(num_epochs):\n",
        "    epoch_loss_list = list()\n",
        "    for i in range(num_data_samples):\n",
        "        inp = np.expand_dims(inp_data[i], 1)\n",
        "        out_true = np.expand_dims(out_true_data[i], 1)\n",
        "        #print(inp.shape)\n",
        "        compute_grads(inp, out_true)\n",
        "        update_param()\n",
        "        out = predict(inp)\n",
        "        error = np.mean(mse(out, out_true))\n",
        "        epoch_loss_list.append(error)\n",
        "    mean_epoch_error = np.mean(np.array(epoch_loss_list))\n",
        "    mean_epoch_error_list.append(mean_epoch_error)\n",
        "    print(\"Epoch loss: {}\".format(mean_epoch_error))"
      ],
      "execution_count": 17,
      "outputs": [
        {
          "output_type": "stream",
          "name": "stdout",
          "text": [
            "Epoch loss: 0.6828353110735378\n",
            "Epoch loss: 0.6570007139115107\n",
            "Epoch loss: 0.6449701705618005\n",
            "Epoch loss: 0.6271649282131954\n",
            "Epoch loss: 0.5956337795448341\n",
            "Epoch loss: 0.5707739135411495\n",
            "Epoch loss: 0.5611372184912357\n",
            "Epoch loss: 0.5569615904344963\n",
            "Epoch loss: 0.5545598337796804\n",
            "Epoch loss: 0.5529027761870106\n",
            "Epoch loss: 0.5516219470256085\n",
            "Epoch loss: 0.5505524241728108\n",
            "Epoch loss: 0.5496094845402529\n",
            "Epoch loss: 0.5487454526871225\n",
            "Epoch loss: 0.5479315161963878\n",
            "Epoch loss: 0.5471493371786975\n",
            "Epoch loss: 0.5463869777537365\n",
            "Epoch loss: 0.5456366387528175\n",
            "Epoch loss: 0.5448928940404212\n",
            "Epoch loss: 0.5441508771250213\n",
            "Epoch loss: 0.5434044460319657\n",
            "Epoch loss: 0.5426443728852497\n",
            "Epoch loss: 0.5418560352866607\n",
            "Epoch loss: 0.5410151635634798\n",
            "Epoch loss: 0.5400783053117385\n",
            "Epoch loss: 0.538958648124844\n",
            "Epoch loss: 0.5374548993163318\n",
            "Epoch loss: 0.5349966480682032\n",
            "Epoch loss: 0.5295609779095286\n",
            "Epoch loss: 0.5157100832622429\n",
            "Epoch loss: 0.49971924726549033\n",
            "Epoch loss: 0.49362556019426657\n",
            "Epoch loss: 0.4913643066767471\n",
            "Epoch loss: 0.4900028890052796\n",
            "Epoch loss: 0.4889317370383314\n",
            "Epoch loss: 0.4879860423507354\n",
            "Epoch loss: 0.48710734236751874\n",
            "Epoch loss: 0.4862705270591193\n",
            "Epoch loss: 0.48546327645733933\n",
            "Epoch loss: 0.48467905473555645\n",
            "Epoch loss: 0.4839143513065302\n",
            "Epoch loss: 0.48316736330398014\n",
            "Epoch loss: 0.48243715864729486\n",
            "Epoch loss: 0.481723049641193\n",
            "Epoch loss: 0.4810241833152118\n",
            "Epoch loss: 0.4803393834165114\n",
            "Epoch loss: 0.479667194306699\n",
            "Epoch loss: 0.4790060194832488\n",
            "Epoch loss: 0.4783542631488632\n",
            "Epoch loss: 0.4777104317658317\n",
            "Epoch loss: 0.4770731901869564\n",
            "Epoch loss: 0.47644138302146244\n",
            "Epoch loss: 0.47581403418322843\n",
            "Epoch loss: 0.4751903347797495\n",
            "Epoch loss: 0.47456962608192427\n",
            "Epoch loss: 0.473951381655046\n",
            "Epoch loss: 0.47333519095063264\n",
            "Epoch loss: 0.4727207455532577\n",
            "Epoch loss: 0.47210782863727124\n",
            "Epoch loss: 0.4714963078508223\n",
            "Epoch loss: 0.47088613166000104\n",
            "Epoch loss: 0.47027732898785096\n",
            "Epoch loss: 0.4696700115805821\n",
            "Epoch loss: 0.46906437774878773\n",
            "Epoch loss: 0.4684607149005847\n",
            "Epoch loss: 0.46785939682114197\n",
            "Epoch loss: 0.4672608706213788\n",
            "Epoch loss: 0.4666656287698613\n",
            "Epoch loss: 0.4660741646789179\n",
            "Epoch loss: 0.4654869159313937\n",
            "Epoch loss: 0.46490420545159483\n",
            "Epoch loss: 0.46432619426842964\n",
            "Epoch loss: 0.4637528572901745\n",
            "Epoch loss: 0.46318398631118884\n",
            "Epoch loss: 0.4626192162332248\n",
            "Epoch loss: 0.4620580655104945\n",
            "Epoch loss: 0.4614999817084633\n",
            "Epoch loss: 0.46094438627237083\n",
            "Epoch loss: 0.4603907163707586\n",
            "Epoch loss: 0.4598384638942218\n",
            "Epoch loss: 0.45928721149118346\n",
            "Epoch loss: 0.4587366631233943\n",
            "Epoch loss: 0.4581866631849738\n",
            "Epoch loss: 0.457637195924144\n",
            "Epoch loss: 0.45708835843961076\n",
            "Epoch loss: 0.45654030734738926\n",
            "Epoch loss: 0.4559931892378911\n",
            "Epoch loss: 0.45544707257147615\n",
            "Epoch loss: 0.4549018983274264\n",
            "Epoch loss: 0.4543574583666954\n",
            "Epoch loss: 0.4538133994575325\n",
            "Epoch loss: 0.45326924336341207\n",
            "Epoch loss: 0.4527244117134317\n",
            "Epoch loss: 0.4521782470610949\n",
            "Epoch loss: 0.45163002576516414\n",
            "Epoch loss: 0.4510789621270088\n",
            "Epoch loss: 0.4505242059949978\n",
            "Epoch loss: 0.44996483803839377\n",
            "Epoch loss: 0.44939986844316737\n",
            "Epoch loss: 0.44882824581738584\n",
            "Epoch loss: 0.4482488830673749\n",
            "Epoch loss: 0.44766070574404104\n",
            "Epoch loss: 0.44706272804528735\n",
            "Epoch loss: 0.4464541676217628\n",
            "Epoch loss: 0.4458346236772502\n",
            "Epoch loss: 0.4452043422905284\n",
            "Epoch loss: 0.4445645313084567\n",
            "Epoch loss: 0.4439175522231974\n",
            "Epoch loss: 0.44326673084227103\n",
            "Epoch loss: 0.44261569691028335\n",
            "Epoch loss: 0.441967547587719\n",
            "Epoch loss: 0.44132431430488794\n",
            "Epoch loss: 0.4406869427583201\n",
            "Epoch loss: 0.4400556062213362\n",
            "Epoch loss: 0.43943006537871226\n",
            "Epoch loss: 0.4388099214866484\n",
            "Epoch loss: 0.4381947498958436\n",
            "Epoch loss: 0.4375841548821324\n",
            "Epoch loss: 0.4369777850692511\n",
            "Epoch loss: 0.43637533318987887\n",
            "Epoch loss: 0.4357765315968644\n",
            "Epoch loss: 0.4351811479578133\n",
            "Epoch loss: 0.43458898219096986\n",
            "Epoch loss: 0.433999864360622\n",
            "Epoch loss: 0.43341365307993274\n",
            "Epoch loss: 0.4328302343898213\n",
            "Epoch loss: 0.432249521460634\n",
            "Epoch loss: 0.4316714551313112\n",
            "Epoch loss: 0.4310960039235332\n",
            "Epoch loss: 0.43052316019794135\n",
            "Epoch loss: 0.42995292791477757\n",
            "Epoch loss: 0.4293852987245361\n",
            "Epoch loss: 0.42882021776449053\n",
            "Epoch loss: 0.42825754780307185\n",
            "Epoch loss: 0.4276970480335029\n",
            "Epoch loss: 0.4271383894853974\n",
            "Epoch loss: 0.42658123084028104\n",
            "Epoch loss: 0.42602537337324536\n",
            "Epoch loss: 0.4254709943611373\n",
            "Epoch loss: 0.4249189138100911\n",
            "Epoch loss: 0.42437078070653156\n",
            "Epoch loss: 0.42382901439010473\n",
            "Epoch loss: 0.42329639234336236\n",
            "Epoch loss: 0.4227753826329429\n",
            "Epoch loss: 0.4222675422664039\n",
            "Epoch loss: 0.42177329523102003\n",
            "Epoch loss: 0.4212921327198228\n",
            "Epoch loss: 0.4208230181640789\n",
            "Epoch loss: 0.4203647539565896\n",
            "Epoch loss: 0.41991620275933755\n",
            "Epoch loss: 0.4194763773149628\n",
            "Epoch loss: 0.41904445305074894\n",
            "Epoch loss: 0.4186197482197253\n",
            "Epoch loss: 0.4182016961862755\n",
            "Epoch loss: 0.41778982002995335\n",
            "Epoch loss: 0.41738371228335625\n",
            "Epoch loss: 0.4169830196703568\n",
            "Epoch loss: 0.4165874318555987\n",
            "Epoch loss: 0.4161966731738431\n",
            "Epoch loss: 0.41581049650493557\n",
            "Epoch loss: 0.41542867868044525\n",
            "Epoch loss: 0.4150510169874987\n",
            "Epoch loss: 0.4146773264661964\n",
            "Epoch loss: 0.4143074377880221\n",
            "Epoch loss: 0.41394119556478565\n",
            "Epoch loss: 0.41357845697997925\n",
            "Epoch loss: 0.41321909066343876\n",
            "Epoch loss: 0.4128629757503854\n",
            "Epoch loss: 0.41251000108015856\n",
            "Epoch loss: 0.41216006450022263\n",
            "Epoch loss: 0.4118130722485825\n",
            "Epoch loss: 0.4114689383934679\n",
            "Epoch loss: 0.4111275843135916\n",
            "Epoch loss: 0.41078893820589635\n",
            "Epoch loss: 0.4104529346107082\n",
            "Epoch loss: 0.41011951394683926\n",
            "Epoch loss: 0.40978862205151695\n",
            "Epoch loss: 0.4094602097221384\n",
            "Epoch loss: 0.409134232258782\n",
            "Epoch loss: 0.40881064900813235\n",
            "Epoch loss: 0.40848942291098445\n",
            "Epoch loss: 0.40817052005671894\n",
            "Epoch loss: 0.40785390924907516\n",
            "Epoch loss: 0.4075395615881434\n",
            "Epoch loss: 0.4072274500737463\n",
            "Epoch loss: 0.40691754923529044\n",
            "Epoch loss: 0.4066098347927718\n",
            "Epoch loss: 0.4063042833529561\n",
            "Epoch loss: 0.4060008721439058\n",
            "Epoch loss: 0.40569957879001933\n",
            "Epoch loss: 0.40540038112872645\n",
            "Epoch loss: 0.405103257068919\n",
            "Epoch loss: 0.40480818449023076\n",
            "Epoch loss: 0.4045151411813942\n",
            "Epoch loss: 0.4042241048151528\n",
            "Epoch loss: 0.4039350529565891\n",
            "Epoch loss: 0.40364796310126844\n",
            "Epoch loss: 0.4033628127392434\n",
            "Epoch loss: 0.40307957944075695\n",
            "Epoch loss: 0.4027982409593461\n",
            "Epoch loss: 0.40251877534802133\n",
            "Epoch loss: 0.4022411610842097\n",
            "Epoch loss: 0.4019653771992402\n",
            "Epoch loss: 0.40169140340826515\n",
            "Epoch loss: 0.40141922023667553\n",
            "Epoch loss: 0.40114880913926937\n",
            "Epoch loss: 0.4008801526086721\n",
            "Epoch loss: 0.4006132342697952\n",
            "Epoch loss: 0.4003480389574594\n",
            "Epoch loss: 0.40008455277470384\n",
            "Epoch loss: 0.3998227631297682\n",
            "Epoch loss: 0.39956265875025415\n",
            "Epoch loss: 0.3993042296735564\n",
            "Epoch loss: 0.39904746721329787\n",
            "Epoch loss: 0.3987923639021635\n",
            "Epoch loss: 0.39853891341222236\n",
            "Epoch loss: 0.39828711045449844\n",
            "Epoch loss: 0.3980369506601796\n",
            "Epoch loss: 0.39778843044641227\n",
            "Epoch loss: 0.3975415468700685\n",
            "Epoch loss: 0.3972962974731885\n",
            "Epoch loss: 0.3970526801239515\n",
            "Epoch loss: 0.39681069285701204\n",
            "Epoch loss: 0.39657033371685846\n",
            "Epoch loss: 0.39633160060751293\n",
            "Epoch loss: 0.3960944911514207\n",
            "Epoch loss: 0.39585900255981044\n",
            "Epoch loss: 0.39562513151617695\n",
            "Epoch loss: 0.39539287407389295\n",
            "Epoch loss: 0.3951622255683319\n",
            "Epoch loss: 0.39493318054331567\n",
            "Epoch loss: 0.3947057326912272\n",
            "Epoch loss: 0.3944798748057468\n",
            "Epoch loss: 0.39425559874591753\n",
            "Epoch loss: 0.3940328954100948\n",
            "Epoch loss: 0.39381175471829316\n",
            "Epoch loss: 0.39359216560149257\n",
            "Epoch loss: 0.39337411599657623\n",
            "Epoch loss: 0.39315759284573837\n",
            "Epoch loss: 0.39294258209938965\n",
            "Epoch loss: 0.3927290687217785\n",
            "Epoch loss: 0.3925170366987405\n",
            "Epoch loss: 0.39230646904714844\n",
            "Epoch loss: 0.3920973478257791\n",
            "Epoch loss: 0.3918896541474131\n",
            "Epoch loss: 0.39168336819206473\n",
            "Epoch loss: 0.391478469221278\n",
            "Epoch loss: 0.3912749355934489\n",
            "Epoch loss: 0.3910727447801324\n",
            "Epoch loss: 0.39087187338328916\n",
            "Epoch loss: 0.3906722971534124\n",
            "Epoch loss: 0.39047399100846225\n",
            "Epoch loss: 0.39027692905354927\n",
            "Epoch loss: 0.3900810846013196\n",
            "Epoch loss: 0.3898864301930491\n",
            "Epoch loss: 0.38969293762052615\n",
            "Epoch loss: 0.3895005779489326\n",
            "Epoch loss: 0.38930932154109144\n",
            "Epoch loss: 0.38911913808368914\n",
            "Epoch loss: 0.38892999661637245\n",
            "Epoch loss: 0.3887418655650085\n",
            "Epoch loss: 0.3885547127808737\n",
            "Epoch loss: 0.3883685055881322\n",
            "Epoch loss: 0.388183210842673\n",
            "Epoch loss: 0.3879987950062202\n",
            "Epoch loss: 0.3878152242405977\n",
            "Epoch loss: 0.38763246452810507\n",
            "Epoch loss: 0.38745048182510256\n",
            "Epoch loss: 0.3872692422570323\n",
            "Epoch loss: 0.3870887123640784\n",
            "Epoch loss: 0.3869088594073139\n",
            "Epoch loss: 0.3867296517451892\n",
            "Epoch loss: 0.38655105928922723\n",
            "Epoch loss: 0.3863730540453231\n",
            "Epoch loss: 0.38619561074255837\n",
            "Epoch loss: 0.38601870754439477\n",
            "Epoch loss: 0.385842326827088\n",
            "Epoch loss: 0.3856664559970476\n",
            "Epoch loss: 0.3854910883031325\n",
            "Epoch loss: 0.3853162235828529\n",
            "Epoch loss: 0.3851418688655334\n",
            "Epoch loss: 0.38496803874425356\n",
            "Epoch loss: 0.3847947554261261\n",
            "Epoch loss: 0.3846220483815066\n",
            "Epoch loss: 0.38444995353995975\n",
            "Epoch loss: 0.38427851202422025\n",
            "Epoch loss: 0.3841077684687655\n",
            "Epoch loss: 0.38393776902835924\n",
            "Epoch loss: 0.38376855923238723\n",
            "Epoch loss: 0.3836001818712578\n",
            "Epoch loss: 0.3834326751033771\n",
            "Epoch loss: 0.3832660709434959\n",
            "Epoch loss: 0.38310039424120035\n",
            "Epoch loss: 0.38293566219331543\n",
            "Epoch loss: 0.3827718843694719\n",
            "Epoch loss: 0.3826090631777552\n",
            "Epoch loss: 0.3824471946642403\n",
            "Epoch loss: 0.3822862695279205\n",
            "Epoch loss: 0.3821262742380459\n",
            "Epoch loss: 0.3819671921586532\n",
            "Epoch loss: 0.3818090046089353\n",
            "Epoch loss: 0.38165169181284936\n",
            "Epoch loss: 0.381495233713439\n",
            "Epoch loss: 0.38133961064482846\n",
            "Epoch loss: 0.3811848038672463\n",
            "Epoch loss: 0.38103079597808337\n",
            "Epoch loss: 0.38087757121573007\n",
            "Epoch loss: 0.380725115673719\n",
            "Epoch loss: 0.3805734174414541\n",
            "Epoch loss: 0.380422466685314\n",
            "Epoch loss: 0.3802722556808177\n",
            "Epoch loss: 0.3801227788033449\n",
            "Epoch loss: 0.37997403248196826\n",
            "Epoch loss: 0.3798260151185902\n",
            "Epoch loss: 0.3796787269729556\n",
            "Epoch loss: 0.3795321700133524\n",
            "Epoch loss: 0.3793863477329231\n",
            "Epoch loss: 0.3792412649324325\n",
            "Epoch loss: 0.3790969274719041\n",
            "Epoch loss: 0.3789533419955369\n",
            "Epoch loss: 0.3788105156364498\n",
            "Epoch loss: 0.378668455709808\n",
            "Epoch loss: 0.378527169404443\n",
            "Epoch loss: 0.3783866634839895\n",
            "Epoch loss: 0.3782469440086612\n",
            "Epoch loss: 0.37810801608801836\n",
            "Epoch loss: 0.37796988367351153\n",
            "Epoch loss: 0.37783254939736965\n",
            "Epoch loss: 0.37769601446174705\n",
            "Epoch loss: 0.37756027857925256\n",
            "Epoch loss: 0.37742533996327965\n",
            "Epoch loss: 0.3772911953642078\n",
            "Epoch loss: 0.37715784014569204\n",
            "Epoch loss: 0.3770252683940006\n",
            "Epoch loss: 0.37689347305272153\n",
            "Epoch loss: 0.3767624460750539\n",
            "Epoch loss: 0.37663217858626624\n",
            "Epoch loss: 0.37650266104958313\n",
            "Epoch loss: 0.376373883429641\n",
            "Epoch loss: 0.376245835348616\n",
            "Epoch loss: 0.37611850623107174\n",
            "Epoch loss: 0.37599188543445244\n",
            "Epoch loss: 0.3758659623629112\n",
            "Epoch loss: 0.37574072656281077\n",
            "Epoch loss: 0.3756161677987791\n",
            "Epoch loss: 0.3754922761096562\n",
            "Epoch loss: 0.3753690418440685\n",
            "Epoch loss: 0.37524645567573933\n",
            "Epoch loss: 0.37512450859901486\n",
            "Epoch loss: 0.37500319190546066\n",
            "Epoch loss: 0.3748824971427927\n",
            "Epoch loss: 0.3747624160578168\n",
            "Epoch loss: 0.37464294052547564\n",
            "Epoch loss: 0.3745240624664941\n",
            "Epoch loss: 0.3744057737564602\n",
            "Epoch loss: 0.37428806612943544\n",
            "Epoch loss: 0.3741709310793329\n",
            "Epoch loss: 0.37405435976230417\n",
            "Epoch loss: 0.373938342903223\n",
            "Epoch loss: 0.373822870709046\n",
            "Epoch loss: 0.3737079327913834\n",
            "Epoch loss: 0.3735935181000428\n",
            "Epoch loss: 0.37347961486866255\n",
            "Epoch loss: 0.37336621057287245\n",
            "Epoch loss: 0.37325329190074363\n",
            "Epoch loss: 0.37314084473467113\n",
            "Epoch loss: 0.3730288541432938\n",
            "Epoch loss: 0.3729173043816391\n",
            "Epoch loss: 0.37280617889736944\n",
            "Epoch loss: 0.3726954603408321\n",
            "Epoch loss: 0.3725851305765463\n",
            "Epoch loss: 0.37247517069378505\n",
            "Epoch loss: 0.3723655610140131\n",
            "Epoch loss: 0.3722562810930852\n",
            "Epoch loss: 0.37214730971628485\n",
            "Epoch loss: 0.37203862488445877\n",
            "Epoch loss: 0.3719302037896638\n",
            "Epoch loss: 0.3718220227788801\n",
            "Epoch loss: 0.3717140573044419\n",
            "Epoch loss: 0.37160628185989\n",
            "Epoch loss: 0.37149866989994995\n",
            "Epoch loss: 0.3713911937432907\n",
            "Epoch loss: 0.37128382445659097\n",
            "Epoch loss: 0.37117653171825515\n",
            "Epoch loss: 0.3710692836598382\n",
            "Epoch loss: 0.3709620466828565\n",
            "Epoch loss: 0.37085478524815557\n",
            "Epoch loss: 0.370747461634338\n",
            "Epoch loss: 0.37064003566090453\n",
            "Epoch loss: 0.3705324643706734\n",
            "Epoch loss: 0.370424701664668\n",
            "Epoch loss: 0.37031669788095806\n",
            "Epoch loss: 0.3702083993068068\n",
            "Epoch loss: 0.3700997476108926\n",
            "Epoch loss: 0.3699906791792202\n",
            "Epoch loss: 0.3698811243346229\n",
            "Epoch loss: 0.3697710064154499\n",
            "Epoch loss: 0.36966024068428616\n",
            "Epoch loss: 0.36954873303270064\n",
            "Epoch loss: 0.36943637844386984\n",
            "Epoch loss: 0.3693230591730385\n",
            "Epoch loss: 0.3692086426091774\n",
            "Epoch loss: 0.36909297879538555\n",
            "Epoch loss: 0.36897589762037164\n",
            "Epoch loss: 0.3688572057658787\n",
            "Epoch loss: 0.3687366836342118\n",
            "Epoch loss: 0.36861408273375157\n",
            "Epoch loss: 0.3684891244426564\n",
            "Epoch loss: 0.36836150180746124\n",
            "Epoch loss: 0.36823088718851854\n",
            "Epoch loss: 0.36809695021514344\n",
            "Epoch loss: 0.36795939248995746\n",
            "Epoch loss: 0.3678180069112418\n",
            "Epoch loss: 0.3676727680067986\n",
            "Epoch loss: 0.36752395077537536\n",
            "Epoch loss: 0.36737225387033573\n",
            "Epoch loss: 0.3672188695345672\n",
            "Epoch loss: 0.36706541859232517\n",
            "Epoch loss: 0.36691369846589234\n",
            "Epoch loss: 0.366765300581832\n",
            "Epoch loss: 0.366621272538498\n",
            "Epoch loss: 0.36648199629566386\n",
            "Epoch loss: 0.36634730399479487\n",
            "Epoch loss: 0.3662167094685628\n",
            "Epoch loss: 0.36608962027088665\n",
            "Epoch loss: 0.3659654700523251\n",
            "Epoch loss: 0.3658437769177596\n",
            "Epoch loss: 0.3657241559348311\n",
            "Epoch loss: 0.36560631010524325\n",
            "Epoch loss: 0.3654900141972262\n",
            "Epoch loss: 0.3653750982674195\n",
            "Epoch loss: 0.36526143345885287\n",
            "Epoch loss: 0.36514892066273263\n",
            "Epoch loss: 0.36503748182834506\n",
            "Epoch loss: 0.36492705346116866\n",
            "Epoch loss: 0.3648175818372488\n",
            "Epoch loss: 0.36470901952959667\n",
            "Epoch loss: 0.3646013229249687\n",
            "Epoch loss: 0.3644944504829772\n",
            "Epoch loss: 0.3643883615480443\n",
            "Epoch loss: 0.3642830155691439\n",
            "Epoch loss: 0.36417837161553607\n",
            "Epoch loss: 0.36407438810184245\n",
            "Epoch loss: 0.36397102265526143\n",
            "Epoch loss: 0.3638682320732135\n",
            "Epoch loss: 0.3637659723323787\n",
            "Epoch loss: 0.3636641986206293\n",
            "Epoch loss: 0.36356286537222504\n",
            "Epoch loss: 0.3634619262941139\n",
            "Epoch loss: 0.3633613343775102\n",
            "Epoch loss: 0.36326104189434083\n",
            "Epoch loss: 0.3631610003829096\n",
            "Epoch loss: 0.36306116063152366\n",
            "Epoch loss: 0.3629614726731272\n",
            "Epoch loss: 0.36286188580851786\n",
            "Epoch loss: 0.3627623486807399\n",
            "Epoch loss: 0.3626628094289662\n",
            "Epoch loss: 0.36256321595668106\n",
            "Epoch loss: 0.36246351635613583\n",
            "Epoch loss: 0.36236365953837174\n",
            "Epoch loss: 0.36226359612457754\n",
            "Epoch loss: 0.3621632796583677\n",
            "Epoch loss: 0.3620626681968474\n",
            "Epoch loss: 0.36196172632696855\n",
            "Epoch loss: 0.36186042762723536\n",
            "Epoch loss: 0.36175875754714165\n",
            "Epoch loss: 0.36165671660226784\n",
            "Epoch loss: 0.3615543236796968\n",
            "Epoch loss: 0.36145161912198864\n",
            "Epoch loss: 0.3613486671271458\n",
            "Epoch loss: 0.36124555690249205\n",
            "Epoch loss: 0.3611424019934195\n",
            "Epoch loss: 0.3610393373283483\n",
            "Epoch loss: 0.3609365138123146\n",
            "Epoch loss: 0.36083409074346356\n",
            "Epoch loss: 0.36073222682479794\n",
            "Epoch loss: 0.3606310709419796\n",
            "Epoch loss: 0.36053075401776497\n",
            "Epoch loss: 0.3604313830544693\n",
            "Epoch loss: 0.36033303799061595\n",
            "Epoch loss: 0.3602357713961832\n",
            "Epoch loss: 0.3601396105147777\n",
            "Epoch loss: 0.3600445608691088\n",
            "Epoch loss: 0.3599506106049286\n",
            "Epoch loss: 0.35985773489182493\n",
            "Epoch loss: 0.35976589992451347\n",
            "Epoch loss: 0.35967506628901946\n",
            "Epoch loss: 0.3595851916269728\n",
            "Epoch loss: 0.35949623263690844\n",
            "Epoch loss: 0.35940814650399594\n",
            "Epoch loss: 0.35932089186604593\n",
            "Epoch loss: 0.35923442941957395\n",
            "Epoch loss: 0.35914872225621075\n",
            "Epoch loss: 0.35906373600348174\n",
            "Epoch loss: 0.3589794388283519\n",
            "Epoch loss: 0.35889580134835697\n",
            "Epoch loss: 0.35881279648399356\n",
            "Epoch loss: 0.3587303992771806\n",
            "Epoch loss: 0.35864858669369876\n",
            "Epoch loss: 0.35856733742221514\n",
            "Epoch loss: 0.35848663167846156\n",
            "Epoch loss: 0.3584064510200901\n",
            "Epoch loss: 0.35832677817545355\n",
            "Epoch loss: 0.3582475968878772\n",
            "Epoch loss: 0.3581688917757841\n",
            "Epoch loss: 0.35809064820818454\n",
            "Epoch loss: 0.3580128521944927\n",
            "Epoch loss: 0.35793549028729843\n",
            "Epoch loss: 0.3578585494965622\n",
            "Epoch loss: 0.357782017213673\n",
            "Epoch loss: 0.3577058811438556\n",
            "Epoch loss: 0.35763012924554294\n",
            "Epoch loss: 0.3575547496754573\n",
            "Epoch loss: 0.35747973073831935\n",
            "Epoch loss: 0.35740506084024753\n",
            "Epoch loss: 0.3573307284450584\n",
            "Epoch loss: 0.35725672203280295\n",
            "Epoch loss: 0.35718303005997176\n",
            "Epoch loss: 0.357109640920882\n",
            "Epoch loss: 0.35703654290981646\n",
            "Epoch loss: 0.3569637241835174\n",
            "Epoch loss: 0.35689117272365756\n",
            "Epoch loss: 0.3568188762989121\n",
            "Epoch loss: 0.35674682242624667\n",
            "Epoch loss: 0.3566749983310094\n",
            "Epoch loss: 0.3566033909053963\n",
            "Epoch loss: 0.35653198666481883\n",
            "Epoch loss: 0.35646077170166934\n",
            "Epoch loss: 0.3563897316359526\n",
            "Epoch loss: 0.3563188515622207\n",
            "Epoch loss: 0.3562481159922419\n",
            "Epoch loss: 0.3561775087928464\n",
            "Epoch loss: 0.3561070131184331\n",
            "Epoch loss: 0.3560366113377275\n",
            "Epoch loss: 0.35596628495453353\n",
            "Epoch loss: 0.3558960145225016\n",
            "Epoch loss: 0.35582577955431544\n",
            "Epoch loss: 0.3557555584262772\n",
            "Epoch loss: 0.3556853282800569\n",
            "Epoch loss: 0.35561506492445255\n",
            "Epoch loss: 0.3555447427414473\n",
            "Epoch loss: 0.35547433460270783\n",
            "Epoch loss: 0.35540381180504566\n",
            "Epoch loss: 0.3553331440362838\n",
            "Epoch loss: 0.35526229938645826\n",
            "Epoch loss: 0.35519124442327343\n",
            "Epoch loss: 0.355119944354991\n",
            "Epoch loss: 0.3550483633080665\n",
            "Epoch loss: 0.35497646475012656\n",
            "Epoch loss: 0.35490421209017065\n",
            "Epoch loss: 0.35483156948563993\n",
            "Epoch loss: 0.35475850287819427\n",
            "Epoch loss: 0.35468498126444703\n",
            "Epoch loss: 0.3546109781825675\n",
            "Epoch loss: 0.35453647335970906\n",
            "Epoch loss: 0.3544614544201716\n",
            "Epoch loss: 0.35438591850530116\n",
            "Epoch loss: 0.35430987361320265\n",
            "Epoch loss: 0.35423333944342966\n",
            "Epoch loss: 0.3541563475443022\n",
            "Epoch loss: 0.354078940619738\n",
            "Epoch loss: 0.35400117095895206\n",
            "Epoch loss: 0.35392309809048533\n",
            "Epoch loss: 0.35384478590062857\n",
            "Epoch loss: 0.3537662995569842\n",
            "Epoch loss: 0.3536877026093774\n",
            "Epoch loss: 0.3536090545920054\n",
            "Epoch loss: 0.353530409338138\n",
            "Epoch loss: 0.35345181407687165\n",
            "Epoch loss: 0.35337330925010013\n",
            "Epoch loss: 0.3532949288963822\n",
            "Epoch loss: 0.35321670140796013\n",
            "Epoch loss: 0.3531386504720888\n",
            "Epoch loss: 0.3530607960424989\n",
            "Epoch loss: 0.35298315523399476\n",
            "Epoch loss: 0.352905743079337\n",
            "Epoch loss: 0.3528285731249611\n",
            "Epoch loss: 0.3527516578680575\n",
            "Epoch loss: 0.3526750090528518\n",
            "Epoch loss: 0.3525986378509032\n",
            "Epoch loss: 0.3525225549515591\n",
            "Epoch loss: 0.35244677058671536\n",
            "Epoch loss: 0.3523712945104526\n",
            "Epoch loss: 0.35229613595010134\n",
            "Epoch loss: 0.3522213035414798\n",
            "Epoch loss: 0.35214680525777275\n",
            "Epoch loss: 0.3520726483388622\n",
            "Epoch loss: 0.35199883922586706\n",
            "Epoch loss: 0.351925383504102\n",
            "Epoch loss: 0.3518522858565363\n",
            "Epoch loss: 0.35177955002900296\n",
            "Epoch loss: 0.3517071788078186\n",
            "Epoch loss: 0.3516351740100275\n",
            "Epoch loss: 0.35156353648616595\n",
            "Epoch loss: 0.3514922661351951\n",
            "Epoch loss: 0.3514213619310599\n",
            "Epoch loss: 0.35135082196019796\n",
            "Epoch loss: 0.35128064346920956\n",
            "Epoch loss: 0.3512108229218348\n",
            "Epoch loss: 0.35114135606433566\n",
            "Epoch loss: 0.3510722379983652\n",
            "Epoch loss: 0.3510034632604052\n",
            "Epoch loss: 0.35093502590687087\n",
            "Epoch loss: 0.3508669196040064\n",
            "Epoch loss: 0.3507991377217225\n",
            "Epoch loss: 0.3507316734305437\n",
            "Epoch loss: 0.35066451980085056\n",
            "Epoch loss: 0.3505976699035782\n",
            "Epoch loss: 0.3505311169115016\n",
            "Epoch loss: 0.35046485420016604\n",
            "Epoch loss: 0.35039887544741416\n",
            "Epoch loss: 0.35033317473032277\n",
            "Epoch loss: 0.35026774661818905\n",
            "Epoch loss: 0.35020258626000733\n",
            "Epoch loss: 0.35013768946466234\n",
            "Epoch loss: 0.35007305277184725\n",
            "Epoch loss: 0.35000867351151826\n",
            "Epoch loss: 0.3499445498495371\n",
            "Epoch loss: 0.3498806808170707\n",
            "Epoch loss: 0.3498170663213169\n",
            "Epoch loss: 0.3497537071352721\n",
            "Epoch loss: 0.34969060486453124\n",
            "Epoch loss: 0.34962776188958067\n",
            "Epoch loss: 0.3495651812826787\n",
            "Epoch loss: 0.3495028666992363\n",
            "Epoch loss: 0.3494408222445895\n",
            "Epoch loss: 0.3493790523181377\n",
            "Epoch loss: 0.349317561437972\n",
            "Epoch loss: 0.34925635405023203\n",
            "Epoch loss: 0.3491954343284243\n",
            "Epoch loss: 0.34913480596870494\n",
            "Epoch loss: 0.3490744719875587\n",
            "Epoch loss: 0.34901443452833697\n",
            "Epoch loss: 0.34895469468265744\n",
            "Epoch loss: 0.34889525233173024\n",
            "Epoch loss: 0.3488361060112968\n",
            "Epoch loss: 0.34877725280212857\n",
            "Epoch loss: 0.34871868824608304\n",
            "Epoch loss: 0.3486604062857194\n",
            "Epoch loss: 0.3486023992236103\n",
            "Epoch loss: 0.3485446576958799\n",
            "Epoch loss: 0.34848717065329654\n",
            "Epoch loss: 0.34842992534244815\n",
            "Epoch loss: 0.34837290727917264\n",
            "Epoch loss: 0.3483161002063904\n",
            "Epoch loss: 0.3482594860287465\n",
            "Epoch loss: 0.34820304471687846\n",
            "Epoch loss: 0.34814675417462154\n",
            "Epoch loss: 0.3480905900630109\n",
            "Epoch loss: 0.3480345255755523\n",
            "Epoch loss: 0.3479785311600657\n",
            "Epoch loss: 0.3479225741837048\n",
            "Epoch loss: 0.34786661853998074\n",
            "Epoch loss: 0.34781062420049097\n",
            "Epoch loss: 0.3477545467206665\n",
            "Epoch loss: 0.3476983367198628\n",
            "Epoch loss: 0.3476419393738707\n",
            "Epoch loss: 0.34758529398575144\n",
            "Epoch loss: 0.34752833374301234\n",
            "Epoch loss: 0.3474709858304978\n",
            "Epoch loss: 0.3474131721531655\n",
            "Epoch loss: 0.34735481103142485\n",
            "Epoch loss: 0.3472958203532842\n",
            "Epoch loss: 0.34723612276844307\n",
            "Epoch loss: 0.347175653514946\n",
            "Epoch loss: 0.34711437124644895\n",
            "Epoch loss: 0.34705227159180635\n",
            "Epoch loss: 0.3469894019612797\n",
            "Epoch loss: 0.3469258743579326\n",
            "Epoch loss: 0.34686187121059087\n",
            "Epoch loss: 0.34679763875808084\n",
            "Epoch loss: 0.34673346478750666\n",
            "Epoch loss: 0.34666964297553654\n",
            "Epoch loss: 0.3466064325642026\n",
            "Epoch loss: 0.3465440254276516\n",
            "Epoch loss: 0.3464825298154626\n",
            "Epoch loss: 0.3464219726907982\n",
            "Epoch loss: 0.34636231552307195\n",
            "Epoch loss: 0.34630347551438495\n",
            "Epoch loss: 0.34624534562041376\n",
            "Epoch loss: 0.34618780994076914\n",
            "Epoch loss: 0.3461307538464202\n",
            "Epoch loss: 0.3460740697323722\n",
            "Epoch loss: 0.34601765972847354\n",
            "Epoch loss: 0.34596143657021117\n",
            "Epoch loss: 0.3459053235130433\n",
            "Epoch loss: 0.34584925386531273\n",
            "Epoch loss: 0.3457931704807442\n",
            "Epoch loss: 0.3457370253934734\n",
            "Epoch loss: 0.34568077967727107\n",
            "Epoch loss: 0.345624403545358\n",
            "Epoch loss: 0.3455678766618054\n",
            "Epoch loss: 0.34551118859950747\n",
            "Epoch loss: 0.3454543393477652\n",
            "Epoch loss: 0.3453973397438326\n",
            "Epoch loss: 0.345340211680611\n",
            "Epoch loss: 0.3452829879334992\n",
            "Epoch loss: 0.34522571146155895\n",
            "Epoch loss: 0.34516843407889886\n",
            "Epoch loss: 0.34511121446423276\n",
            "Epoch loss: 0.3450541155741147\n",
            "Epoch loss: 0.34499720163238673\n",
            "Epoch loss: 0.344940534960572\n",
            "Epoch loss: 0.34488417296543133\n",
            "Epoch loss: 0.34482816559262686\n",
            "Epoch loss: 0.34477255348736385\n",
            "Epoch loss: 0.34471736699020694\n",
            "Epoch loss: 0.34466262596805713\n",
            "Epoch loss: 0.34460834036772503\n",
            "Epoch loss: 0.3445545113052799\n",
            "Epoch loss: 0.34450113247660175\n",
            "Epoch loss: 0.34444819168774343\n",
            "Epoch loss: 0.34439567234391627\n",
            "Epoch loss: 0.3443435547873143\n",
            "Epoch loss: 0.34429181742382303\n",
            "Epoch loss: 0.3442404376192\n",
            "Epoch loss: 0.3441893923737463\n",
            "Epoch loss: 0.3441386588013638\n",
            "Epoch loss: 0.34408821444657006\n",
            "Epoch loss: 0.3440380374743303\n",
            "Epoch loss: 0.3439881067649921\n",
            "Epoch loss: 0.34393840194213054\n",
            "Epoch loss: 0.3438889033560125\n",
            "Epoch loss: 0.3438395920404696\n",
            "Epoch loss: 0.3437904496566111\n",
            "Epoch loss: 0.3437414584331767\n",
            "Epoch loss: 0.34369260111041006\n",
            "Epoch loss: 0.3436438608920787\n",
            "Epoch loss: 0.3435952214085525\n",
            "Epoch loss: 0.34354666669260026\n",
            "Epoch loss: 0.3434981811686496\n",
            "Epoch loss: 0.34344974965563546\n",
            "Epoch loss: 0.34340135738312116\n",
            "Epoch loss: 0.34335299002012\n",
            "Epoch loss: 0.34330463371588565\n",
            "Epoch loss: 0.3432562751518774\n",
            "Epoch loss: 0.3432079016041212\n",
            "Epoch loss: 0.34315950101524145\n",
            "Epoch loss: 0.3431110620755553\n",
            "Epoch loss: 0.34306257431275355\n",
            "Epoch loss: 0.3430140281898547\n",
            "Epoch loss: 0.342965415211264\n",
            "Epoch loss: 0.34291672803689527\n",
            "Epoch loss: 0.342867960604358\n",
            "Epoch loss: 0.34281910825913997\n",
            "Epoch loss: 0.34277016789247583\n",
            "Epoch loss: 0.34272113808610405\n",
            "Epoch loss: 0.34267201926235896\n",
            "Epoch loss: 0.3426228138369423\n",
            "Epoch loss: 0.3425735263702876\n",
            "Epoch loss: 0.34252416371169775\n",
            "Epoch loss: 0.34247473512846804\n",
            "Epoch loss: 0.34242525241020866\n",
            "Epoch loss: 0.34237572993673987\n",
            "Epoch loss: 0.3423261846965995\n",
            "Epoch loss: 0.34227663624269483\n",
            "Epoch loss: 0.34222710657233535\n",
            "Epoch loss: 0.34217761992107965\n",
            "Epoch loss: 0.3421282024637096\n",
            "Epoch loss: 0.3420788819211564\n",
            "Epoch loss: 0.34202968707905074\n",
            "Epoch loss: 0.34198064723116134\n",
            "Epoch loss: 0.34193179156845893\n",
            "Epoch loss: 0.3418831485409072\n",
            "Epoch loss: 0.3418347452233457\n",
            "Epoch loss: 0.34178660671819955\n",
            "Epoch loss: 0.34173875562583234\n",
            "Epoch loss: 0.34169121160825716\n",
            "Epoch loss: 0.3416439910642241\n",
            "Epoch loss: 0.3415971069244547\n",
            "Epoch loss: 0.34155056856618565\n",
            "Epoch loss: 0.341504381837437\n",
            "Epoch loss: 0.34145854917446283\n",
            "Epoch loss: 0.34141306979124814\n",
            "Epoch loss: 0.34136793991781356\n",
            "Epoch loss: 0.34132315306422306\n",
            "Epoch loss: 0.34127870028906737\n",
            "Epoch loss: 0.3412345704541474\n",
            "Epoch loss: 0.3411907504505231\n",
            "Epoch loss: 0.3411472253844313\n",
            "Epoch loss: 0.34110397871446385\n",
            "Epoch loss: 0.34106099233354065\n",
            "Epoch loss: 0.34101824659050756\n",
            "Epoch loss: 0.3409757202465736\n",
            "Epoch loss: 0.3409333903612975\n",
            "Epoch loss: 0.340891232101431\n",
            "Epoch loss: 0.3408492184636499\n",
            "Epoch loss: 0.3408073198989958\n",
            "Epoch loss: 0.34076550382266\n",
            "Epoch loss: 0.3407237339874491\n",
            "Epoch loss: 0.3406819696927843\n",
            "Epoch loss: 0.34064016479337406\n",
            "Epoch loss: 0.3405982664629343\n",
            "Epoch loss: 0.3405562136592279\n",
            "Epoch loss: 0.3405139352289718\n",
            "Epoch loss: 0.34047134758874525\n",
            "Epoch loss: 0.34042835192882626\n",
            "Epoch loss: 0.3403848309264804\n",
            "Epoch loss: 0.3403406450527518\n",
            "Epoch loss: 0.34029562876463915\n",
            "Epoch loss: 0.3402495872814266\n",
            "Epoch loss: 0.3402022953865132\n",
            "Epoch loss: 0.34015350094766833\n",
            "Epoch loss: 0.3401029377228973\n",
            "Epoch loss: 0.3400503542487626\n",
            "Epoch loss: 0.3399955667849928\n",
            "Epoch loss: 0.33993854067314916\n",
            "Epoch loss: 0.3398794896967279\n",
            "Epoch loss: 0.3398189531877921\n",
            "Epoch loss: 0.3397577797015212\n",
            "Epoch loss: 0.3396969592987618\n",
            "Epoch loss: 0.33963734351480623\n",
            "Epoch loss: 0.3395794115445764\n",
            "Epoch loss: 0.33952323077570734\n",
            "Epoch loss: 0.3394685980425006\n",
            "Epoch loss: 0.3394152229463193\n",
            "Epoch loss: 0.33936284539630096\n",
            "Epoch loss: 0.33931127392039506\n",
            "Epoch loss: 0.3392603794640475\n",
            "Epoch loss: 0.3392100764017816\n",
            "Epoch loss: 0.33916030555561977\n",
            "Epoch loss: 0.33911102271709154\n",
            "Epoch loss: 0.3390621918322605\n",
            "Epoch loss: 0.33901378121694536\n",
            "Epoch loss: 0.3389657615110295\n",
            "Epoch loss: 0.3389181045632433\n",
            "Epoch loss: 0.33887078279377925\n",
            "Epoch loss: 0.33882376879794407\n",
            "Epoch loss: 0.33877703507302015\n",
            "Epoch loss: 0.3387305538128601\n",
            "Epoch loss: 0.3386842967468012\n",
            "Epoch loss: 0.33863823501640133\n",
            "Epoch loss: 0.3385923390933231\n",
            "Epoch loss: 0.33854657874862587\n",
            "Epoch loss: 0.3385009230898883\n",
            "Epoch loss: 0.33845534068904015\n",
            "Epoch loss: 0.3384097998309702\n",
            "Epoch loss: 0.3383642689207776\n",
            "Epoch loss: 0.3383187170952216\n",
            "Epoch loss: 0.3382731150897935\n",
            "Epoch loss: 0.33822743641378616\n",
            "Epoch loss: 0.33818165887682006\n",
            "Epoch loss: 0.3381357664843725\n",
            "Epoch loss: 0.33808975166825933\n",
            "Epoch loss: 0.3380436177326367\n",
            "Epoch loss: 0.33799738127433904\n",
            "Epoch loss: 0.3379510741895496\n",
            "Epoch loss: 0.337904744741706\n",
            "Epoch loss: 0.33785845710207174\n",
            "Epoch loss: 0.33781228886739323\n",
            "Epoch loss: 0.33776632637436954\n",
            "Epoch loss: 0.3377206581581499\n",
            "Epoch loss: 0.3376753675057366\n",
            "Epoch loss: 0.33763052548781103\n",
            "Epoch loss: 0.3375861858688125\n",
            "Epoch loss: 0.33754238281595156\n",
            "Epoch loss: 0.3374991315296749\n",
            "Epoch loss: 0.3374564311489692\n",
            "Epoch loss: 0.3374142688536977\n",
            "Epoch loss: 0.33737262409053814\n",
            "Epoch loss: 0.33733147216682424\n",
            "Epoch loss: 0.33729078687163067\n",
            "Epoch loss: 0.3372505421227151\n",
            "Epoch loss: 0.3372107128305939\n",
            "Epoch loss: 0.33717127523017154\n",
            "Epoch loss: 0.3371322069056387\n",
            "Epoch loss: 0.3370934866746652\n",
            "Epoch loss: 0.3370550944355933\n",
            "Epoch loss: 0.3370170110316079\n",
            "Epoch loss: 0.33697921815250276\n",
            "Epoch loss: 0.3369416982755392\n",
            "Epoch loss: 0.33690443463806374\n",
            "Epoch loss: 0.33686741123204894\n",
            "Epoch loss: 0.3368306128115944\n",
            "Epoch loss: 0.3367940249066476\n",
            "Epoch loss: 0.3367576338386217\n",
            "Epoch loss: 0.33672142673563826\n",
            "Epoch loss: 0.3366853915466082\n",
            "Epoch loss: 0.3366495170542833\n",
            "Epoch loss: 0.3366137928878705\n",
            "Epoch loss: 0.33657820953592066\n",
            "Epoch loss: 0.33654275836007386\n",
            "Epoch loss: 0.33650743160999996\n",
            "Epoch loss: 0.33647222243952657\n",
            "Epoch loss: 0.3364371249235923\n",
            "Epoch loss: 0.33640213407530206\n",
            "Epoch loss: 0.33636724586202665\n",
            "Epoch loss: 0.336332457219202\n",
            "Epoch loss: 0.33629776606024575\n",
            "Epoch loss: 0.33626317128085376\n",
            "Epoch loss: 0.33622867275586005\n",
            "Epoch loss: 0.3361942713268737\n",
            "Epoch loss: 0.33615996877903725\n",
            "Epoch loss: 0.33612576780551406\n",
            "Epoch loss: 0.33609167195867656\n",
            "Epoch loss: 0.33605768558745164\n",
            "Epoch loss: 0.3360238137608535\n",
            "Epoch loss: 0.3359900621783583\n",
            "Epoch loss: 0.3359564370684278\n",
            "Epoch loss: 0.3359229450771052\n",
            "Epoch loss: 0.33588959314915173\n",
            "Epoch loss: 0.33585638840460097\n",
            "Epoch loss: 0.3358233380138642\n",
            "Epoch loss: 0.3357904490745821\n",
            "Epoch loss: 0.33575772849329455\n",
            "Epoch loss: 0.3357251828747052\n",
            "Epoch loss: 0.3356928184208814\n",
            "Epoch loss: 0.3356606408422174\n",
            "Epoch loss: 0.3356286552814343\n",
            "Epoch loss: 0.3355968662513648\n",
            "Epoch loss: 0.335565277586815\n",
            "Epoch loss: 0.3355338924104218\n",
            "Epoch loss: 0.33550271311216145\n",
            "Epoch loss: 0.3354717413419804\n",
            "Epoch loss: 0.3354409780149127\n",
            "Epoch loss: 0.3354104233279623\n",
            "Epoch loss: 0.335380076787961\n",
            "Epoch loss: 0.33534993724952\n",
            "Epoch loss: 0.33532000296208286\n",
            "Epoch loss: 0.33529027162494957\n",
            "Epoch loss: 0.3352607404490014\n",
            "Epoch loss: 0.33523140622372394\n",
            "Epoch loss: 0.3352022653880318\n",
            "Epoch loss: 0.33517331410335627\n",
            "Epoch loss: 0.3351445483274734\n",
            "Epoch loss: 0.3351159638876359\n",
            "Epoch loss: 0.3350875565517073\n",
            "Epoch loss: 0.33505932209617084\n",
            "Epoch loss: 0.3350312563700888\n",
            "Epoch loss: 0.33500335535427683\n",
            "Epoch loss: 0.3349756152151467\n",
            "Epoch loss: 0.33494803235281245\n",
            "Epoch loss: 0.3349206034431742\n",
            "Epoch loss: 0.3348933254737551\n",
            "Epoch loss: 0.3348661957731079\n",
            "Epoch loss: 0.33483921203360845\n",
            "Epoch loss: 0.33481237232743966\n",
            "Epoch loss: 0.3347856751155598\n",
            "Epoch loss: 0.33475911924944074\n",
            "Epoch loss: 0.33473270396539306\n",
            "Epoch loss: 0.3347064288713576\n",
            "Epoch loss: 0.33468029392615767\n",
            "Epoch loss: 0.33465429941137587\n",
            "Epoch loss: 0.3346284458962338\n",
            "Epoch loss: 0.3346027341961153\n",
            "Epoch loss: 0.3345771653256535\n",
            "Epoch loss: 0.33455174044758584\n",
            "Epoch loss: 0.33452646081884124\n",
            "Epoch loss: 0.3345013277355249\n",
            "Epoch loss: 0.334476342478588\n",
            "Epoch loss: 0.33445150626199294\n",
            "Epoch loss: 0.33442682018508796\n",
            "Epoch loss: 0.33440228519070736\n",
            "Epoch loss: 0.33437790203020235\n",
            "Epoch loss: 0.3343536712362344\n",
            "Epoch loss: 0.33432959310373994\n",
            "Epoch loss: 0.33430566767904696\n",
            "Epoch loss: 0.33428189475672915\n",
            "Epoch loss: 0.33425827388344925\n",
            "Epoch loss: 0.3342348043677886\n",
            "Epoch loss: 0.3342114852949028\n",
            "Epoch loss: 0.33418831554478845\n",
            "Epoch loss: 0.3341652938129588\n",
            "Epoch loss: 0.3341424186324323\n",
            "Epoch loss: 0.3341196883960757\n",
            "Epoch loss: 0.33409710137852217\n",
            "Epoch loss: 0.3340746557570662\n",
            "Epoch loss: 0.33405234963111846\n",
            "Epoch loss: 0.3340301810399623\n",
            "Epoch loss: 0.3340081479786913\n",
            "Epoch loss: 0.33398624841231034\n",
            "Epoch loss: 0.33396448028806963\n",
            "Epoch loss: 0.3339428415461456\n",
            "Epoch loss: 0.3339213301288188\n",
            "Epoch loss: 0.33389994398831163\n",
            "Epoch loss: 0.3338786810934494\n",
            "Epoch loss: 0.33385753943529517\n",
            "Epoch loss: 0.3338365170319043\n",
            "Epoch loss: 0.33381561193231596\n",
            "Epoch loss: 0.33379482221989293\n",
            "Epoch loss: 0.33377414601509364\n",
            "Epoch loss: 0.3337535814777548\n",
            "Epoch loss: 0.33373312680894335\n",
            "Epoch loss: 0.33371278025242823\n",
            "Epoch loss: 0.33369254009581373\n",
            "Epoch loss: 0.3336724046713684\n",
            "Epoch loss: 0.33365237235657963\n",
            "Epoch loss: 0.33363244157445726\n",
            "Epoch loss: 0.33361261079361076\n",
            "Epoch loss: 0.33359287852811775\n",
            "Epoch loss: 0.3335732433372049\n",
            "Epoch loss: 0.3335537038247561\n",
            "Epoch loss: 0.333534258638666\n",
            "Epoch loss: 0.3335149064700546\n",
            "Epoch loss: 0.33349564605235665\n",
            "Epoch loss: 0.3334764761603022\n",
            "Epoch loss: 0.33345739560880105\n",
            "Epoch loss: 0.33343840325174556\n",
            "Epoch loss: 0.33341949798074194\n",
            "Epoch loss: 0.3334006787237875\n"
          ]
        }
      ]
    },
    {
      "cell_type": "code",
      "metadata": {
        "colab": {
          "base_uri": "https://localhost:8080/",
          "height": 286
        },
        "id": "X5ISJZNMr2sr",
        "outputId": "2c144492-0acb-4a63-a0c5-d7425c6738a3"
      },
      "source": [
        "## Plot the model performance\n",
        "plt.plot(np.arange(0, num_epochs, 1), mean_epoch_error_list)"
      ],
      "execution_count": 18,
      "outputs": [
        {
          "output_type": "execute_result",
          "data": {
            "text/plain": [
              "[<matplotlib.lines.Line2D at 0x7f605334c250>]"
            ]
          },
          "metadata": {},
          "execution_count": 18
        },
        {
          "output_type": "display_data",
          "data": {
            "image/png": "[encoded data removed]",
            "text/plain": [
              "<Figure size 432x288 with 1 Axes>"
            ]
          },
          "metadata": {
            "needs_background": "light"
          }
        }
      ]
    },
    {
      "cell_type": "markdown",
      "metadata": {
        "id": "yLo-C9W-o90c"
      },
      "source": [
        "## EXERCISE: \n",
        "### <span style=\"color:red\"> Deadline: 22/11/2021 <span>"
      ]
    },
    {
      "cell_type": "markdown",
      "metadata": {
        "id": "dWUlgcXJo90d"
      },
      "source": [
        "### load mnist data using\n",
        "#### mnist = tf.keras.datasets.mnist"
      ]
    },
    {
      "cell_type": "code",
      "metadata": {
        "colab": {
          "base_uri": "https://localhost:8080/"
        },
        "id": "EEJy9O9WpReY",
        "outputId": "3110cd29-d08b-42ca-df82-70e1d2de49a0"
      },
      "source": [
        "## load mnist data\n",
        "mnist = tf.keras.datasets.mnist\n",
        "(train_images, train_labels), (test_images, test_labels) = mnist.load_data()\n",
        "train_images = train_images / 255.0\n",
        "test_images = test_images / 255.0"
      ],
      "execution_count": 19,
      "outputs": [
        {
          "output_type": "stream",
          "name": "stdout",
          "text": [
            "Downloading data from https://storage.googleapis.com/tensorflow/tf-keras-datasets/mnist.npz\n",
            "11493376/11490434 [==============================] - 0s 0us/step\n",
            "11501568/11490434 [==============================] - 0s 0us/step\n"
          ]
        }
      ]
    },
    {
      "cell_type": "markdown",
      "metadata": {
        "id": "q6xqWWyZo90d"
      },
      "source": [
        "### Define the following hyper parameters\n",
        "#### Parameters to make a new neural network with the correct input and output sizes\n",
        "#### Learning rate\n",
        "#### number of layers\n",
        "#### number of epochs\n",
        "#### Refer to cell (8)"
      ]
    },
    {
      "cell_type": "code",
      "metadata": {
        "id": "RKKeemvFpWUg"
      },
      "source": [
        "## make a mlp to process them\n",
        "N = 784\n",
        "num_nes = [N, 40, 30, 20, 10]\n",
        "num_layers = len(num_nes) - 1\n",
        "learning_rate = 0.01\n",
        "num_epochs = 10\n",
        "threshold = 0.5"
      ],
      "execution_count": 20,
      "outputs": []
    },
    {
      "cell_type": "markdown",
      "metadata": {
        "id": "SV7Xgbnjo90d"
      },
      "source": [
        "#### Reuse the layer dictionaries, weight dictionary and bias dictionary in cells (8) and (9)"
      ]
    },
    {
      "cell_type": "code",
      "metadata": {
        "id": "7F6pqk0Gpfd7"
      },
      "source": [
        "## initialize the layer derivative and in out dicts\n",
        "## dict to hold neuron input-output pairs\n",
        "layer_in_out_dict = dict()\n",
        "## dict to hold the cost derivatives w.r.t to the params\n",
        "layer_derivative_dict = dict()\n",
        "## Initialize the weights\n",
        "## the dict to hold the layer weights and biases\n",
        "weight_dict = {'w'+str(i): np.random.normal(size=(num_nes[i+1], num_nes[i])) for i in range(num_layers)}\n",
        "bias_dict = {'b'+str(i): np.random.normal(size=(num_nes[i+1], 1)) for i in range(num_layers)}"
      ],
      "execution_count": 21,
      "outputs": []
    },
    {
      "cell_type": "markdown",
      "metadata": {
        "id": "5L4sJSeWo90e"
      },
      "source": [
        "### If necessary, write a function to onehot encode the scalar labels"
      ]
    },
    {
      "cell_type": "code",
      "metadata": {
        "id": "TAznoy8Epmd2"
      },
      "source": [
        "def onehot(label):\n",
        "    ## make an empty vector\n",
        "    onehot_label = np.zeros((num_nes[-1], 1))\n",
        "    onehot_label[label] = 1\n",
        "    return onehot_label"
      ],
      "execution_count": 22,
      "outputs": []
    },
    {
      "cell_type": "markdown",
      "metadata": {
        "id": "-GT_KAO1o90e"
      },
      "source": [
        "### Define a function to calculate the accuracy (Use a threshold value to determine the sigmoid firing at the output layer when calculating the accuracy (This is because of the sigmoid function, If we use softmax, the logits are normalised so taking the maximum of the activation gives the predicted class))"
      ]
    },
    {
      "cell_type": "code",
      "metadata": {
        "id": "fOZNrGakprgw"
      },
      "source": [
        "def accuracy(preds, target, is_validation=False):\n",
        "    ## threshold the predictions to 0,1\n",
        "    #print(targets.shape)\n",
        "    #print(preds > 0.1)\n",
        "    positive_preds = 0\n",
        "    for i in range(preds.shape[1]):\n",
        "        ## current pred boolean\n",
        "        # since sigmoid, NOT softmax, we index from the prediction vector\n",
        "        # using the target label and use a threshold value to determine\n",
        "        # if the prediction is good. This method is only suitable for \n",
        "        # a binary classification case (class is true or false, 0 or 1),\n",
        "        # not for the multiclass classification\n",
        "        if is_validation:\n",
        "            pred = preds[i][target[i]] > threshold\n",
        "        else:\n",
        "            pred = preds[target] > threshold\n",
        "        if pred:\n",
        "            positive_preds += 1\n",
        "    return positive_preds / preds.shape[1]"
      ],
      "execution_count": 23,
      "outputs": []
    },
    {
      "cell_type": "markdown",
      "metadata": {
        "id": "sF6sQ4NLo90e"
      },
      "source": [
        "### Train the neural network and plot the following (Extend the cell (18) accordingly)\n",
        "#### For validation directly use the test set\n",
        "#### Mean train error per epoch (Plot for all the epochs)\n",
        "#### Mean validation error per epoch (Plot for all the epochs)\n",
        "#### Mean train accuracy per epoch (Plot for all the epochs)\n",
        "#### Mean validation accuracy per epoch (Plot for all the epochs)"
      ]
    },
    {
      "cell_type": "code",
      "metadata": {
        "id": "deXEZ17nqBAB"
      },
      "source": [
        "def infer(inputs):\n",
        "    pred_list = list()\n",
        "    for i in range(inputs.shape[0]):\n",
        "        inp = np.expand_dims(inputs[i].flatten(), 1)\n",
        "        #print(inp.shape)\n",
        "        pred = predict(inp)\n",
        "        #print(pred.shape)\n",
        "        pred_list.append(np.swapaxes(pred, 0, 1))\n",
        "    #print(np.array(pred_list).shape)\n",
        "    return np.squeeze(np.swapaxes(np.array(pred_list), 0, 1), 0)"
      ],
      "execution_count": 25,
      "outputs": []
    },
    {
      "cell_type": "code",
      "metadata": {
        "id": "KAxjdmBVr5PB",
        "colab": {
          "base_uri": "https://localhost:8080/"
        },
        "outputId": "83be5e98-0842-49ce-8a5a-548a06f78e13"
      },
      "source": [
        "mean_epoch_error_list = list()\n",
        "mean_epoch_train_accuracy_list = list()\n",
        "mean_epoch_test_accuracy_list = list()\n",
        "for e in range(num_epochs):\n",
        "    epoch_loss_list = list()\n",
        "    train_epoch_accuracy_list = list()\n",
        "    for i in range(train_images.shape[0]):\n",
        "        inp = np.expand_dims(train_images[i].flatten(), 1)\n",
        "        #print(inp.shape)\n",
        "        out_true = onehot(train_labels[i])\n",
        "        #print(out_true.shape)\n",
        "        compute_grads(inp, out_true)\n",
        "        update_param()\n",
        "        out = predict(inp)\n",
        "        error = np.mean(mse(out, out_true))\n",
        "        epoch_loss_list.append(error)\n",
        "        train_sample_accuracy = accuracy(out, train_labels[i])\n",
        "        train_epoch_accuracy_list.append(train_sample_accuracy)\n",
        "    \n",
        "    mean_epoch_error = np.mean(np.array(epoch_loss_list))\n",
        "    mean_epoch_error_list.append(mean_epoch_error)\n",
        "\n",
        "    mean_epoch_train_accuracy = np.mean(np.array(train_epoch_accuracy_list))\n",
        "    mean_epoch_train_accuracy_list.append(mean_epoch_train_accuracy)\n",
        "    print(\"Epoch loss: {}\".format(mean_epoch_error))\n",
        "    print(\"Train accuracy: {}\".format(mean_epoch_train_accuracy * 100.0))\n",
        "    \n",
        "    ## do a validation and get the accuracy\n",
        "    test_preds = infer(test_images)\n",
        "    #print(test_preds.shape)\n",
        "    test_accuracy = accuracy(test_preds, test_labels, is_validation=True)\n",
        "    mean_epoch_test_accuracy_list.append(test_accuracy)\n",
        "    print(\"Test accuracy: {}\".format(test_accuracy * 100.0))\n",
        "    print(\"\")"
      ],
      "execution_count": 26,
      "outputs": [
        {
          "output_type": "stream",
          "name": "stdout",
          "text": [
            "Epoch loss: 0.029906878477864492\n",
            "Train accuracy: 29.93166666666667\n",
            "Test accuracy: 50.0\n",
            "\n",
            "Epoch loss: 0.022856540111716124\n",
            "Train accuracy: 51.65833333333333\n",
            "Test accuracy: 50.0\n",
            "\n",
            "Epoch loss: 0.01844107550813689\n",
            "Train accuracy: 63.685\n",
            "Test accuracy: 70.0\n",
            "\n",
            "Epoch loss: 0.014964722703689782\n",
            "Train accuracy: 74.44833333333334\n",
            "Test accuracy: 70.0\n",
            "\n",
            "Epoch loss: 0.012667209432436311\n",
            "Train accuracy: 79.58666666666666\n",
            "Test accuracy: 80.0\n",
            "\n",
            "Epoch loss: 0.011153577988140264\n",
            "Train accuracy: 82.34666666666666\n",
            "Test accuracy: 80.0\n",
            "\n",
            "Epoch loss: 0.010078882154366314\n",
            "Train accuracy: 84.23\n",
            "Test accuracy: 80.0\n",
            "\n",
            "Epoch loss: 0.009285365548968983\n",
            "Train accuracy: 85.51166666666667\n",
            "Test accuracy: 80.0\n",
            "\n",
            "Epoch loss: 0.008679885830534678\n",
            "Train accuracy: 86.53166666666667\n",
            "Test accuracy: 90.0\n",
            "\n",
            "Epoch loss: 0.008190965879920905\n",
            "Train accuracy: 87.35000000000001\n",
            "Test accuracy: 90.0\n",
            "\n"
          ]
        }
      ]
    },
    {
      "cell_type": "code",
      "metadata": {
        "colab": {
          "base_uri": "https://localhost:8080/",
          "height": 282
        },
        "id": "cQglpe7-pze3",
        "outputId": "2c05c821-48bb-4fa9-8415-254a96a616c4"
      },
      "source": [
        "plt.plot(np.arange(0, num_epochs, 1), mean_epoch_error_list) # Train error; try yourself the validation error"
      ],
      "execution_count": 27,
      "outputs": [
        {
          "output_type": "execute_result",
          "data": {
            "text/plain": [
              "[<matplotlib.lines.Line2D at 0x7f6049c7ac90>]"
            ]
          },
          "metadata": {},
          "execution_count": 27
        },
        {
          "output_type": "display_data",
          "data": {
            "image/png": "[encoded data removed]",
            "text/plain": [
              "<Figure size 432x288 with 1 Axes>"
            ]
          },
          "metadata": {
            "needs_background": "light"
          }
        }
      ]
    },
    {
      "cell_type": "code",
      "metadata": {
        "colab": {
          "base_uri": "https://localhost:8080/",
          "height": 286
        },
        "id": "P6omsVy8r7Bu",
        "outputId": "a94ef6c5-4ae2-4c35-824b-ece30ca50c29"
      },
      "source": [
        "plt.plot(np.arange(0, num_epochs, 1), mean_epoch_train_accuracy_list)"
      ],
      "execution_count": 28,
      "outputs": [
        {
          "output_type": "execute_result",
          "data": {
            "text/plain": [
              "[<matplotlib.lines.Line2D at 0x7f6049c34e10>]"
            ]
          },
          "metadata": {},
          "execution_count": 28
        },
        {
          "output_type": "display_data",
          "data": {
            "image/png": "[encoded data removed]",
            "text/plain": [
              "<Figure size 432x288 with 1 Axes>"
            ]
          },
          "metadata": {
            "needs_background": "light"
          }
        }
      ]
    },
    {
      "cell_type": "code",
      "metadata": {
        "colab": {
          "base_uri": "https://localhost:8080/",
          "height": 282
        },
        "id": "v9J1UzDVseQG",
        "outputId": "9885e665-8c79-4f53-944b-4b2a718e8d0a"
      },
      "source": [
        "plt.plot(np.arange(0, num_epochs, 1), mean_epoch_test_accuracy_list)"
      ],
      "execution_count": 29,
      "outputs": [
        {
          "output_type": "execute_result",
          "data": {
            "text/plain": [
              "[<matplotlib.lines.Line2D at 0x7f6049b27790>]"
            ]
          },
          "metadata": {},
          "execution_count": 29
        },
        {
          "output_type": "display_data",
          "data": {
            "image/png": "[encoded data removed]",
            "text/plain": [
              "<Figure size 432x288 with 1 Axes>"
            ]
          },
          "metadata": {
            "needs_background": "light"
          }
        }
      ]
    },
    {
      "cell_type": "code",
      "metadata": {
        "colab": {
          "base_uri": "https://localhost:8080/",
          "height": 282
        },
        "id": "I3j8qtSCskyb",
        "outputId": "780417b7-c64c-4bcf-c115-bb2fa961686c"
      },
      "source": [
        "# How sigmoid prime looks like\n",
        "## check the sigmoid prime\n",
        "X = np.arange(-10, 10, 0.01)\n",
        "sp = list(map(lambda x: sigmoid_prime(x), X))\n",
        "plt.plot(X, sp)"
      ],
      "execution_count": 30,
      "outputs": [
        {
          "output_type": "execute_result",
          "data": {
            "text/plain": [
              "[<matplotlib.lines.Line2D at 0x7f6049ab31d0>]"
            ]
          },
          "metadata": {},
          "execution_count": 30
        },
        {
          "output_type": "display_data",
          "data": {
            "image/png": "[encoded data removed]",
            "text/plain": [
              "<Figure size 432x288 with 1 Axes>"
            ]
          },
          "metadata": {
            "needs_background": "light"
          }
        }
      ]
    },
    {
      "cell_type": "code",
      "metadata": {
        "colab": {
          "base_uri": "https://localhost:8080/",
          "height": 285
        },
        "id": "yNDhsLZfsqzW",
        "outputId": "a811e7b3-13f5-4c36-b02e-555f7e31ed78"
      },
      "source": [
        "print(train_images[2].shape)\n",
        "figure, ax = plt.subplots(3, 3)\n",
        "ax[0, 0].imshow(train_images[0], cmap='gray')\n",
        "ax[0, 1].imshow(train_images[1], cmap='gray')\n",
        "ax[0, 2].imshow(train_images[1], cmap='gray')\n",
        "ax[1, 0].imshow(train_images[2], cmap='gray')\n",
        "ax[1, 1].imshow(train_images[3], cmap='gray')\n",
        "ax[1, 2].imshow(train_images[4], cmap='gray')\n",
        "ax[2, 0].imshow(train_images[5], cmap='gray')\n",
        "ax[2, 1].imshow(train_images[6], cmap='gray')\n",
        "ax[2, 2].imshow(train_images[7], cmap='gray')\n",
        "plt.show()"
      ],
      "execution_count": 33,
      "outputs": [
        {
          "output_type": "stream",
          "name": "stdout",
          "text": [
            "(28, 28)\n"
          ]
        },
        {
          "output_type": "display_data",
          "data": {
            "image/png": "[encoded data removed]",
            "text/plain": [
              "<Figure size 432x288 with 9 Axes>"
            ]
          },
          "metadata": {
            "needs_background": "light"
          }
        }
      ]
    },
    {
      "cell_type": "code",
      "metadata": {
        "colab": {
          "base_uri": "https://localhost:8080/",
          "height": 282
        },
        "id": "KqQfla5nswCr",
        "outputId": "8e735a8a-ef20-48d0-b1ff-6c29155c573c"
      },
      "source": [
        "# check if the 9 is classified correctly\n",
        "plt.imshow(train_images[17], cmap='gray')"
      ],
      "execution_count": 34,
      "outputs": [
        {
          "output_type": "execute_result",
          "data": {
            "text/plain": [
              "<matplotlib.image.AxesImage at 0x7f6049852990>"
            ]
          },
          "metadata": {},
          "execution_count": 34
        },
        {
          "output_type": "display_data",
          "data": {
            "image/png": "[encoded data removed]",
            "text/plain": [
              "<Figure size 432x288 with 1 Axes>"
            ]
          },
          "metadata": {
            "needs_background": "light"
          }
        }
      ]
    },
    {
      "cell_type": "code",
      "metadata": {
        "colab": {
          "base_uri": "https://localhost:8080/"
        },
        "id": "2jB6N6qatFV7",
        "outputId": "b53c7423-ee50-4ef6-a186-ab75408641ca"
      },
      "source": [
        "inp = np.expand_dims(train_images[17].flatten(), 1)\n",
        "print(inp.shape)\n",
        "out = predict(inp)\n",
        "print(np.argmax(out))"
      ],
      "execution_count": 35,
      "outputs": [
        {
          "output_type": "stream",
          "name": "stdout",
          "text": [
            "(784, 1)\n",
            "8\n"
          ]
        }
      ]
    },
    {
      "cell_type": "code",
      "metadata": {
        "colab": {
          "base_uri": "https://localhost:8080/"
        },
        "id": "0OG5cTF-tIKM",
        "outputId": "9412d1e0-937e-411f-a92e-ba9bd2eb10c0"
      },
      "source": [
        "# layer analysis\n",
        "for j in range(len(num_nes)-1):\n",
        "    for i, val in enumerate(layer_derivative_dict['dw'+str(j)]):\n",
        "        #print(val)\n",
        "        #print(i+1)\n",
        "        ## count the neurons which has zero gradient; zero gradients means no updates happending at that neuron\n",
        "        zero_grads = len(list(filter(lambda x: True if x < 1e-10 else False, val)))\n",
        "        print(\"Neuron ID: {}, number of zero gradients: {} out of {}\".format(i+1, zero_grads, len(val)))\n",
        "    print()"
      ],
      "execution_count": 36,
      "outputs": [
        {
          "output_type": "stream",
          "name": "stdout",
          "text": [
            "Neuron ID: 1, number of zero gradients: 784 out of 784\n",
            "Neuron ID: 2, number of zero gradients: 784 out of 784\n",
            "Neuron ID: 3, number of zero gradients: 784 out of 784\n",
            "Neuron ID: 4, number of zero gradients: 784 out of 784\n",
            "Neuron ID: 5, number of zero gradients: 671 out of 784\n",
            "Neuron ID: 6, number of zero gradients: 784 out of 784\n",
            "Neuron ID: 7, number of zero gradients: 784 out of 784\n",
            "Neuron ID: 8, number of zero gradients: 641 out of 784\n",
            "Neuron ID: 9, number of zero gradients: 641 out of 784\n",
            "Neuron ID: 10, number of zero gradients: 641 out of 784\n",
            "Neuron ID: 11, number of zero gradients: 784 out of 784\n",
            "Neuron ID: 12, number of zero gradients: 784 out of 784\n",
            "Neuron ID: 13, number of zero gradients: 784 out of 784\n",
            "Neuron ID: 14, number of zero gradients: 641 out of 784\n",
            "Neuron ID: 15, number of zero gradients: 784 out of 784\n",
            "Neuron ID: 16, number of zero gradients: 641 out of 784\n",
            "Neuron ID: 17, number of zero gradients: 674 out of 784\n",
            "Neuron ID: 18, number of zero gradients: 784 out of 784\n",
            "Neuron ID: 19, number of zero gradients: 641 out of 784\n",
            "Neuron ID: 20, number of zero gradients: 784 out of 784\n",
            "Neuron ID: 21, number of zero gradients: 784 out of 784\n",
            "Neuron ID: 22, number of zero gradients: 653 out of 784\n",
            "Neuron ID: 23, number of zero gradients: 784 out of 784\n",
            "Neuron ID: 24, number of zero gradients: 641 out of 784\n",
            "Neuron ID: 25, number of zero gradients: 784 out of 784\n",
            "Neuron ID: 26, number of zero gradients: 784 out of 784\n",
            "Neuron ID: 27, number of zero gradients: 784 out of 784\n",
            "Neuron ID: 28, number of zero gradients: 641 out of 784\n",
            "Neuron ID: 29, number of zero gradients: 646 out of 784\n",
            "Neuron ID: 30, number of zero gradients: 641 out of 784\n",
            "Neuron ID: 31, number of zero gradients: 784 out of 784\n",
            "Neuron ID: 32, number of zero gradients: 784 out of 784\n",
            "Neuron ID: 33, number of zero gradients: 784 out of 784\n",
            "Neuron ID: 34, number of zero gradients: 784 out of 784\n",
            "Neuron ID: 35, number of zero gradients: 784 out of 784\n",
            "Neuron ID: 36, number of zero gradients: 784 out of 784\n",
            "Neuron ID: 37, number of zero gradients: 641 out of 784\n",
            "Neuron ID: 38, number of zero gradients: 641 out of 784\n",
            "Neuron ID: 39, number of zero gradients: 641 out of 784\n",
            "Neuron ID: 40, number of zero gradients: 784 out of 784\n",
            "\n",
            "Neuron ID: 1, number of zero gradients: 40 out of 40\n",
            "Neuron ID: 2, number of zero gradients: 5 out of 40\n",
            "Neuron ID: 3, number of zero gradients: 5 out of 40\n",
            "Neuron ID: 4, number of zero gradients: 5 out of 40\n",
            "Neuron ID: 5, number of zero gradients: 40 out of 40\n",
            "Neuron ID: 6, number of zero gradients: 5 out of 40\n",
            "Neuron ID: 7, number of zero gradients: 40 out of 40\n",
            "Neuron ID: 8, number of zero gradients: 5 out of 40\n",
            "Neuron ID: 9, number of zero gradients: 4 out of 40\n",
            "Neuron ID: 10, number of zero gradients: 6 out of 40\n",
            "Neuron ID: 11, number of zero gradients: 4 out of 40\n",
            "Neuron ID: 12, number of zero gradients: 2 out of 40\n",
            "Neuron ID: 13, number of zero gradients: 40 out of 40\n",
            "Neuron ID: 14, number of zero gradients: 40 out of 40\n",
            "Neuron ID: 15, number of zero gradients: 40 out of 40\n",
            "Neuron ID: 16, number of zero gradients: 5 out of 40\n",
            "Neuron ID: 17, number of zero gradients: 40 out of 40\n",
            "Neuron ID: 18, number of zero gradients: 40 out of 40\n",
            "Neuron ID: 19, number of zero gradients: 4 out of 40\n",
            "Neuron ID: 20, number of zero gradients: 5 out of 40\n",
            "Neuron ID: 21, number of zero gradients: 5 out of 40\n",
            "Neuron ID: 22, number of zero gradients: 40 out of 40\n",
            "Neuron ID: 23, number of zero gradients: 5 out of 40\n",
            "Neuron ID: 24, number of zero gradients: 40 out of 40\n",
            "Neuron ID: 25, number of zero gradients: 5 out of 40\n",
            "Neuron ID: 26, number of zero gradients: 40 out of 40\n",
            "Neuron ID: 27, number of zero gradients: 40 out of 40\n",
            "Neuron ID: 28, number of zero gradients: 40 out of 40\n",
            "Neuron ID: 29, number of zero gradients: 40 out of 40\n",
            "Neuron ID: 30, number of zero gradients: 5 out of 40\n",
            "\n",
            "Neuron ID: 1, number of zero gradients: 30 out of 30\n",
            "Neuron ID: 2, number of zero gradients: 1 out of 30\n",
            "Neuron ID: 3, number of zero gradients: 0 out of 30\n",
            "Neuron ID: 4, number of zero gradients: 0 out of 30\n",
            "Neuron ID: 5, number of zero gradients: 0 out of 30\n",
            "Neuron ID: 6, number of zero gradients: 30 out of 30\n",
            "Neuron ID: 7, number of zero gradients: 30 out of 30\n",
            "Neuron ID: 8, number of zero gradients: 30 out of 30\n",
            "Neuron ID: 9, number of zero gradients: 30 out of 30\n",
            "Neuron ID: 10, number of zero gradients: 30 out of 30\n",
            "Neuron ID: 11, number of zero gradients: 30 out of 30\n",
            "Neuron ID: 12, number of zero gradients: 30 out of 30\n",
            "Neuron ID: 13, number of zero gradients: 30 out of 30\n",
            "Neuron ID: 14, number of zero gradients: 30 out of 30\n",
            "Neuron ID: 15, number of zero gradients: 0 out of 30\n",
            "Neuron ID: 16, number of zero gradients: 1 out of 30\n",
            "Neuron ID: 17, number of zero gradients: 30 out of 30\n",
            "Neuron ID: 18, number of zero gradients: 30 out of 30\n",
            "Neuron ID: 19, number of zero gradients: 30 out of 30\n",
            "Neuron ID: 20, number of zero gradients: 0 out of 30\n",
            "\n",
            "Neuron ID: 1, number of zero gradients: 0 out of 20\n",
            "Neuron ID: 2, number of zero gradients: 0 out of 20\n",
            "Neuron ID: 3, number of zero gradients: 0 out of 20\n",
            "Neuron ID: 4, number of zero gradients: 0 out of 20\n",
            "Neuron ID: 5, number of zero gradients: 0 out of 20\n",
            "Neuron ID: 6, number of zero gradients: 0 out of 20\n",
            "Neuron ID: 7, number of zero gradients: 0 out of 20\n",
            "Neuron ID: 8, number of zero gradients: 0 out of 20\n",
            "Neuron ID: 9, number of zero gradients: 20 out of 20\n",
            "Neuron ID: 10, number of zero gradients: 0 out of 20\n",
            "\n"
          ]
        }
      ]
    },
    {
      "cell_type": "code",
      "metadata": {
        "id": "Cht8xU-xtM7u"
      },
      "source": [
        ""
      ],
      "execution_count": null,
      "outputs": []
    }
  ]
}